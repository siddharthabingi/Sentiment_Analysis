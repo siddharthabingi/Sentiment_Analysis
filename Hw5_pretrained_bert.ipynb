{
 "cells": [
  {
   "cell_type": "markdown",
   "metadata": {
    "id": "kBwCQG0GYkVy"
   },
   "source": [
    "Adapted from  https://mccormickml.com/tutorials/"
   ]
  },
  {
   "cell_type": "markdown",
   "metadata": {
    "id": "EKOTlwcmxmej"
   },
   "source": [
    "# BERT Fine-Tuning for Sentiment Analysis\n",
    "\n",
    "•\tUse pre-trained Bert Model. We will not fine tune BERT in this task, which mean we will freeze the weights of pretrained Bert Model. We will just add classification layer on top of Bert Model.  Report accuracy of your model for following tokenization approaches"
   ]
  },
  {
   "cell_type": "code",
   "execution_count": 1,
   "metadata": {
    "colab": {
     "base_uri": "https://localhost:8080/"
    },
    "id": "0NmMdkZO8R6q",
    "outputId": "9c73d593-f9cd-4422-a719-ec6668351202"
   },
   "outputs": [
    {
     "name": "stdout",
     "output_type": "stream",
     "text": [
      "Collecting transformers\n",
      "\u001b[?25l  Downloading https://files.pythonhosted.org/packages/3a/83/e74092e7f24a08d751aa59b37a9fc572b2e4af3918cb66f7766c3affb1b4/transformers-3.5.1-py3-none-any.whl (1.3MB)\n",
      "\r",
      "\u001b[K     |▎                               | 10kB 19.4MB/s eta 0:00:01\r",
      "\u001b[K     |▌                               | 20kB 14.8MB/s eta 0:00:01\r",
      "\u001b[K     |▊                               | 30kB 14.0MB/s eta 0:00:01\r",
      "\u001b[K     |█                               | 40kB 13.3MB/s eta 0:00:01\r",
      "\u001b[K     |█▎                              | 51kB 8.8MB/s eta 0:00:01\r",
      "\u001b[K     |█▌                              | 61kB 8.1MB/s eta 0:00:01\r",
      "\u001b[K     |█▊                              | 71kB 9.1MB/s eta 0:00:01\r",
      "\u001b[K     |██                              | 81kB 10.0MB/s eta 0:00:01\r",
      "\u001b[K     |██▎                             | 92kB 9.8MB/s eta 0:00:01\r",
      "\u001b[K     |██▌                             | 102kB 8.4MB/s eta 0:00:01\r",
      "\u001b[K     |██▊                             | 112kB 8.4MB/s eta 0:00:01\r",
      "\u001b[K     |███                             | 122kB 8.4MB/s eta 0:00:01\r",
      "\u001b[K     |███▎                            | 133kB 8.4MB/s eta 0:00:01\r",
      "\u001b[K     |███▌                            | 143kB 8.4MB/s eta 0:00:01\r",
      "\u001b[K     |███▉                            | 153kB 8.4MB/s eta 0:00:01\r",
      "\u001b[K     |████                            | 163kB 8.4MB/s eta 0:00:01\r",
      "\u001b[K     |████▎                           | 174kB 8.4MB/s eta 0:00:01\r",
      "\u001b[K     |████▌                           | 184kB 8.4MB/s eta 0:00:01\r",
      "\u001b[K     |████▉                           | 194kB 8.4MB/s eta 0:00:01\r",
      "\u001b[K     |█████                           | 204kB 8.4MB/s eta 0:00:01\r",
      "\u001b[K     |█████▎                          | 215kB 8.4MB/s eta 0:00:01\r",
      "\u001b[K     |█████▌                          | 225kB 8.4MB/s eta 0:00:01\r",
      "\u001b[K     |█████▉                          | 235kB 8.4MB/s eta 0:00:01\r",
      "\u001b[K     |██████                          | 245kB 8.4MB/s eta 0:00:01\r",
      "\u001b[K     |██████▎                         | 256kB 8.4MB/s eta 0:00:01\r",
      "\u001b[K     |██████▌                         | 266kB 8.4MB/s eta 0:00:01\r",
      "\u001b[K     |██████▉                         | 276kB 8.4MB/s eta 0:00:01\r",
      "\u001b[K     |███████                         | 286kB 8.4MB/s eta 0:00:01\r",
      "\u001b[K     |███████▎                        | 296kB 8.4MB/s eta 0:00:01\r",
      "\u001b[K     |███████▋                        | 307kB 8.4MB/s eta 0:00:01\r",
      "\u001b[K     |███████▉                        | 317kB 8.4MB/s eta 0:00:01\r",
      "\u001b[K     |████████                        | 327kB 8.4MB/s eta 0:00:01\r",
      "\u001b[K     |████████▎                       | 337kB 8.4MB/s eta 0:00:01\r",
      "\u001b[K     |████████▋                       | 348kB 8.4MB/s eta 0:00:01\r",
      "\u001b[K     |████████▉                       | 358kB 8.4MB/s eta 0:00:01\r",
      "\u001b[K     |█████████                       | 368kB 8.4MB/s eta 0:00:01\r",
      "\u001b[K     |█████████▎                      | 378kB 8.4MB/s eta 0:00:01\r",
      "\u001b[K     |█████████▋                      | 389kB 8.4MB/s eta 0:00:01\r",
      "\u001b[K     |█████████▉                      | 399kB 8.4MB/s eta 0:00:01\r",
      "\u001b[K     |██████████                      | 409kB 8.4MB/s eta 0:00:01\r",
      "\u001b[K     |██████████▎                     | 419kB 8.4MB/s eta 0:00:01\r",
      "\u001b[K     |██████████▋                     | 430kB 8.4MB/s eta 0:00:01\r",
      "\u001b[K     |██████████▉                     | 440kB 8.4MB/s eta 0:00:01\r",
      "\u001b[K     |███████████                     | 450kB 8.4MB/s eta 0:00:01\r",
      "\u001b[K     |███████████▍                    | 460kB 8.4MB/s eta 0:00:01\r",
      "\u001b[K     |███████████▋                    | 471kB 8.4MB/s eta 0:00:01\r",
      "\u001b[K     |███████████▉                    | 481kB 8.4MB/s eta 0:00:01\r",
      "\u001b[K     |████████████                    | 491kB 8.4MB/s eta 0:00:01\r",
      "\u001b[K     |████████████▍                   | 501kB 8.4MB/s eta 0:00:01\r",
      "\u001b[K     |████████████▋                   | 512kB 8.4MB/s eta 0:00:01\r",
      "\u001b[K     |████████████▉                   | 522kB 8.4MB/s eta 0:00:01\r",
      "\u001b[K     |█████████████                   | 532kB 8.4MB/s eta 0:00:01\r",
      "\u001b[K     |█████████████▍                  | 542kB 8.4MB/s eta 0:00:01\r",
      "\u001b[K     |█████████████▋                  | 552kB 8.4MB/s eta 0:00:01\r",
      "\u001b[K     |█████████████▉                  | 563kB 8.4MB/s eta 0:00:01\r",
      "\u001b[K     |██████████████                  | 573kB 8.4MB/s eta 0:00:01\r",
      "\u001b[K     |██████████████▍                 | 583kB 8.4MB/s eta 0:00:01\r",
      "\u001b[K     |██████████████▋                 | 593kB 8.4MB/s eta 0:00:01\r",
      "\u001b[K     |██████████████▉                 | 604kB 8.4MB/s eta 0:00:01\r",
      "\u001b[K     |███████████████▏                | 614kB 8.4MB/s eta 0:00:01\r",
      "\u001b[K     |███████████████▍                | 624kB 8.4MB/s eta 0:00:01\r",
      "\u001b[K     |███████████████▋                | 634kB 8.4MB/s eta 0:00:01\r",
      "\u001b[K     |███████████████▉                | 645kB 8.4MB/s eta 0:00:01\r",
      "\u001b[K     |████████████████▏               | 655kB 8.4MB/s eta 0:00:01\r",
      "\u001b[K     |████████████████▍               | 665kB 8.4MB/s eta 0:00:01\r",
      "\u001b[K     |████████████████▋               | 675kB 8.4MB/s eta 0:00:01\r",
      "\u001b[K     |████████████████▉               | 686kB 8.4MB/s eta 0:00:01\r",
      "\u001b[K     |█████████████████▏              | 696kB 8.4MB/s eta 0:00:01\r",
      "\u001b[K     |█████████████████▍              | 706kB 8.4MB/s eta 0:00:01\r",
      "\u001b[K     |█████████████████▋              | 716kB 8.4MB/s eta 0:00:01\r",
      "\u001b[K     |██████████████████              | 727kB 8.4MB/s eta 0:00:01\r",
      "\u001b[K     |██████████████████▏             | 737kB 8.4MB/s eta 0:00:01\r",
      "\u001b[K     |██████████████████▍             | 747kB 8.4MB/s eta 0:00:01\r",
      "\u001b[K     |██████████████████▋             | 757kB 8.4MB/s eta 0:00:01\r",
      "\u001b[K     |███████████████████             | 768kB 8.4MB/s eta 0:00:01\r",
      "\u001b[K     |███████████████████▏            | 778kB 8.4MB/s eta 0:00:01\r",
      "\u001b[K     |███████████████████▍            | 788kB 8.4MB/s eta 0:00:01\r",
      "\u001b[K     |███████████████████▋            | 798kB 8.4MB/s eta 0:00:01\r",
      "\u001b[K     |████████████████████            | 808kB 8.4MB/s eta 0:00:01\r",
      "\u001b[K     |████████████████████▏           | 819kB 8.4MB/s eta 0:00:01\r",
      "\u001b[K     |████████████████████▍           | 829kB 8.4MB/s eta 0:00:01\r",
      "\u001b[K     |████████████████████▋           | 839kB 8.4MB/s eta 0:00:01\r",
      "\u001b[K     |█████████████████████           | 849kB 8.4MB/s eta 0:00:01\r",
      "\u001b[K     |█████████████████████▏          | 860kB 8.4MB/s eta 0:00:01\r",
      "\u001b[K     |█████████████████████▍          | 870kB 8.4MB/s eta 0:00:01\r",
      "\u001b[K     |█████████████████████▊          | 880kB 8.4MB/s eta 0:00:01\r",
      "\u001b[K     |██████████████████████          | 890kB 8.4MB/s eta 0:00:01\r",
      "\u001b[K     |██████████████████████▏         | 901kB 8.4MB/s eta 0:00:01\r",
      "\u001b[K     |██████████████████████▍         | 911kB 8.4MB/s eta 0:00:01\r",
      "\u001b[K     |██████████████████████▊         | 921kB 8.4MB/s eta 0:00:01\r",
      "\u001b[K     |███████████████████████         | 931kB 8.4MB/s eta 0:00:01\r",
      "\u001b[K     |███████████████████████▏        | 942kB 8.4MB/s eta 0:00:01\r",
      "\u001b[K     |███████████████████████▍        | 952kB 8.4MB/s eta 0:00:01\r",
      "\u001b[K     |███████████████████████▊        | 962kB 8.4MB/s eta 0:00:01\r",
      "\u001b[K     |████████████████████████        | 972kB 8.4MB/s eta 0:00:01\r",
      "\u001b[K     |████████████████████████▏       | 983kB 8.4MB/s eta 0:00:01\r",
      "\u001b[K     |████████████████████████▍       | 993kB 8.4MB/s eta 0:00:01\r",
      "\u001b[K     |████████████████████████▊       | 1.0MB 8.4MB/s eta 0:00:01\r",
      "\u001b[K     |█████████████████████████       | 1.0MB 8.4MB/s eta 0:00:01\r",
      "\u001b[K     |█████████████████████████▏      | 1.0MB 8.4MB/s eta 0:00:01\r",
      "\u001b[K     |█████████████████████████▌      | 1.0MB 8.4MB/s eta 0:00:01\r",
      "\u001b[K     |█████████████████████████▊      | 1.0MB 8.4MB/s eta 0:00:01\r",
      "\u001b[K     |██████████████████████████      | 1.1MB 8.4MB/s eta 0:00:01\r",
      "\u001b[K     |██████████████████████████▏     | 1.1MB 8.4MB/s eta 0:00:01\r",
      "\u001b[K     |██████████████████████████▌     | 1.1MB 8.4MB/s eta 0:00:01\r",
      "\u001b[K     |██████████████████████████▊     | 1.1MB 8.4MB/s eta 0:00:01\r",
      "\u001b[K     |███████████████████████████     | 1.1MB 8.4MB/s eta 0:00:01\r",
      "\u001b[K     |███████████████████████████▏    | 1.1MB 8.4MB/s eta 0:00:01\r",
      "\u001b[K     |███████████████████████████▌    | 1.1MB 8.4MB/s eta 0:00:01\r",
      "\u001b[K     |███████████████████████████▊    | 1.1MB 8.4MB/s eta 0:00:01\r",
      "\u001b[K     |████████████████████████████    | 1.1MB 8.4MB/s eta 0:00:01\r",
      "\u001b[K     |████████████████████████████▏   | 1.1MB 8.4MB/s eta 0:00:01\r",
      "\u001b[K     |████████████████████████████▌   | 1.2MB 8.4MB/s eta 0:00:01\r",
      "\u001b[K     |████████████████████████████▊   | 1.2MB 8.4MB/s eta 0:00:01\r",
      "\u001b[K     |█████████████████████████████   | 1.2MB 8.4MB/s eta 0:00:01\r",
      "\u001b[K     |█████████████████████████████▎  | 1.2MB 8.4MB/s eta 0:00:01\r",
      "\u001b[K     |█████████████████████████████▌  | 1.2MB 8.4MB/s eta 0:00:01\r",
      "\u001b[K     |█████████████████████████████▊  | 1.2MB 8.4MB/s eta 0:00:01\r",
      "\u001b[K     |██████████████████████████████  | 1.2MB 8.4MB/s eta 0:00:01\r",
      "\u001b[K     |██████████████████████████████▎ | 1.2MB 8.4MB/s eta 0:00:01\r",
      "\u001b[K     |██████████████████████████████▌ | 1.2MB 8.4MB/s eta 0:00:01\r",
      "\u001b[K     |██████████████████████████████▊ | 1.2MB 8.4MB/s eta 0:00:01\r",
      "\u001b[K     |███████████████████████████████ | 1.3MB 8.4MB/s eta 0:00:01\r",
      "\u001b[K     |███████████████████████████████▎| 1.3MB 8.4MB/s eta 0:00:01\r",
      "\u001b[K     |███████████████████████████████▌| 1.3MB 8.4MB/s eta 0:00:01\r",
      "\u001b[K     |███████████████████████████████▊| 1.3MB 8.4MB/s eta 0:00:01\r",
      "\u001b[K     |████████████████████████████████| 1.3MB 8.4MB/s eta 0:00:01\r",
      "\u001b[K     |████████████████████████████████| 1.3MB 8.4MB/s \n",
      "\u001b[?25hRequirement already satisfied: requests in /usr/local/lib/python3.6/dist-packages (from transformers) (2.23.0)\n",
      "Requirement already satisfied: packaging in /usr/local/lib/python3.6/dist-packages (from transformers) (20.4)\n",
      "Requirement already satisfied: filelock in /usr/local/lib/python3.6/dist-packages (from transformers) (3.0.12)\n",
      "Requirement already satisfied: protobuf in /usr/local/lib/python3.6/dist-packages (from transformers) (3.12.4)\n",
      "Requirement already satisfied: tqdm>=4.27 in /usr/local/lib/python3.6/dist-packages (from transformers) (4.41.1)\n",
      "Requirement already satisfied: dataclasses; python_version < \"3.7\" in /usr/local/lib/python3.6/dist-packages (from transformers) (0.8)\n",
      "Collecting sentencepiece==0.1.91\n",
      "\u001b[?25l  Downloading https://files.pythonhosted.org/packages/d4/a4/d0a884c4300004a78cca907a6ff9a5e9fe4f090f5d95ab341c53d28cbc58/sentencepiece-0.1.91-cp36-cp36m-manylinux1_x86_64.whl (1.1MB)\n",
      "\u001b[K     |████████████████████████████████| 1.1MB 40.1MB/s \n",
      "\u001b[?25hCollecting tokenizers==0.9.3\n",
      "\u001b[?25l  Downloading https://files.pythonhosted.org/packages/4c/34/b39eb9994bc3c999270b69c9eea40ecc6f0e97991dba28282b9fd32d44ee/tokenizers-0.9.3-cp36-cp36m-manylinux1_x86_64.whl (2.9MB)\n",
      "\u001b[K     |████████████████████████████████| 2.9MB 56.7MB/s \n",
      "\u001b[?25hRequirement already satisfied: numpy in /usr/local/lib/python3.6/dist-packages (from transformers) (1.18.5)\n",
      "Requirement already satisfied: regex!=2019.12.17 in /usr/local/lib/python3.6/dist-packages (from transformers) (2019.12.20)\n",
      "Collecting sacremoses\n",
      "\u001b[?25l  Downloading https://files.pythonhosted.org/packages/7d/34/09d19aff26edcc8eb2a01bed8e98f13a1537005d31e95233fd48216eed10/sacremoses-0.0.43.tar.gz (883kB)\n",
      "\u001b[K     |████████████████████████████████| 890kB 44.5MB/s \n",
      "\u001b[?25hRequirement already satisfied: urllib3!=1.25.0,!=1.25.1,<1.26,>=1.21.1 in /usr/local/lib/python3.6/dist-packages (from requests->transformers) (1.24.3)\n",
      "Requirement already satisfied: idna<3,>=2.5 in /usr/local/lib/python3.6/dist-packages (from requests->transformers) (2.10)\n",
      "Requirement already satisfied: chardet<4,>=3.0.2 in /usr/local/lib/python3.6/dist-packages (from requests->transformers) (3.0.4)\n",
      "Requirement already satisfied: certifi>=2017.4.17 in /usr/local/lib/python3.6/dist-packages (from requests->transformers) (2020.11.8)\n",
      "Requirement already satisfied: six in /usr/local/lib/python3.6/dist-packages (from packaging->transformers) (1.15.0)\n",
      "Requirement already satisfied: pyparsing>=2.0.2 in /usr/local/lib/python3.6/dist-packages (from packaging->transformers) (2.4.7)\n",
      "Requirement already satisfied: setuptools in /usr/local/lib/python3.6/dist-packages (from protobuf->transformers) (50.3.2)\n",
      "Requirement already satisfied: click in /usr/local/lib/python3.6/dist-packages (from sacremoses->transformers) (7.1.2)\n",
      "Requirement already satisfied: joblib in /usr/local/lib/python3.6/dist-packages (from sacremoses->transformers) (0.17.0)\n",
      "Building wheels for collected packages: sacremoses\n",
      "  Building wheel for sacremoses (setup.py) ... \u001b[?25l\u001b[?25hdone\n",
      "  Created wheel for sacremoses: filename=sacremoses-0.0.43-cp36-none-any.whl size=893257 sha256=99366f841d8f3c564c81354893dd58095755a5a5c87d9ae5f4c05b00c3576529\n",
      "  Stored in directory: /root/.cache/pip/wheels/29/3c/fd/7ce5c3f0666dab31a50123635e6fb5e19ceb42ce38d4e58f45\n",
      "Successfully built sacremoses\n",
      "Installing collected packages: sentencepiece, tokenizers, sacremoses, transformers\n",
      "Successfully installed sacremoses-0.0.43 sentencepiece-0.1.91 tokenizers-0.9.3 transformers-3.5.1\n"
     ]
    }
   ],
   "source": [
    "!pip install transformers"
   ]
  },
  {
   "cell_type": "markdown",
   "metadata": {
    "id": "guw6ZNtaswKc"
   },
   "source": [
    "# 2. Loading Dataset\n"
   ]
  },
  {
   "cell_type": "code",
   "execution_count": 2,
   "metadata": {
    "colab": {
     "base_uri": "https://localhost:8080/"
    },
    "id": "QXScUokPqyPx",
    "outputId": "835da8a1-e484-4ea7-9e34-03e00271cdae"
   },
   "outputs": [
    {
     "name": "stdout",
     "output_type": "stream",
     "text": [
      "Mounted at /content/gdrive\n"
     ]
    }
   ],
   "source": [
    "from google.colab import drive\n",
    "drive.mount('/content/gdrive')"
   ]
  },
  {
   "cell_type": "code",
   "execution_count": 3,
   "metadata": {
    "id": "R5sJTwM6rC9v"
   },
   "outputs": [],
   "source": [
    "from pathlib import Path\n",
    "folder=Path('/content/gdrive/My Drive/ColabNotebooks')"
   ]
  },
  {
   "cell_type": "code",
   "execution_count": 4,
   "metadata": {
    "id": "pZ48X0YgrQED"
   },
   "outputs": [],
   "source": [
    "import numpy as np\n",
    "import pandas as pd\n",
    "from sklearn.model_selection import train_test_split\n",
    "from sklearn.linear_model import LogisticRegression\n",
    "from sklearn.model_selection import GridSearchCV\n",
    "from sklearn.model_selection import cross_val_score\n",
    "import torch\n",
    "torch.manual_seed(0)\n",
    "import transformers"
   ]
  },
  {
   "cell_type": "code",
   "execution_count": 5,
   "metadata": {
    "colab": {
     "base_uri": "https://localhost:8080/"
    },
    "id": "Vh-UOOl7cBy8",
    "outputId": "758f5d8a-ef89-486f-e365-9b3ce556b66c"
   },
   "outputs": [
    {
     "data": {
      "text/plain": [
       "131072"
      ]
     },
     "execution_count": 5,
     "metadata": {
      "tags": []
     },
     "output_type": "execute_result"
    }
   ],
   "source": [
    "import sys\n",
    "import csv\n",
    "\n",
    "csv.field_size_limit(sys.maxsize)\n"
   ]
  },
  {
   "cell_type": "code",
   "execution_count": 15,
   "metadata": {
    "id": "XWAHQybMOO-x"
   },
   "outputs": [],
   "source": [
    "train_dataset = pd.read_csv(folder / 'newsgroup20_train.csv', encoding='ISO-8859-1')\n",
    "test_dataset = pd.read_csv(folder / 'newsgroup20_test.csv', encoding='ISO-8859-1')"
   ]
  },
  {
   "cell_type": "code",
   "execution_count": 16,
   "metadata": {
    "id": "ry2b3cDioh88"
   },
   "outputs": [],
   "source": [
    "train_dataset = train_dataset[train_dataset.data.notnull()]\n",
    "test_dataset = test_dataset[test_dataset.data.notnull()]"
   ]
  },
  {
   "cell_type": "markdown",
   "metadata": {
    "id": "-8kEDRvShcU5"
   },
   "source": [
    "## 3.1. BERT Tokenizer"
   ]
  },
  {
   "cell_type": "markdown",
   "metadata": {
    "id": "bWOPOyWghJp2"
   },
   "source": [
    "\n",
    "To feed our text to BERT, it must be split into tokens, and then these tokens must be mapped to their index in the tokenizer vocabulary.\n",
    "\n",
    "The tokenization must be performed by the tokenizer included with BERT--the below cell will download this for us. We'll be using the \"uncased\" version here.\n"
   ]
  },
  {
   "cell_type": "code",
   "execution_count": 17,
   "metadata": {
    "colab": {
     "base_uri": "https://localhost:8080/"
    },
    "id": "Z474sSC6oe7A",
    "outputId": "47ceb236-b392-4f37-ab72-17fba9d9037b"
   },
   "outputs": [
    {
     "name": "stdout",
     "output_type": "stream",
     "text": [
      "Loading BERT tokenizer...\n"
     ]
    }
   ],
   "source": [
    "from transformers import BertTokenizer\n",
    "\n",
    "# Load the BERT tokenizer.\n",
    "print('Loading BERT tokenizer...')\n",
    "tokenizer = BertTokenizer.from_pretrained('bert-base-uncased', do_lower_case=True)"
   ]
  },
  {
   "cell_type": "markdown",
   "metadata": {
    "id": "dFzmtleW6KmJ"
   },
   "source": [
    "Let's apply the tokenizer to one sentence just to see the output.\n"
   ]
  },
  {
   "cell_type": "code",
   "execution_count": 18,
   "metadata": {
    "id": "p6Dh1HEEscYB"
   },
   "outputs": [],
   "source": [
    "# Get the lists of sentences and their labels.\n",
    "sentences = train_dataset.data.values\n",
    "labels = train_dataset.labels.values\n",
    "sentences_test = test_dataset.data.values\n",
    "labels_test = test_dataset.labels.values"
   ]
  },
  {
   "cell_type": "code",
   "execution_count": 13,
   "metadata": {
    "colab": {
     "base_uri": "https://localhost:8080/"
    },
    "id": "dLIbudgfh6F0",
    "outputId": "eb8e4bfd-11db-44d3-e645-2276515f8353"
   },
   "outputs": [
    {
     "name": "stdout",
     "output_type": "stream",
     "text": [
      " Original:  \n",
      "       The relevance is that if you've got x homicides and reduce\n",
      "the number of gun homicides in that group, but x doesn't decrease\n",
      "by a significant amount, have you made an improvement, and is that\n",
      "improvement worth what you've paid?\n",
      "\n",
      "\n",
      "       If a baseball bat is a tenth as likely to kill a victim as a gun,\n",
      "is that any comfort to that tenth?\n",
      "\n",
      "\n",
      "       I've faced a knife.  And I was damn annoyed I didn't *have*\n",
      "a gun.  All the statistics in the world didn't change the fact that\n",
      "*he* was interested in cutting *me*.\n",
      "\n",
      "\n",
      "       \"Anyone trained in self-defense.\" \n",
      "\n",
      "       Unarmed self-defense isn't for everyone.  What's more, it requires\n",
      "substantially more training to be safe and effective than a firearm.\n",
      "It requires physical proximity and thus a greater threat to the victim,\n",
      "which is a primary problem with stun guns.  You have to actually touch\n",
      "your assailant.  Unless you're *very* good, a large, stronger assailant\n",
      "can simply ignore your blows long enough to incapacitate you.\n",
      "\n",
      "Tokenized:  ['the', 'relevance', 'is', 'that', 'if', 'you', \"'\", 've', 'got', 'x', 'homicide', '##s', 'and', 'reduce', 'the', 'number', 'of', 'gun', 'homicide', '##s', 'in', 'that', 'group', ',', 'but', 'x', 'doesn', \"'\", 't', 'decrease', 'by', 'a', 'significant', 'amount', ',', 'have', 'you', 'made', 'an', 'improvement', ',', 'and', 'is', 'that', 'improvement', 'worth', 'what', 'you', \"'\", 've', 'paid', '?', 'if', 'a', 'baseball', 'bat', 'is', 'a', 'tenth', 'as', 'likely', 'to', 'kill', 'a', 'victim', 'as', 'a', 'gun', ',', 'is', 'that', 'any', 'comfort', 'to', 'that', 'tenth', '?', 'i', \"'\", 've', 'faced', 'a', 'knife', '.', 'and', 'i', 'was', 'damn', 'annoyed', 'i', 'didn', \"'\", 't', '*', 'have', '*', 'a', 'gun', '.', 'all', 'the', 'statistics', 'in', 'the', 'world', 'didn', \"'\", 't', 'change', 'the', 'fact', 'that', '*', 'he', '*', 'was', 'interested', 'in', 'cutting', '*', 'me', '*', '.', '\"', 'anyone', 'trained', 'in', 'self', '-', 'defense', '.', '\"', 'unarmed', 'self', '-', 'defense', 'isn', \"'\", 't', 'for', 'everyone', '.', 'what', \"'\", 's', 'more', ',', 'it', 'requires', 'substantially', 'more', 'training', 'to', 'be', 'safe', 'and', 'effective', 'than', 'a', 'firearm', '.', 'it', 'requires', 'physical', 'proximity', 'and', 'thus', 'a', 'greater', 'threat', 'to', 'the', 'victim', ',', 'which', 'is', 'a', 'primary', 'problem', 'with', 'stu', '##n', 'guns', '.', 'you', 'have', 'to', 'actually', 'touch', 'your', 'ass', '##ail', '##ant', '.', 'unless', 'you', \"'\", 're', '*', 'very', '*', 'good', ',', 'a', 'large', ',', 'stronger', 'ass', '##ail', '##ant', 'can', 'simply', 'ignore', 'your', 'blows', 'long', 'enough', 'to', 'inca', '##pac', '##itate', 'you', '.']\n",
      "Token IDs:  [1996, 21923, 2003, 2008, 2065, 2017, 1005, 2310, 2288, 1060, 18268, 2015, 1998, 5547, 1996, 2193, 1997, 3282, 18268, 2015, 1999, 2008, 2177, 1010, 2021, 1060, 2987, 1005, 1056, 9885, 2011, 1037, 3278, 3815, 1010, 2031, 2017, 2081, 2019, 7620, 1010, 1998, 2003, 2008, 7620, 4276, 2054, 2017, 1005, 2310, 3825, 1029, 2065, 1037, 3598, 7151, 2003, 1037, 7891, 2004, 3497, 2000, 3102, 1037, 6778, 2004, 1037, 3282, 1010, 2003, 2008, 2151, 7216, 2000, 2008, 7891, 1029, 1045, 1005, 2310, 4320, 1037, 5442, 1012, 1998, 1045, 2001, 4365, 11654, 1045, 2134, 1005, 1056, 1008, 2031, 1008, 1037, 3282, 1012, 2035, 1996, 6747, 1999, 1996, 2088, 2134, 1005, 1056, 2689, 1996, 2755, 2008, 1008, 2002, 1008, 2001, 4699, 1999, 6276, 1008, 2033, 1008, 1012, 1000, 3087, 4738, 1999, 2969, 1011, 3639, 1012, 1000, 23206, 2969, 1011, 3639, 3475, 1005, 1056, 2005, 3071, 1012, 2054, 1005, 1055, 2062, 1010, 2009, 5942, 12381, 2062, 2731, 2000, 2022, 3647, 1998, 4621, 2084, 1037, 23646, 1012, 2009, 5942, 3558, 10039, 1998, 2947, 1037, 3618, 5081, 2000, 1996, 6778, 1010, 2029, 2003, 1037, 3078, 3291, 2007, 24646, 2078, 4409, 1012, 2017, 2031, 2000, 2941, 3543, 2115, 4632, 12502, 4630, 1012, 4983, 2017, 1005, 2128, 1008, 2200, 1008, 2204, 1010, 1037, 2312, 1010, 6428, 4632, 12502, 4630, 2064, 3432, 8568, 2115, 13783, 2146, 2438, 2000, 27523, 19498, 17570, 2017, 1012]\n"
     ]
    }
   ],
   "source": [
    "# Print the original sentence.\n",
    "print(' Original: ', sentences[0])\n",
    "\n",
    "# Print the sentence split into tokens.\n",
    "print('Tokenized: ', tokenizer.tokenize(sentences[0]))\n",
    "\n",
    "# Print the sentence mapped to token ids.\n",
    "print('Token IDs: ', tokenizer.convert_tokens_to_ids(tokenizer.tokenize(sentences[0])))"
   ]
  },
  {
   "cell_type": "code",
   "execution_count": 19,
   "metadata": {
    "colab": {
     "base_uri": "https://localhost:8080/"
    },
    "id": "cKsH2sU0OCQA",
    "outputId": "16c99057-ff93-4339-c757-f5ee869fa229"
   },
   "outputs": [
    {
     "name": "stderr",
     "output_type": "stream",
     "text": [
      "Token indices sequence length is longer than the specified maximum sequence length for this model (1880 > 512). Running this sequence through the model will result in indexing errors\n"
     ]
    },
    {
     "name": "stdout",
     "output_type": "stream",
     "text": [
      "Max sentence length:  52886\n"
     ]
    }
   ],
   "source": [
    "max_len = 0\n",
    "\n",
    "# For every sentence...\n",
    "for sent in sentences:\n",
    "\n",
    "    # Tokenize the text and add `[CLS]` and `[SEP]` tokens.\n",
    "    input_ids = tokenizer.encode(sent, add_special_tokens=True)\n",
    "\n",
    "    # Update the maximum sentence length.\n",
    "    max_len = max(max_len, len(input_ids))\n",
    "\n",
    "print('Max sentence length: ', max_len)"
   ]
  },
  {
   "cell_type": "markdown",
   "metadata": {
    "id": "qSIf6gwwIKtY"
   },
   "source": [
    "## (1)\tTruncate sequence length to 128 tokens.\n"
   ]
  },
  {
   "cell_type": "code",
   "execution_count": 20,
   "metadata": {
    "colab": {
     "base_uri": "https://localhost:8080/"
    },
    "id": "2bBdb3pt8LuQ",
    "outputId": "27bb0ed8-a9f5-4fe8-8762-979ced630cda"
   },
   "outputs": [
    {
     "name": "stderr",
     "output_type": "stream",
     "text": [
      "Truncation was not explicitly activated but `max_length` is provided a specific value, please use `truncation=True` to explicitly truncate examples to max length. Defaulting to 'longest_first' truncation strategy. If you encode pairs of sequences (GLUE-style) with the tokenizer you can select this strategy more precisely by providing a specific strategy to `truncation`.\n",
      "/usr/local/lib/python3.6/dist-packages/transformers/tokenization_utils_base.py:2022: FutureWarning: The `pad_to_max_length` argument is deprecated and will be removed in a future version, use `padding=True` or `padding='longest'` to pad to the longest sequence in the batch, or use `padding='max_length'` to pad to a max length. In this case, you can give a specific length with `max_length` (e.g. `max_length=45`) or leave max_length to None to pad to the maximal input size of the model (e.g. 512 for Bert).\n",
      "  FutureWarning,\n"
     ]
    },
    {
     "name": "stdout",
     "output_type": "stream",
     "text": [
      "Original:  \n",
      "       The relevance is that if you've got x homicides and reduce\n",
      "the number of gun homicides in that group, but x doesn't decrease\n",
      "by a significant amount, have you made an improvement, and is that\n",
      "improvement worth what you've paid?\n",
      "\n",
      "\n",
      "       If a baseball bat is a tenth as likely to kill a victim as a gun,\n",
      "is that any comfort to that tenth?\n",
      "\n",
      "\n",
      "       I've faced a knife.  And I was damn annoyed I didn't *have*\n",
      "a gun.  All the statistics in the world didn't change the fact that\n",
      "*he* was interested in cutting *me*.\n",
      "\n",
      "\n",
      "       \"Anyone trained in self-defense.\" \n",
      "\n",
      "       Unarmed self-defense isn't for everyone.  What's more, it requires\n",
      "substantially more training to be safe and effective than a firearm.\n",
      "It requires physical proximity and thus a greater threat to the victim,\n",
      "which is a primary problem with stun guns.  You have to actually touch\n",
      "your assailant.  Unless you're *very* good, a large, stronger assailant\n",
      "can simply ignore your blows long enough to incapacitate you.\n",
      "\n",
      "Token IDs: tensor([  101,  1996, 21923,  2003,  2008,  2065,  2017,  1005,  2310,  2288,\n",
      "         1060, 18268,  2015,  1998,  5547,  1996,  2193,  1997,  3282, 18268,\n",
      "         2015,  1999,  2008,  2177,  1010,  2021,  1060,  2987,  1005,  1056,\n",
      "         9885,  2011,  1037,  3278,  3815,  1010,  2031,  2017,  2081,  2019,\n",
      "         7620,  1010,  1998,  2003,  2008,  7620,  4276,  2054,  2017,  1005,\n",
      "         2310,  3825,  1029,  2065,  1037,  3598,  7151,  2003,  1037,  7891,\n",
      "         2004,  3497,  2000,  3102,  1037,  6778,  2004,  1037,  3282,  1010,\n",
      "         2003,  2008,  2151,  7216,  2000,  2008,  7891,  1029,  1045,  1005,\n",
      "         2310,  4320,  1037,  5442,  1012,  1998,  1045,  2001,  4365, 11654,\n",
      "         1045,  2134,  1005,  1056,  1008,  2031,  1008,  1037,  3282,  1012,\n",
      "         2035,  1996,  6747,  1999,  1996,  2088,  2134,  1005,  1056,  2689,\n",
      "         1996,  2755,  2008,  1008,  2002,  1008,  2001,  4699,  1999,  6276,\n",
      "         1008,  2033,  1008,  1012,  1000,  3087,  4738,   102])\n"
     ]
    }
   ],
   "source": [
    "# Tokenize all of the sentences and map the tokens to thier word IDs.\n",
    "input_ids = []\n",
    "attention_masks = []\n",
    "\n",
    "# For every sentence...\n",
    "for sent in sentences:\n",
    "    # `encode_plus` will:\n",
    "    #   (1) Tokenize the sentence.\n",
    "    #   (2) Prepend the `[CLS]` token to the start.\n",
    "    #   (3) Append the `[SEP]` token to the end.\n",
    "    #   (4) Map tokens to their IDs.\n",
    "    #   (5) Pad or truncate the sentence to `max_length`\n",
    "    #   (6) Create attention masks for [PAD] tokens.\n",
    "    encoded_dict = tokenizer.encode_plus(\n",
    "                        sent,                      # Sentence to encode.\n",
    "                        add_special_tokens = True, # Add '[CLS]' and '[SEP]'\n",
    "                        max_length = 128,           # Pad & truncate all sentences.\n",
    "                        pad_to_max_length = True,\n",
    "                        return_attention_mask = True,   # Construct attn. masks.\n",
    "                        return_tensors = 'pt',     # Return pytorch tensors.\n",
    "                   )\n",
    "    \n",
    "    # Add the encoded sentence to the list.    \n",
    "    input_ids.append(encoded_dict['input_ids'])\n",
    "    \n",
    "    # And its attention mask (simply differentiates padding from non-padding).\n",
    "    attention_masks.append(encoded_dict['attention_mask'])\n",
    "\n",
    "# Convert the lists into tensors.\n",
    "input_ids = torch.cat(input_ids, dim=0)\n",
    "attention_masks = torch.cat(attention_masks, dim=0)\n",
    "labels = torch.tensor(labels)\n",
    "\n",
    "# Print sentence 0, now as a list of IDs.\n",
    "print('Original: ', sentences[0])\n",
    "print('Token IDs:', input_ids[0])"
   ]
  },
  {
   "cell_type": "code",
   "execution_count": 21,
   "metadata": {
    "colab": {
     "base_uri": "https://localhost:8080/"
    },
    "id": "VCTHVQANA_xu",
    "outputId": "4d42203e-97b2-4eeb-af58-bcfde8a6fcf1"
   },
   "outputs": [
    {
     "name": "stderr",
     "output_type": "stream",
     "text": [
      "/usr/local/lib/python3.6/dist-packages/transformers/tokenization_utils_base.py:2022: FutureWarning: The `pad_to_max_length` argument is deprecated and will be removed in a future version, use `padding=True` or `padding='longest'` to pad to the longest sequence in the batch, or use `padding='max_length'` to pad to a max length. In this case, you can give a specific length with `max_length` (e.g. `max_length=45`) or leave max_length to None to pad to the maximal input size of the model (e.g. 512 for Bert).\n",
      "  FutureWarning,\n"
     ]
    },
    {
     "name": "stdout",
     "output_type": "stream",
     "text": [
      "Original:  I am a little confused on all of the models of the 88-89 bonnevilles.\n",
      "I have heard of the LE SE LSE SSE SSEI. Could someone tell me the\n",
      "differences are far as features or performance. I am also curious to\n",
      "know what the book value is for prefereably the 89 model. And how much\n",
      "less than book value can you usually get them for. In other words how\n",
      "much are they in demand this time of year. I have heard that the mid-spring\n",
      "early summer is the best time to buy.\n",
      "Token IDs: tensor([  101,  1045,  2572,  1037,  2210,  5457,  2006,  2035,  1997,  1996,\n",
      "         4275,  1997,  1996,  6070,  1011,  6486, 19349, 21187,  2015,  1012,\n",
      "         1045,  2031,  2657,  1997,  1996,  3393,  7367,  1048,  3366,  7020,\n",
      "         2063,  7020,  7416,  1012,  2071,  2619,  2425,  2033,  1996,  5966,\n",
      "         2024,  2521,  2004,  2838,  2030,  2836,  1012,  1045,  2572,  2036,\n",
      "         8025,  2000,  2113,  2054,  1996,  2338,  3643,  2003,  2005,  9544,\n",
      "         5243,  6321,  1996,  6486,  2944,  1012,  1998,  2129,  2172,  2625,\n",
      "         2084,  2338,  3643,  2064,  2017,  2788,  2131,  2068,  2005,  1012,\n",
      "         1999,  2060,  2616,  2129,  2172,  2024,  2027,  1999,  5157,  2023,\n",
      "         2051,  1997,  2095,  1012,  1045,  2031,  2657,  2008,  1996,  3054,\n",
      "         1011,  3500,  2220,  2621,  2003,  1996,  2190,  2051,  2000,  4965,\n",
      "         1012,   102,     0,     0,     0,     0,     0,     0,     0,     0,\n",
      "            0,     0,     0,     0,     0,     0,     0,     0])\n"
     ]
    }
   ],
   "source": [
    "# Tokenize all of the sentences and map the tokens to thier word IDs.\n",
    "input_ids_test = []\n",
    "attention_masks_test = []\n",
    "\n",
    "# For every sentence...\n",
    "for sent in sentences_test:\n",
    "    # `encode_plus` will:\n",
    "    #   (1) Tokenize the sentence.\n",
    "    #   (2) Prepend the `[CLS]` token to the start.\n",
    "    #   (3) Append the `[SEP]` token to the end.\n",
    "    #   (4) Map tokens to their IDs.\n",
    "    #   (5) Pad or truncate the sentence to `max_length`\n",
    "    #   (6) Create attention masks for [PAD] tokens.\n",
    "    encoded_dict = tokenizer.encode_plus(\n",
    "                        sent,                      # Sentence to encode.\n",
    "                        add_special_tokens = True, # Add '[CLS]' and '[SEP]'\n",
    "                        max_length = 128,           # Pad & truncate all sentences.\n",
    "                        pad_to_max_length = True,\n",
    "                        return_attention_mask = True,   # Construct attn. masks.\n",
    "                        return_tensors = 'pt',     # Return pytorch tensors.\n",
    "                   )\n",
    "    \n",
    "    # Add the encoded sentence to the list.    \n",
    "    input_ids_test.append(encoded_dict['input_ids'])\n",
    "    \n",
    "    # And its attention mask (simply differentiates padding from non-padding).\n",
    "    attention_masks_test.append(encoded_dict['attention_mask'])\n",
    "\n",
    "# Convert the lists into tensors.\n",
    "input_ids_test = torch.cat(input_ids_test, dim=0)\n",
    "attention_masks_test = torch.cat(attention_masks_test, dim=0)\n",
    "labels_test = torch.tensor(labels_test)\n",
    "\n",
    "# Print sentence 0, now as a list of IDs.\n",
    "print('Original: ', sentences_test[0])\n",
    "print('Token IDs:', input_ids_test[0])"
   ]
  },
  {
   "cell_type": "markdown",
   "metadata": {
    "id": "aRp4O7D295d_"
   },
   "source": [
    "## 3.4. Training & Validation Split\n"
   ]
  },
  {
   "cell_type": "markdown",
   "metadata": {
    "id": "qu0ao7p8rb06"
   },
   "source": [
    "Divide up our training set to use 80% for training and 20% for validation."
   ]
  },
  {
   "cell_type": "code",
   "execution_count": 22,
   "metadata": {
    "colab": {
     "base_uri": "https://localhost:8080/"
    },
    "id": "GEgLpFVlo1Z-",
    "outputId": "8c43a1b9-c9c0-45d2-b793-0f536175c1bf"
   },
   "outputs": [
    {
     "name": "stdout",
     "output_type": "stream",
     "text": [
      "8,876 training samples\n",
      "2,220 validation samples\n"
     ]
    }
   ],
   "source": [
    "from torch.utils.data import TensorDataset, random_split\n",
    "\n",
    "# Combine the training inputs into a TensorDataset.\n",
    "dataset = TensorDataset(input_ids, attention_masks, labels)\n",
    "test_dataset = TensorDataset(input_ids_test, attention_masks_test, labels_test)\n",
    "\n",
    "# Create a 70-30 train-validation split.\n",
    "\n",
    "# Calculate the number of samples to include in each set.\n",
    "train_size = int(0.8 * len(dataset))\n",
    "val_size = len(dataset) - train_size\n",
    "\n",
    "# Divide the dataset by randomly selecting samples.\n",
    "train_dataset, val_dataset = random_split(dataset, [train_size, val_size])\n",
    "\n",
    "print('{:>5,} training samples'.format(train_size))\n",
    "print('{:>5,} validation samples'.format(val_size))"
   ]
  },
  {
   "cell_type": "markdown",
   "metadata": {
    "id": "dD9i6Z2pG-sN"
   },
   "source": [
    "We'll also create an iterator for our dataset using the torch DataLoader class. This helps save on memory during training because, unlike a for loop, with an iterator the entire dataset does not need to be loaded into memory."
   ]
  },
  {
   "cell_type": "code",
   "execution_count": 23,
   "metadata": {
    "id": "XGUqOCtgqGhP"
   },
   "outputs": [],
   "source": [
    "from torch.utils.data import DataLoader, RandomSampler, SequentialSampler\n",
    "\n",
    "# The DataLoader needs to know our batch size for training, so we specify it \n",
    "# here. For fine-tuning BERT on a specific task, the authors recommend a batch \n",
    "# size of 16 or 32.\n",
    "batch_size = 32\n",
    "\n",
    "# Create the DataLoaders for our training and validation sets.\n",
    "# We'll take training samples in random order. \n",
    "train_dataloader = DataLoader(\n",
    "            train_dataset,  # The training samples.\n",
    "            sampler = RandomSampler(train_dataset), # Select batches randomly\n",
    "            batch_size = batch_size # Trains with this batch size.\n",
    "        )\n",
    "\n",
    "# For validation the order doesn't matter, so we'll just read them sequentially.\n",
    "validation_dataloader = DataLoader(\n",
    "            val_dataset, # The validation samples.\n",
    "            sampler = SequentialSampler(val_dataset), # Pull out batches sequentially.\n",
    "            batch_size = batch_size # Evaluate with this batch size.\n",
    "        )\n",
    "test_dataloader = DataLoader(\n",
    "            test_dataset, # The validation samples.\n",
    "            sampler = SequentialSampler(test_dataset), # Pull out batches sequentially.\n",
    "            batch_size = batch_size # Evaluate with this batch size.\n",
    "        )"
   ]
  },
  {
   "cell_type": "markdown",
   "metadata": {
    "id": "8bwa6Rts-02-"
   },
   "source": [
    "# 4. Train Our Classification Model"
   ]
  },
  {
   "cell_type": "markdown",
   "metadata": {
    "id": "3xYQ3iLO08SX"
   },
   "source": [
    "Now that our input data is properly formatted, it's time to fine tune the BERT model. "
   ]
  },
  {
   "cell_type": "markdown",
   "metadata": {
    "id": "D6TKgyUzPIQc"
   },
   "source": [
    "## 4.1. BertForSequenceClassification"
   ]
  },
  {
   "cell_type": "markdown",
   "metadata": {
    "id": "BXYitPoE-cjH"
   },
   "source": [
    "\n",
    "\n",
    "We'll be using [BertForSequenceClassification](https://huggingface.co/transformers/v2.2.0/model_doc/bert.html#bertforsequenceclassification). This is the normal BERT model with an added single linear layer on top for classification that we will use as a sentence classifier. As we feed input data, the entire pre-trained BERT model and the additional untrained classification layer is trained on our specific task. \n"
   ]
  },
  {
   "cell_type": "code",
   "execution_count": 24,
   "metadata": {
    "colab": {
     "base_uri": "https://localhost:8080/",
     "height": 230,
     "referenced_widgets": [
      "9b2ec79557d14725aa945ca07c158676",
      "2ac366c1e57e49b4a99812d11d4fd021",
      "f64cd624449a4f7c923a0b16fa6bb6b3",
      "ab1046ad5a98422082b3e7a8efdcb3bb",
      "943d7089b6dd4f85a275ca177e32f710",
      "751ba8860cfd4bc5aa4629bd0d678794",
      "f4130e46d2c04b598805e5fe26643d12",
      "2b63f8f7dab84b90a36eb3be9cd46884",
      "8d457ba59dbb439cbbb8cbd02ed5a01b",
      "8066ab68683c45c9aeed0387181bbdb0",
      "4f6979e773654f03ac5fbd690d4fe6af",
      "f37d12bda4f84e729ab8467a268e6977",
      "9363004d4e034b599c49cb0da3ef831b",
      "f2bcedf94cb44fd2a656c4a6cd1780ee",
      "28e1ea410a0d4f0a841eae0894f3d3cb",
      "5446d8d5fed94ca38f9c97224655b521"
     ]
    },
    "id": "gFsCTp_mporB",
    "outputId": "452ecfdf-fb84-4891-f18e-1e8778e5ad3f"
   },
   "outputs": [
    {
     "data": {
      "application/vnd.jupyter.widget-view+json": {
       "model_id": "9b2ec79557d14725aa945ca07c158676",
       "version_major": 2,
       "version_minor": 0
      },
      "text/plain": [
       "HBox(children=(FloatProgress(value=0.0, description='Downloading', max=433.0, style=ProgressStyle(description_…"
      ]
     },
     "metadata": {
      "tags": []
     },
     "output_type": "display_data"
    },
    {
     "name": "stdout",
     "output_type": "stream",
     "text": [
      "\n"
     ]
    },
    {
     "data": {
      "application/vnd.jupyter.widget-view+json": {
       "model_id": "8d457ba59dbb439cbbb8cbd02ed5a01b",
       "version_major": 2,
       "version_minor": 0
      },
      "text/plain": [
       "HBox(children=(FloatProgress(value=0.0, description='Downloading', max=440473133.0, style=ProgressStyle(descri…"
      ]
     },
     "metadata": {
      "tags": []
     },
     "output_type": "display_data"
    },
    {
     "name": "stdout",
     "output_type": "stream",
     "text": [
      "\n"
     ]
    },
    {
     "name": "stderr",
     "output_type": "stream",
     "text": [
      "Some weights of the model checkpoint at bert-base-uncased were not used when initializing BertForSequenceClassification: ['cls.predictions.bias', 'cls.predictions.transform.dense.weight', 'cls.predictions.transform.dense.bias', 'cls.predictions.decoder.weight', 'cls.seq_relationship.weight', 'cls.seq_relationship.bias', 'cls.predictions.transform.LayerNorm.weight', 'cls.predictions.transform.LayerNorm.bias']\n",
      "- This IS expected if you are initializing BertForSequenceClassification from the checkpoint of a model trained on another task or with another architecture (e.g. initializing a BertForSequenceClassification model from a BertForPreTraining model).\n",
      "- This IS NOT expected if you are initializing BertForSequenceClassification from the checkpoint of a model that you expect to be exactly identical (initializing a BertForSequenceClassification model from a BertForSequenceClassification model).\n",
      "Some weights of BertForSequenceClassification were not initialized from the model checkpoint at bert-base-uncased and are newly initialized: ['classifier.weight', 'classifier.bias']\n",
      "You should probably TRAIN this model on a down-stream task to be able to use it for predictions and inference.\n"
     ]
    }
   ],
   "source": [
    "from transformers import BertForSequenceClassification, AdamW, BertConfig\n",
    "\n",
    "# Load BertForSequenceClassification, the pretrained BERT model with a single \n",
    "# linear classification layer on top. \n",
    "model = BertForSequenceClassification.from_pretrained(\n",
    "    \"bert-base-uncased\", # Use the 12-layer BERT model, with an uncased vocab.\n",
    "    num_labels = 20, # The number of output labels   \n",
    "    output_attentions = False, # Whether the model returns attentions weights.\n",
    "    output_hidden_states = False, # Whether the model returns all hidden-states.\n",
    ")\n"
   ]
  },
  {
   "cell_type": "code",
   "execution_count": 25,
   "metadata": {
    "id": "UP4FniRreEvR"
   },
   "outputs": [],
   "source": [
    "for name, param in model.named_parameters():\n",
    "\tif 'classifier' not in name: # classifier layer\n",
    "\t\tparam.requires_grad = False"
   ]
  },
  {
   "cell_type": "code",
   "execution_count": 26,
   "metadata": {
    "colab": {
     "base_uri": "https://localhost:8080/"
    },
    "id": "QPi4OXjQv-6h",
    "outputId": "3836b8b5-10c2-434e-9795-f3f572babb42"
   },
   "outputs": [
    {
     "data": {
      "text/plain": [
       "device(type='cuda', index=0)"
      ]
     },
     "execution_count": 26,
     "metadata": {
      "tags": []
     },
     "output_type": "execute_result"
    }
   ],
   "source": [
    "device = torch.device('cuda:0' if torch.cuda.is_available() else 'cpu') \n",
    "device"
   ]
  },
  {
   "cell_type": "code",
   "execution_count": 27,
   "metadata": {
    "colab": {
     "base_uri": "https://localhost:8080/"
    },
    "id": "Au9vSy4Uvugh",
    "outputId": "63d810c2-a850-493b-ea45-e248f37b1642"
   },
   "outputs": [
    {
     "data": {
      "text/plain": [
       "BertForSequenceClassification(\n",
       "  (bert): BertModel(\n",
       "    (embeddings): BertEmbeddings(\n",
       "      (word_embeddings): Embedding(30522, 768, padding_idx=0)\n",
       "      (position_embeddings): Embedding(512, 768)\n",
       "      (token_type_embeddings): Embedding(2, 768)\n",
       "      (LayerNorm): LayerNorm((768,), eps=1e-12, elementwise_affine=True)\n",
       "      (dropout): Dropout(p=0.1, inplace=False)\n",
       "    )\n",
       "    (encoder): BertEncoder(\n",
       "      (layer): ModuleList(\n",
       "        (0): BertLayer(\n",
       "          (attention): BertAttention(\n",
       "            (self): BertSelfAttention(\n",
       "              (query): Linear(in_features=768, out_features=768, bias=True)\n",
       "              (key): Linear(in_features=768, out_features=768, bias=True)\n",
       "              (value): Linear(in_features=768, out_features=768, bias=True)\n",
       "              (dropout): Dropout(p=0.1, inplace=False)\n",
       "            )\n",
       "            (output): BertSelfOutput(\n",
       "              (dense): Linear(in_features=768, out_features=768, bias=True)\n",
       "              (LayerNorm): LayerNorm((768,), eps=1e-12, elementwise_affine=True)\n",
       "              (dropout): Dropout(p=0.1, inplace=False)\n",
       "            )\n",
       "          )\n",
       "          (intermediate): BertIntermediate(\n",
       "            (dense): Linear(in_features=768, out_features=3072, bias=True)\n",
       "          )\n",
       "          (output): BertOutput(\n",
       "            (dense): Linear(in_features=3072, out_features=768, bias=True)\n",
       "            (LayerNorm): LayerNorm((768,), eps=1e-12, elementwise_affine=True)\n",
       "            (dropout): Dropout(p=0.1, inplace=False)\n",
       "          )\n",
       "        )\n",
       "        (1): BertLayer(\n",
       "          (attention): BertAttention(\n",
       "            (self): BertSelfAttention(\n",
       "              (query): Linear(in_features=768, out_features=768, bias=True)\n",
       "              (key): Linear(in_features=768, out_features=768, bias=True)\n",
       "              (value): Linear(in_features=768, out_features=768, bias=True)\n",
       "              (dropout): Dropout(p=0.1, inplace=False)\n",
       "            )\n",
       "            (output): BertSelfOutput(\n",
       "              (dense): Linear(in_features=768, out_features=768, bias=True)\n",
       "              (LayerNorm): LayerNorm((768,), eps=1e-12, elementwise_affine=True)\n",
       "              (dropout): Dropout(p=0.1, inplace=False)\n",
       "            )\n",
       "          )\n",
       "          (intermediate): BertIntermediate(\n",
       "            (dense): Linear(in_features=768, out_features=3072, bias=True)\n",
       "          )\n",
       "          (output): BertOutput(\n",
       "            (dense): Linear(in_features=3072, out_features=768, bias=True)\n",
       "            (LayerNorm): LayerNorm((768,), eps=1e-12, elementwise_affine=True)\n",
       "            (dropout): Dropout(p=0.1, inplace=False)\n",
       "          )\n",
       "        )\n",
       "        (2): BertLayer(\n",
       "          (attention): BertAttention(\n",
       "            (self): BertSelfAttention(\n",
       "              (query): Linear(in_features=768, out_features=768, bias=True)\n",
       "              (key): Linear(in_features=768, out_features=768, bias=True)\n",
       "              (value): Linear(in_features=768, out_features=768, bias=True)\n",
       "              (dropout): Dropout(p=0.1, inplace=False)\n",
       "            )\n",
       "            (output): BertSelfOutput(\n",
       "              (dense): Linear(in_features=768, out_features=768, bias=True)\n",
       "              (LayerNorm): LayerNorm((768,), eps=1e-12, elementwise_affine=True)\n",
       "              (dropout): Dropout(p=0.1, inplace=False)\n",
       "            )\n",
       "          )\n",
       "          (intermediate): BertIntermediate(\n",
       "            (dense): Linear(in_features=768, out_features=3072, bias=True)\n",
       "          )\n",
       "          (output): BertOutput(\n",
       "            (dense): Linear(in_features=3072, out_features=768, bias=True)\n",
       "            (LayerNorm): LayerNorm((768,), eps=1e-12, elementwise_affine=True)\n",
       "            (dropout): Dropout(p=0.1, inplace=False)\n",
       "          )\n",
       "        )\n",
       "        (3): BertLayer(\n",
       "          (attention): BertAttention(\n",
       "            (self): BertSelfAttention(\n",
       "              (query): Linear(in_features=768, out_features=768, bias=True)\n",
       "              (key): Linear(in_features=768, out_features=768, bias=True)\n",
       "              (value): Linear(in_features=768, out_features=768, bias=True)\n",
       "              (dropout): Dropout(p=0.1, inplace=False)\n",
       "            )\n",
       "            (output): BertSelfOutput(\n",
       "              (dense): Linear(in_features=768, out_features=768, bias=True)\n",
       "              (LayerNorm): LayerNorm((768,), eps=1e-12, elementwise_affine=True)\n",
       "              (dropout): Dropout(p=0.1, inplace=False)\n",
       "            )\n",
       "          )\n",
       "          (intermediate): BertIntermediate(\n",
       "            (dense): Linear(in_features=768, out_features=3072, bias=True)\n",
       "          )\n",
       "          (output): BertOutput(\n",
       "            (dense): Linear(in_features=3072, out_features=768, bias=True)\n",
       "            (LayerNorm): LayerNorm((768,), eps=1e-12, elementwise_affine=True)\n",
       "            (dropout): Dropout(p=0.1, inplace=False)\n",
       "          )\n",
       "        )\n",
       "        (4): BertLayer(\n",
       "          (attention): BertAttention(\n",
       "            (self): BertSelfAttention(\n",
       "              (query): Linear(in_features=768, out_features=768, bias=True)\n",
       "              (key): Linear(in_features=768, out_features=768, bias=True)\n",
       "              (value): Linear(in_features=768, out_features=768, bias=True)\n",
       "              (dropout): Dropout(p=0.1, inplace=False)\n",
       "            )\n",
       "            (output): BertSelfOutput(\n",
       "              (dense): Linear(in_features=768, out_features=768, bias=True)\n",
       "              (LayerNorm): LayerNorm((768,), eps=1e-12, elementwise_affine=True)\n",
       "              (dropout): Dropout(p=0.1, inplace=False)\n",
       "            )\n",
       "          )\n",
       "          (intermediate): BertIntermediate(\n",
       "            (dense): Linear(in_features=768, out_features=3072, bias=True)\n",
       "          )\n",
       "          (output): BertOutput(\n",
       "            (dense): Linear(in_features=3072, out_features=768, bias=True)\n",
       "            (LayerNorm): LayerNorm((768,), eps=1e-12, elementwise_affine=True)\n",
       "            (dropout): Dropout(p=0.1, inplace=False)\n",
       "          )\n",
       "        )\n",
       "        (5): BertLayer(\n",
       "          (attention): BertAttention(\n",
       "            (self): BertSelfAttention(\n",
       "              (query): Linear(in_features=768, out_features=768, bias=True)\n",
       "              (key): Linear(in_features=768, out_features=768, bias=True)\n",
       "              (value): Linear(in_features=768, out_features=768, bias=True)\n",
       "              (dropout): Dropout(p=0.1, inplace=False)\n",
       "            )\n",
       "            (output): BertSelfOutput(\n",
       "              (dense): Linear(in_features=768, out_features=768, bias=True)\n",
       "              (LayerNorm): LayerNorm((768,), eps=1e-12, elementwise_affine=True)\n",
       "              (dropout): Dropout(p=0.1, inplace=False)\n",
       "            )\n",
       "          )\n",
       "          (intermediate): BertIntermediate(\n",
       "            (dense): Linear(in_features=768, out_features=3072, bias=True)\n",
       "          )\n",
       "          (output): BertOutput(\n",
       "            (dense): Linear(in_features=3072, out_features=768, bias=True)\n",
       "            (LayerNorm): LayerNorm((768,), eps=1e-12, elementwise_affine=True)\n",
       "            (dropout): Dropout(p=0.1, inplace=False)\n",
       "          )\n",
       "        )\n",
       "        (6): BertLayer(\n",
       "          (attention): BertAttention(\n",
       "            (self): BertSelfAttention(\n",
       "              (query): Linear(in_features=768, out_features=768, bias=True)\n",
       "              (key): Linear(in_features=768, out_features=768, bias=True)\n",
       "              (value): Linear(in_features=768, out_features=768, bias=True)\n",
       "              (dropout): Dropout(p=0.1, inplace=False)\n",
       "            )\n",
       "            (output): BertSelfOutput(\n",
       "              (dense): Linear(in_features=768, out_features=768, bias=True)\n",
       "              (LayerNorm): LayerNorm((768,), eps=1e-12, elementwise_affine=True)\n",
       "              (dropout): Dropout(p=0.1, inplace=False)\n",
       "            )\n",
       "          )\n",
       "          (intermediate): BertIntermediate(\n",
       "            (dense): Linear(in_features=768, out_features=3072, bias=True)\n",
       "          )\n",
       "          (output): BertOutput(\n",
       "            (dense): Linear(in_features=3072, out_features=768, bias=True)\n",
       "            (LayerNorm): LayerNorm((768,), eps=1e-12, elementwise_affine=True)\n",
       "            (dropout): Dropout(p=0.1, inplace=False)\n",
       "          )\n",
       "        )\n",
       "        (7): BertLayer(\n",
       "          (attention): BertAttention(\n",
       "            (self): BertSelfAttention(\n",
       "              (query): Linear(in_features=768, out_features=768, bias=True)\n",
       "              (key): Linear(in_features=768, out_features=768, bias=True)\n",
       "              (value): Linear(in_features=768, out_features=768, bias=True)\n",
       "              (dropout): Dropout(p=0.1, inplace=False)\n",
       "            )\n",
       "            (output): BertSelfOutput(\n",
       "              (dense): Linear(in_features=768, out_features=768, bias=True)\n",
       "              (LayerNorm): LayerNorm((768,), eps=1e-12, elementwise_affine=True)\n",
       "              (dropout): Dropout(p=0.1, inplace=False)\n",
       "            )\n",
       "          )\n",
       "          (intermediate): BertIntermediate(\n",
       "            (dense): Linear(in_features=768, out_features=3072, bias=True)\n",
       "          )\n",
       "          (output): BertOutput(\n",
       "            (dense): Linear(in_features=3072, out_features=768, bias=True)\n",
       "            (LayerNorm): LayerNorm((768,), eps=1e-12, elementwise_affine=True)\n",
       "            (dropout): Dropout(p=0.1, inplace=False)\n",
       "          )\n",
       "        )\n",
       "        (8): BertLayer(\n",
       "          (attention): BertAttention(\n",
       "            (self): BertSelfAttention(\n",
       "              (query): Linear(in_features=768, out_features=768, bias=True)\n",
       "              (key): Linear(in_features=768, out_features=768, bias=True)\n",
       "              (value): Linear(in_features=768, out_features=768, bias=True)\n",
       "              (dropout): Dropout(p=0.1, inplace=False)\n",
       "            )\n",
       "            (output): BertSelfOutput(\n",
       "              (dense): Linear(in_features=768, out_features=768, bias=True)\n",
       "              (LayerNorm): LayerNorm((768,), eps=1e-12, elementwise_affine=True)\n",
       "              (dropout): Dropout(p=0.1, inplace=False)\n",
       "            )\n",
       "          )\n",
       "          (intermediate): BertIntermediate(\n",
       "            (dense): Linear(in_features=768, out_features=3072, bias=True)\n",
       "          )\n",
       "          (output): BertOutput(\n",
       "            (dense): Linear(in_features=3072, out_features=768, bias=True)\n",
       "            (LayerNorm): LayerNorm((768,), eps=1e-12, elementwise_affine=True)\n",
       "            (dropout): Dropout(p=0.1, inplace=False)\n",
       "          )\n",
       "        )\n",
       "        (9): BertLayer(\n",
       "          (attention): BertAttention(\n",
       "            (self): BertSelfAttention(\n",
       "              (query): Linear(in_features=768, out_features=768, bias=True)\n",
       "              (key): Linear(in_features=768, out_features=768, bias=True)\n",
       "              (value): Linear(in_features=768, out_features=768, bias=True)\n",
       "              (dropout): Dropout(p=0.1, inplace=False)\n",
       "            )\n",
       "            (output): BertSelfOutput(\n",
       "              (dense): Linear(in_features=768, out_features=768, bias=True)\n",
       "              (LayerNorm): LayerNorm((768,), eps=1e-12, elementwise_affine=True)\n",
       "              (dropout): Dropout(p=0.1, inplace=False)\n",
       "            )\n",
       "          )\n",
       "          (intermediate): BertIntermediate(\n",
       "            (dense): Linear(in_features=768, out_features=3072, bias=True)\n",
       "          )\n",
       "          (output): BertOutput(\n",
       "            (dense): Linear(in_features=3072, out_features=768, bias=True)\n",
       "            (LayerNorm): LayerNorm((768,), eps=1e-12, elementwise_affine=True)\n",
       "            (dropout): Dropout(p=0.1, inplace=False)\n",
       "          )\n",
       "        )\n",
       "        (10): BertLayer(\n",
       "          (attention): BertAttention(\n",
       "            (self): BertSelfAttention(\n",
       "              (query): Linear(in_features=768, out_features=768, bias=True)\n",
       "              (key): Linear(in_features=768, out_features=768, bias=True)\n",
       "              (value): Linear(in_features=768, out_features=768, bias=True)\n",
       "              (dropout): Dropout(p=0.1, inplace=False)\n",
       "            )\n",
       "            (output): BertSelfOutput(\n",
       "              (dense): Linear(in_features=768, out_features=768, bias=True)\n",
       "              (LayerNorm): LayerNorm((768,), eps=1e-12, elementwise_affine=True)\n",
       "              (dropout): Dropout(p=0.1, inplace=False)\n",
       "            )\n",
       "          )\n",
       "          (intermediate): BertIntermediate(\n",
       "            (dense): Linear(in_features=768, out_features=3072, bias=True)\n",
       "          )\n",
       "          (output): BertOutput(\n",
       "            (dense): Linear(in_features=3072, out_features=768, bias=True)\n",
       "            (LayerNorm): LayerNorm((768,), eps=1e-12, elementwise_affine=True)\n",
       "            (dropout): Dropout(p=0.1, inplace=False)\n",
       "          )\n",
       "        )\n",
       "        (11): BertLayer(\n",
       "          (attention): BertAttention(\n",
       "            (self): BertSelfAttention(\n",
       "              (query): Linear(in_features=768, out_features=768, bias=True)\n",
       "              (key): Linear(in_features=768, out_features=768, bias=True)\n",
       "              (value): Linear(in_features=768, out_features=768, bias=True)\n",
       "              (dropout): Dropout(p=0.1, inplace=False)\n",
       "            )\n",
       "            (output): BertSelfOutput(\n",
       "              (dense): Linear(in_features=768, out_features=768, bias=True)\n",
       "              (LayerNorm): LayerNorm((768,), eps=1e-12, elementwise_affine=True)\n",
       "              (dropout): Dropout(p=0.1, inplace=False)\n",
       "            )\n",
       "          )\n",
       "          (intermediate): BertIntermediate(\n",
       "            (dense): Linear(in_features=768, out_features=3072, bias=True)\n",
       "          )\n",
       "          (output): BertOutput(\n",
       "            (dense): Linear(in_features=3072, out_features=768, bias=True)\n",
       "            (LayerNorm): LayerNorm((768,), eps=1e-12, elementwise_affine=True)\n",
       "            (dropout): Dropout(p=0.1, inplace=False)\n",
       "          )\n",
       "        )\n",
       "      )\n",
       "    )\n",
       "    (pooler): BertPooler(\n",
       "      (dense): Linear(in_features=768, out_features=768, bias=True)\n",
       "      (activation): Tanh()\n",
       "    )\n",
       "  )\n",
       "  (dropout): Dropout(p=0.1, inplace=False)\n",
       "  (classifier): Linear(in_features=768, out_features=20, bias=True)\n",
       ")"
      ]
     },
     "execution_count": 27,
     "metadata": {
      "tags": []
     },
     "output_type": "execute_result"
    }
   ],
   "source": [
    "# Tell pytorch to run this model on the GPU.\n",
    "model.to(device)"
   ]
  },
  {
   "cell_type": "markdown",
   "metadata": {
    "id": "RqfmWwUR_Sox"
   },
   "source": [
    "## 4.3. Training Loop"
   ]
  },
  {
   "cell_type": "code",
   "execution_count": 28,
   "metadata": {
    "id": "S31Yr1JN7DGV"
   },
   "outputs": [],
   "source": [
    "# STEP 6: INSTANTIATE OPTIMIZER CLASS\n",
    "epochs = 50\n",
    "no_decay = ['bias', 'LayerNorm.weight']\n",
    "optimizer_grouped_parameters = [\n",
    "        {'params': [p for n, p in model.named_parameters() \n",
    "          if not any(nd in n for nd in no_decay)], \n",
    "         'weight_decay': 0.5},\n",
    "\n",
    "        {'params': [p for n, p in model.named_parameters() \n",
    "        if any(nd in n for nd in no_decay)], \n",
    "         'weight_decay': 0.0}\n",
    "        ]\n",
    "\n",
    "optimizer = AdamW(optimizer_grouped_parameters,\n",
    "                  lr = 1e-5, \n",
    "                  eps = 1e-8 \n",
    "                )\n",
    "\n",
    "no_decay = ['bias', 'LayerNorm.weight']\n",
    "\n",
    "\n",
    "\n",
    "from transformers import get_linear_schedule_with_warmup\n",
    "\n",
    "# Total number of training steps is [number of batches] x [number of epochs]. \n",
    "total_steps = len(train_dataloader) * epochs\n",
    "\n",
    "# Create the learning rate scheduler.\n",
    "scheduler = get_linear_schedule_with_warmup(optimizer, \n",
    "                                            num_warmup_steps = 0, # Default value in run_glue.py\n",
    "                                            num_training_steps = total_steps)"
   ]
  },
  {
   "cell_type": "code",
   "execution_count": 29,
   "metadata": {
    "colab": {
     "base_uri": "https://localhost:8080/"
    },
    "id": "6J-FYdx6nFE_",
    "outputId": "2786156b-65c3-4377-ca65-8b9d12c7f1f0"
   },
   "outputs": [
    {
     "name": "stdout",
     "output_type": "stream",
     "text": [
      "Epoch 1/40, Train Loss: 3.0180    Valid Loss: 2.9865, Duration: 0:01:25.991107\n",
      "Epoch 2/40, Train Loss: 2.9900    Valid Loss: 2.9762, Duration: 0:01:33.453225\n",
      "Epoch 3/40, Train Loss: 2.9832    Valid Loss: 2.9687, Duration: 0:01:33.436784\n",
      "Epoch 4/40, Train Loss: 2.9745    Valid Loss: 2.9620, Duration: 0:01:34.180919\n",
      "Epoch 5/40, Train Loss: 2.9681    Valid Loss: 2.9552, Duration: 0:01:33.978222\n",
      "Epoch 6/40, Train Loss: 2.9620    Valid Loss: 2.9491, Duration: 0:01:33.844414\n",
      "Epoch 7/40, Train Loss: 2.9563    Valid Loss: 2.9431, Duration: 0:01:33.679162\n",
      "Epoch 8/40, Train Loss: 2.9498    Valid Loss: 2.9386, Duration: 0:01:33.285092\n",
      "Epoch 9/40, Train Loss: 2.9471    Valid Loss: 2.9331, Duration: 0:01:34.017793\n",
      "Epoch 10/40, Train Loss: 2.9424    Valid Loss: 2.9284, Duration: 0:01:33.109739\n",
      "Epoch 11/40, Train Loss: 2.9392    Valid Loss: 2.9237, Duration: 0:01:32.857402\n",
      "Epoch 12/40, Train Loss: 2.9307    Valid Loss: 2.9191, Duration: 0:01:33.094786\n",
      "Epoch 13/40, Train Loss: 2.9265    Valid Loss: 2.9145, Duration: 0:01:33.809405\n",
      "Epoch 14/40, Train Loss: 2.9229    Valid Loss: 2.9105, Duration: 0:01:33.988836\n",
      "Epoch 15/40, Train Loss: 2.9201    Valid Loss: 2.9065, Duration: 0:01:33.960486\n",
      "Epoch 16/40, Train Loss: 2.9150    Valid Loss: 2.9028, Duration: 0:01:33.858680\n",
      "Epoch 17/40, Train Loss: 2.9140    Valid Loss: 2.8993, Duration: 0:01:33.831321\n",
      "Epoch 18/40, Train Loss: 2.9114    Valid Loss: 2.8963, Duration: 0:01:33.887594\n",
      "Epoch 19/40, Train Loss: 2.9059    Valid Loss: 2.8932, Duration: 0:01:33.921837\n",
      "Epoch 20/40, Train Loss: 2.9023    Valid Loss: 2.8903, Duration: 0:01:33.963529\n",
      "Epoch 21/40, Train Loss: 2.8994    Valid Loss: 2.8873, Duration: 0:01:33.991706\n",
      "Epoch 22/40, Train Loss: 2.8973    Valid Loss: 2.8846, Duration: 0:01:34.114389\n",
      "Epoch 23/40, Train Loss: 2.8943    Valid Loss: 2.8820, Duration: 0:01:34.124563\n",
      "Epoch 24/40, Train Loss: 2.8960    Valid Loss: 2.8794, Duration: 0:01:34.131050\n",
      "Epoch 25/40, Train Loss: 2.8920    Valid Loss: 2.8768, Duration: 0:01:34.052474\n",
      "Epoch 26/40, Train Loss: 2.8861    Valid Loss: 2.8749, Duration: 0:01:33.947820\n",
      "Epoch 27/40, Train Loss: 2.8887    Valid Loss: 2.8725, Duration: 0:01:33.901604\n",
      "Epoch 28/40, Train Loss: 2.8834    Valid Loss: 2.8704, Duration: 0:01:33.894354\n",
      "Epoch 29/40, Train Loss: 2.8832    Valid Loss: 2.8685, Duration: 0:01:33.927378\n",
      "Epoch 30/40, Train Loss: 2.8819    Valid Loss: 2.8665, Duration: 0:01:33.579414\n",
      "Epoch 31/40, Train Loss: 2.8799    Valid Loss: 2.8648, Duration: 0:01:33.034240\n",
      "Epoch 32/40, Train Loss: 2.8784    Valid Loss: 2.8632, Duration: 0:01:33.175721\n",
      "Epoch 33/40, Train Loss: 2.8755    Valid Loss: 2.8616, Duration: 0:01:34.101198\n",
      "Epoch 34/40, Train Loss: 2.8764    Valid Loss: 2.8600, Duration: 0:01:33.919577\n",
      "Epoch 35/40, Train Loss: 2.8714    Valid Loss: 2.8586, Duration: 0:01:34.129086\n",
      "Epoch 36/40, Train Loss: 2.8726    Valid Loss: 2.8574, Duration: 0:01:34.075338\n",
      "Epoch 37/40, Train Loss: 2.8745    Valid Loss: 2.8562, Duration: 0:01:33.762415\n",
      "Epoch 38/40, Train Loss: 2.8728    Valid Loss: 2.8552, Duration: 0:01:33.659839\n",
      "Epoch 39/40, Train Loss: 2.8694    Valid Loss: 2.8543, Duration: 0:01:33.748088\n",
      "Epoch 40/40, Train Loss: 2.8665    Valid Loss: 2.8535, Duration: 0:01:34.025711\n"
     ]
    }
   ],
   "source": [
    "import random\n",
    "from datetime import datetime\n",
    "\n",
    "seed = 12345\n",
    "\n",
    "random.seed(seed)\n",
    "np.random.seed(seed)\n",
    "torch.manual_seed(seed)\n",
    "torch.cuda.manual_seed_all(seed)\n",
    "\n",
    "epochs = 40\n",
    "\n",
    "# STEP 7: TRAIN THE MODEL\n",
    "\n",
    "train_losses= np.zeros(epochs)\n",
    "valid_losses= np.zeros(epochs)\n",
    "\n",
    "\n",
    "for epoch in range(epochs):\n",
    "  \n",
    "  t0= datetime.now()\n",
    "  train_loss=[]\n",
    "  \n",
    "  model.train()\n",
    "  for batch in train_dataloader:\n",
    "   \n",
    "    b_input_ids = batch[0].to(device)\n",
    "    b_input_mask = batch[1].to(device)\n",
    "    b_labels = batch[2].to(device)\n",
    "    # forward pass\n",
    "\n",
    "    loss, logits = model(b_input_ids, \n",
    "                        token_type_ids=None, \n",
    "                        attention_mask=b_input_mask, \n",
    "                        labels=b_labels)\n",
    "\n",
    "\n",
    "    # set gradients to zero \n",
    "    optimizer.zero_grad()\n",
    "\n",
    "    # backward pass\n",
    "    loss.backward()\n",
    "    torch.nn.utils.clip_grad_norm_(model.parameters(), 1.0)\n",
    "    optimizer.step()\n",
    "    scheduler.step()\n",
    "    train_loss.append(loss.item())\n",
    "  \n",
    "  train_loss=np.mean(train_loss)\n",
    "      \n",
    "  valid_loss=[]\n",
    "  model.eval()\n",
    "  with torch.no_grad():\n",
    "    for batch in validation_dataloader:\n",
    " \n",
    "      # forward pass\n",
    "      b_input_ids = batch[0].to(device)\n",
    "      b_input_mask = batch[1].to(device)\n",
    "      b_labels = batch[2].to(device)\n",
    "    # forward pass\n",
    "\n",
    "      loss, logits = model(b_input_ids, \n",
    "                          token_type_ids=None, \n",
    "                          attention_mask=b_input_mask, \n",
    "                          labels=b_labels)\n",
    "      \n",
    "      valid_loss.append(loss.item())\n",
    "\n",
    "    valid_loss=np.mean(valid_loss)\n",
    "  \n",
    "  # save Losses\n",
    "  train_losses[epoch]= train_loss\n",
    "  valid_losses[epoch]= valid_loss\n",
    "  dt= datetime.now()-t0\n",
    "  print(f'Epoch {epoch+1}/{epochs}, Train Loss: {train_loss:.4f}    Valid Loss: {valid_loss:.4f}, Duration: {dt}')"
   ]
  },
  {
   "cell_type": "code",
   "execution_count": 30,
   "metadata": {
    "id": "GXGS2lguch__"
   },
   "outputs": [],
   "source": [
    "# Accuracy- write a function to get accuracy\n",
    "# use this function to get accuracy and print accuracy\n",
    "def get_accuracy(data_iter, model):\n",
    "  model.eval()\n",
    "  with torch.no_grad():\n",
    "    correct =0 \n",
    "    total =0\n",
    "    \n",
    "    for batch in data_iter:\n",
    "\n",
    "      b_input_ids = batch[0].to(device)\n",
    "      b_input_mask = batch[1].to(device)\n",
    "      b_labels = batch[2].to(device)\n",
    "    # forward pass\n",
    "\n",
    "      loss, logits = model(b_input_ids, \n",
    "                          token_type_ids=None, \n",
    "                          attention_mask=b_input_mask, \n",
    "                          labels=b_labels)\n",
    "\n",
    "      _,indices = torch.max(logits,dim=1)\n",
    "      correct+= (b_labels==indices).sum().item()\n",
    "      total += b_labels.shape[0]\n",
    "    \n",
    "    acc= correct/total\n",
    "\n",
    "    return acc"
   ]
  },
  {
   "cell_type": "code",
   "execution_count": 31,
   "metadata": {
    "id": "jORGlh3sc6sF"
   },
   "outputs": [],
   "source": [
    "train_acc = get_accuracy(train_dataloader, model)\n",
    "valid_acc = get_accuracy(validation_dataloader, model)\n",
    "test_acc = get_accuracy(test_dataloader, model)"
   ]
  },
  {
   "cell_type": "code",
   "execution_count": 32,
   "metadata": {
    "colab": {
     "base_uri": "https://localhost:8080/"
    },
    "id": "2MYTpwnkdX_g",
    "outputId": "860fc124-7053-4e3e-df10-7bbfeefafc11"
   },
   "outputs": [
    {
     "name": "stdout",
     "output_type": "stream",
     "text": [
      "Train acc: 0.1771,\t Valid acc: 0.1824, \t test acc: 0.1769\n"
     ]
    }
   ],
   "source": [
    "print(f'Train acc: {train_acc:.4f},\\t Valid acc: {valid_acc:.4f}, \\t test acc: {test_acc:.4f}')"
   ]
  },
  {
   "cell_type": "code",
   "execution_count": 33,
   "metadata": {
    "id": "kNhcjLa-dxx1"
   },
   "outputs": [],
   "source": [
    "# Write a function to get predictions\n",
    "\n",
    "def get_predictions(data_iter, model):\n",
    "  model.eval()\n",
    "  with torch.no_grad():\n",
    "    predictions= np.array([])\n",
    "    y_test= np.array([])\n",
    "\n",
    "    for batch in data_iter:\n",
    "      \n",
    "      b_input_ids = batch[0].to(device)\n",
    "      b_input_mask = batch[1].to(device)\n",
    "      b_labels = batch[2].to(device)\n",
    "    # forward pass\n",
    "\n",
    "      loss, logits = model(b_input_ids, \n",
    "                          token_type_ids=None, \n",
    "                          attention_mask=b_input_mask, \n",
    "                          labels=b_labels)\n",
    "      \n",
    "      _,indices = torch.max(logits,dim=1)\n",
    "      predictions=np.concatenate((predictions,indices.cpu().numpy())) \n",
    "      y_test = np.concatenate((y_test,b_labels.cpu().numpy())) \n",
    "      \n",
    "  return y_test, predictions"
   ]
  },
  {
   "cell_type": "code",
   "execution_count": 34,
   "metadata": {
    "id": "woupMtYpeVBn"
   },
   "outputs": [],
   "source": [
    "y_valid, predictions=get_predictions(test_dataloader, model)"
   ]
  },
  {
   "cell_type": "code",
   "execution_count": 35,
   "metadata": {
    "id": "CiM8lvk2e2mh"
   },
   "outputs": [],
   "source": [
    "import seaborn as sns\n",
    "import matplotlib.pyplot as plt\n",
    "from sklearn.metrics import confusion_matrix\n",
    "\n",
    "def plot_confusion_matrix(y_true,y_pred,normalize=None):\n",
    "  cm=confusion_matrix(y_true,y_pred,normalize=normalize)\n",
    "  fig, ax = plt.subplots(figsize=(6,5))\n",
    "  if normalize == None:\n",
    "    fmt='d'\n",
    "    fig.suptitle('Confusion matrix without Normalization', fontsize=12)\n",
    "        \n",
    "  else :\n",
    "    fmt='0.2f'\n",
    "    fig.suptitle('Normalized confusion matrix', fontsize=12)\n",
    "    \n",
    "  ax=sns.heatmap(cm,cmap=plt.cm.Blues,annot=True,fmt=fmt)\n",
    "  ax.axhline(y=0, color='k',linewidth=1)\n",
    "  ax.axhline(y=cm.shape[1], color='k',linewidth=2)\n",
    "  ax.axvline(x=0, color='k',linewidth=1)\n",
    "  ax.axvline(x=cm.shape[0], color='k',linewidth=2)\n",
    " \n",
    "  ax.set_xlabel('Predicted label', fontsize=12)\n",
    "  ax.set_ylabel('True label', fontsize=12)"
   ]
  },
  {
   "cell_type": "code",
   "execution_count": 36,
   "metadata": {
    "colab": {
     "base_uri": "https://localhost:8080/",
     "height": 373
    },
    "id": "eHqvmICSfnPZ",
    "outputId": "e57e28d4-e47d-40d9-c906-d9ba13b3700c"
   },
   "outputs": [
    {
     "data": {
      "image/png": "[encoded data removed]",
      "text/plain": [
       "<Figure size 432x360 with 2 Axes>"
      ]
     },
     "metadata": {
      "needs_background": "light",
      "tags": []
     },
     "output_type": "display_data"
    }
   ],
   "source": [
    "plot_confusion_matrix(y_valid,predictions)"
   ]
  },
  {
   "cell_type": "markdown",
   "metadata": {
    "id": "ug__EQ2WIZDS"
   },
   "source": [
    "## (2)\tTruncate sequence length to 140 tokens."
   ]
  },
  {
   "cell_type": "code",
   "execution_count": null,
   "metadata": {
    "colab": {
     "base_uri": "https://localhost:8080/"
    },
    "id": "KYGEmcWsIcLt",
    "outputId": "051b484d-830f-4a9a-991b-a8f4be0202fa"
   },
   "outputs": [
    {
     "name": "stderr",
     "output_type": "stream",
     "text": [
      "/usr/local/lib/python3.6/dist-packages/transformers/tokenization_utils_base.py:2022: FutureWarning: The `pad_to_max_length` argument is deprecated and will be removed in a future version, use `padding=True` or `padding='longest'` to pad to the longest sequence in the batch, or use `padding='max_length'` to pad to a max length. In this case, you can give a specific length with `max_length` (e.g. `max_length=45`) or leave max_length to None to pad to the maximal input size of the model (e.g. 512 for Bert).\n",
      "  FutureWarning,\n"
     ]
    },
    {
     "name": "stdout",
     "output_type": "stream",
     "text": [
      "Original:  I was wondering if anyone out there could enlighten me on this car I saw\n",
      "the other day. It was a 2-door sports car, looked to be from the late 60s/\n",
      "early 70s. It was called a Bricklin. The doors were really small. In addition,\n",
      "the front bumper was separate from the rest of the body. This is \n",
      "all I know. If anyone can tellme a model name, engine specs, years\n",
      "of production, where this car is made, history, or whatever info you\n",
      "have on this funky looking car, please e-mail.\n",
      "Token IDs: tensor([  101,  1045,  2001,  6603,  2065,  3087,  2041,  2045,  2071,  4372,\n",
      "         7138,  2368,  2033,  2006,  2023,  2482,  1045,  2387,  1996,  2060,\n",
      "         2154,  1012,  2009,  2001,  1037,  1016,  1011,  2341,  2998,  2482,\n",
      "         1010,  2246,  2000,  2022,  2013,  1996,  2397, 20341,  1013,  2220,\n",
      "        17549,  1012,  2009,  2001,  2170,  1037,  5318,  4115,  1012,  1996,\n",
      "         4303,  2020,  2428,  2235,  1012,  1999,  2804,  1010,  1996,  2392,\n",
      "        21519,  2001,  3584,  2013,  1996,  2717,  1997,  1996,  2303,  1012,\n",
      "         2023,  2003,  2035,  1045,  2113,  1012,  2065,  3087,  2064,  2425,\n",
      "         4168,  1037,  2944,  2171,  1010,  3194, 28699,  2015,  1010,  2086,\n",
      "         1997,  2537,  1010,  2073,  2023,  2482,  2003,  2081,  1010,  2381,\n",
      "         1010,  2030,  3649, 18558,  2017,  2031,  2006,  2023, 24151,  2559,\n",
      "         2482,  1010,  3531,  1041,  1011,  5653,  1012,   102,     0,     0,\n",
      "            0,     0,     0,     0,     0,     0,     0,     0,     0,     0,\n",
      "            0,     0,     0,     0,     0,     0,     0,     0,     0,     0])\n"
     ]
    },
    {
     "name": "stderr",
     "output_type": "stream",
     "text": [
      "/usr/local/lib/python3.6/dist-packages/ipykernel_launcher.py:32: UserWarning: To copy construct from a tensor, it is recommended to use sourceTensor.clone().detach() or sourceTensor.clone().detach().requires_grad_(True), rather than torch.tensor(sourceTensor).\n"
     ]
    }
   ],
   "source": [
    "# Tokenize all of the sentences and map the tokens to thier word IDs.\n",
    "input_ids = []\n",
    "attention_masks = []\n",
    "\n",
    "# For every sentence...\n",
    "for sent in sentences:\n",
    "    # `encode_plus` will:\n",
    "    #   (1) Tokenize the sentence.\n",
    "    #   (2) Prepend the `[CLS]` token to the start.\n",
    "    #   (3) Append the `[SEP]` token to the end.\n",
    "    #   (4) Map tokens to their IDs.\n",
    "    #   (5) Pad or truncate the sentence to `max_length`\n",
    "    #   (6) Create attention masks for [PAD] tokens.\n",
    "    encoded_dict = tokenizer.encode_plus(\n",
    "                        sent,                      # Sentence to encode.\n",
    "                        add_special_tokens = True, # Add '[CLS]' and '[SEP]'\n",
    "                        max_length = 140,           # Pad & truncate all sentences.\n",
    "                        pad_to_max_length = True,\n",
    "                        return_attention_mask = True,   # Construct attn. masks.\n",
    "                        return_tensors = 'pt',     # Return pytorch tensors.\n",
    "                   )\n",
    "    \n",
    "    # Add the encoded sentence to the list.    \n",
    "    input_ids.append(encoded_dict['input_ids'])\n",
    "    \n",
    "    # And its attention mask (simply differentiates padding from non-padding).\n",
    "    attention_masks.append(encoded_dict['attention_mask'])\n",
    "\n",
    "# Convert the lists into tensors.\n",
    "input_ids = torch.cat(input_ids, dim=0)\n",
    "attention_masks = torch.cat(attention_masks, dim=0)\n",
    "labels = torch.tensor(labels)\n",
    "\n",
    "# Print sentence 0, now as a list of IDs.\n",
    "print('Original: ', sentences[0])\n",
    "print('Token IDs:', input_ids[0])"
   ]
  },
  {
   "cell_type": "code",
   "execution_count": null,
   "metadata": {
    "colab": {
     "base_uri": "https://localhost:8080/"
    },
    "id": "knB4LtXrJVuj",
    "outputId": "927c958f-498e-43b4-b84d-abd3cbf2cbe7"
   },
   "outputs": [
    {
     "name": "stderr",
     "output_type": "stream",
     "text": [
      "/usr/local/lib/python3.6/dist-packages/transformers/tokenization_utils_base.py:2022: FutureWarning: The `pad_to_max_length` argument is deprecated and will be removed in a future version, use `padding=True` or `padding='longest'` to pad to the longest sequence in the batch, or use `padding='max_length'` to pad to a max length. In this case, you can give a specific length with `max_length` (e.g. `max_length=45`) or leave max_length to None to pad to the maximal input size of the model (e.g. 512 for Bert).\n",
      "  FutureWarning,\n"
     ]
    },
    {
     "name": "stdout",
     "output_type": "stream",
     "text": [
      "Original:  I am a little confused on all of the models of the 88-89 bonnevilles.\n",
      "I have heard of the LE SE LSE SSE SSEI. Could someone tell me the\n",
      "differences are far as features or performance. I am also curious to\n",
      "know what the book value is for prefereably the 89 model. And how much\n",
      "less than book value can you usually get them for. In other words how\n",
      "much are they in demand this time of year. I have heard that the mid-spring\n",
      "early summer is the best time to buy.\n",
      "Token IDs: tensor([  101,  1045,  2572,  1037,  2210,  5457,  2006,  2035,  1997,  1996,\n",
      "         4275,  1997,  1996,  6070,  1011,  6486, 19349, 21187,  2015,  1012,\n",
      "         1045,  2031,  2657,  1997,  1996,  3393,  7367,  1048,  3366,  7020,\n",
      "         2063,  7020,  7416,  1012,  2071,  2619,  2425,  2033,  1996,  5966,\n",
      "         2024,  2521,  2004,  2838,  2030,  2836,  1012,  1045,  2572,  2036,\n",
      "         8025,  2000,  2113,  2054,  1996,  2338,  3643,  2003,  2005,  9544,\n",
      "         5243,  6321,  1996,  6486,  2944,  1012,  1998,  2129,  2172,  2625,\n",
      "         2084,  2338,  3643,  2064,  2017,  2788,  2131,  2068,  2005,  1012,\n",
      "         1999,  2060,  2616,  2129,  2172,  2024,  2027,  1999,  5157,  2023,\n",
      "         2051,  1997,  2095,  1012,  1045,  2031,  2657,  2008,  1996,  3054,\n",
      "         1011,  3500,  2220,  2621,  2003,  1996,  2190,  2051,  2000,  4965,\n",
      "         1012,   102,     0,     0,     0,     0,     0,     0,     0,     0,\n",
      "            0,     0,     0,     0,     0,     0,     0,     0,     0,     0,\n",
      "            0,     0,     0,     0,     0,     0,     0,     0,     0,     0])\n"
     ]
    },
    {
     "name": "stderr",
     "output_type": "stream",
     "text": [
      "/usr/local/lib/python3.6/dist-packages/ipykernel_launcher.py:32: UserWarning: To copy construct from a tensor, it is recommended to use sourceTensor.clone().detach() or sourceTensor.clone().detach().requires_grad_(True), rather than torch.tensor(sourceTensor).\n"
     ]
    }
   ],
   "source": [
    "# Tokenize all of the sentences and map the tokens to thier word IDs.\n",
    "input_ids_test = []\n",
    "attention_masks_test = []\n",
    "\n",
    "# For every sentence...\n",
    "for sent in sentences_test:\n",
    "    # `encode_plus` will:\n",
    "    #   (1) Tokenize the sentence.\n",
    "    #   (2) Prepend the `[CLS]` token to the start.\n",
    "    #   (3) Append the `[SEP]` token to the end.\n",
    "    #   (4) Map tokens to their IDs.\n",
    "    #   (5) Pad or truncate the sentence to `max_length`\n",
    "    #   (6) Create attention masks for [PAD] tokens.\n",
    "    encoded_dict = tokenizer.encode_plus(\n",
    "                        sent,                      # Sentence to encode.\n",
    "                        add_special_tokens = True, # Add '[CLS]' and '[SEP]'\n",
    "                        max_length = 140,           # Pad & truncate all sentences.\n",
    "                        pad_to_max_length = True,\n",
    "                        return_attention_mask = True,   # Construct attn. masks.\n",
    "                        return_tensors = 'pt',     # Return pytorch tensors.\n",
    "                   )\n",
    "    \n",
    "    # Add the encoded sentence to the list.    \n",
    "    input_ids_test.append(encoded_dict['input_ids'])\n",
    "    \n",
    "    # And its attention mask (simply differentiates padding from non-padding).\n",
    "    attention_masks_test.append(encoded_dict['attention_mask'])\n",
    "\n",
    "# Convert the lists into tensors.\n",
    "input_ids_test = torch.cat(input_ids_test, dim=0)\n",
    "attention_masks_test = torch.cat(attention_masks_test, dim=0)\n",
    "labels_test = torch.tensor(labels_test)\n",
    "\n",
    "# Print sentence 0, now as a list of IDs.\n",
    "print('Original: ', sentences_test[0])\n",
    "print('Token IDs:', input_ids_test[0])"
   ]
  },
  {
   "cell_type": "code",
   "execution_count": null,
   "metadata": {
    "colab": {
     "base_uri": "https://localhost:8080/"
    },
    "id": "cIuDk2xtJdhb",
    "outputId": "7cc677e8-9dbc-44b9-e6af-5f34e93c9d52"
   },
   "outputs": [
    {
     "name": "stdout",
     "output_type": "stream",
     "text": [
      "8,876 training samples\n",
      "2,220 validation samples\n"
     ]
    }
   ],
   "source": [
    "from torch.utils.data import TensorDataset, random_split\n",
    "\n",
    "# Combine the training inputs into a TensorDataset.\n",
    "dataset = TensorDataset(input_ids, attention_masks, labels)\n",
    "test_dataset = TensorDataset(input_ids_test, attention_masks_test, labels_test)\n",
    "\n",
    "# Create a 80-20 train-validation split.\n",
    "\n",
    "# Calculate the number of samples to include in each set.\n",
    "train_size = int(0.8 * len(dataset))\n",
    "val_size = len(dataset) - train_size\n",
    "\n",
    "# Divide the dataset by randomly selecting samples.\n",
    "train_dataset, val_dataset = random_split(dataset, [train_size, val_size])\n",
    "\n",
    "print('{:>5,} training samples'.format(train_size))\n",
    "print('{:>5,} validation samples'.format(val_size))"
   ]
  },
  {
   "cell_type": "code",
   "execution_count": null,
   "metadata": {
    "id": "9bWHCu9hJptE"
   },
   "outputs": [],
   "source": [
    "from torch.utils.data import DataLoader, RandomSampler, SequentialSampler\n",
    "\n",
    "# The DataLoader needs to know our batch size for training, so we specify it \n",
    "# here. For fine-tuning BERT on a specific task, the authors recommend a batch \n",
    "# size of 16 or 32.\n",
    "batch_size = 32\n",
    "\n",
    "# Create the DataLoaders for our training and validation sets.\n",
    "# We'll take training samples in random order. \n",
    "train_dataloader = DataLoader(\n",
    "            train_dataset,  # The training samples.\n",
    "            sampler = RandomSampler(train_dataset), # Select batches randomly\n",
    "            batch_size = batch_size # Trains with this batch size.\n",
    "        )\n",
    "\n",
    "# For validation the order doesn't matter, so we'll just read them sequentially.\n",
    "validation_dataloader = DataLoader(\n",
    "            val_dataset, # The validation samples.\n",
    "            sampler = SequentialSampler(val_dataset), # Pull out batches sequentially.\n",
    "            batch_size = batch_size # Evaluate with this batch size.\n",
    "        )\n",
    "test_dataloader = DataLoader(\n",
    "            test_dataset, # The validation samples.\n",
    "            sampler = SequentialSampler(test_dataset), # Pull out batches sequentially.\n",
    "            batch_size = batch_size # Evaluate with this batch size.\n",
    "        )"
   ]
  },
  {
   "cell_type": "code",
   "execution_count": null,
   "metadata": {
    "colab": {
     "base_uri": "https://localhost:8080/"
    },
    "id": "lsbvOArQJpxq",
    "outputId": "07825b6c-5219-4ae7-db29-5a0c404e838e"
   },
   "outputs": [
    {
     "name": "stderr",
     "output_type": "stream",
     "text": [
      "Some weights of the model checkpoint at bert-base-uncased were not used when initializing BertForSequenceClassification: ['cls.predictions.bias', 'cls.predictions.transform.dense.weight', 'cls.predictions.transform.dense.bias', 'cls.predictions.decoder.weight', 'cls.seq_relationship.weight', 'cls.seq_relationship.bias', 'cls.predictions.transform.LayerNorm.weight', 'cls.predictions.transform.LayerNorm.bias']\n",
      "- This IS expected if you are initializing BertForSequenceClassification from the checkpoint of a model trained on another task or with another architecture (e.g. initializing a BertForSequenceClassification model from a BertForPreTraining model).\n",
      "- This IS NOT expected if you are initializing BertForSequenceClassification from the checkpoint of a model that you expect to be exactly identical (initializing a BertForSequenceClassification model from a BertForSequenceClassification model).\n",
      "Some weights of BertForSequenceClassification were not initialized from the model checkpoint at bert-base-uncased and are newly initialized: ['classifier.weight', 'classifier.bias']\n",
      "You should probably TRAIN this model on a down-stream task to be able to use it for predictions and inference.\n"
     ]
    }
   ],
   "source": [
    "from transformers import BertForSequenceClassification, AdamW, BertConfig\n",
    "\n",
    "# Load BertForSequenceClassification, the pretrained BERT model with a single \n",
    "# linear classification layer on top. \n",
    "model = BertForSequenceClassification.from_pretrained(\n",
    "    \"bert-base-uncased\", # Use the 12-layer BERT model, with an uncased vocab.\n",
    "    num_labels = 20, # The number of output labels   \n",
    "    output_attentions = False, # Whether the model returns attentions weights.\n",
    "    output_hidden_states = False, # Whether the model returns all hidden-states.\n",
    ")\n"
   ]
  },
  {
   "cell_type": "code",
   "execution_count": null,
   "metadata": {
    "id": "9AJ4gOjTL8WH"
   },
   "outputs": [],
   "source": [
    "for name, param in model.named_parameters():\n",
    "\tif 'classifier' not in name: # classifier layer\n",
    "\t\tparam.requires_grad = False"
   ]
  },
  {
   "cell_type": "code",
   "execution_count": null,
   "metadata": {
    "colab": {
     "base_uri": "https://localhost:8080/"
    },
    "id": "Vjhv8ECPJpqz",
    "outputId": "27c2dbd7-841b-44c3-fa46-3d1c5e5481af"
   },
   "outputs": [
    {
     "data": {
      "text/plain": [
       "device(type='cuda', index=0)"
      ]
     },
     "execution_count": 39,
     "metadata": {
      "tags": []
     },
     "output_type": "execute_result"
    }
   ],
   "source": [
    "device = torch.device('cuda:0' if torch.cuda.is_available() else 'cpu') \n",
    "device"
   ]
  },
  {
   "cell_type": "code",
   "execution_count": null,
   "metadata": {
    "colab": {
     "base_uri": "https://localhost:8080/"
    },
    "id": "glzCJswdJdlD",
    "outputId": "6ad4b244-6ea9-4aed-9f9a-d11742d7237b"
   },
   "outputs": [
    {
     "data": {
      "text/plain": [
       "BertForSequenceClassification(\n",
       "  (bert): BertModel(\n",
       "    (embeddings): BertEmbeddings(\n",
       "      (word_embeddings): Embedding(30522, 768, padding_idx=0)\n",
       "      (position_embeddings): Embedding(512, 768)\n",
       "      (token_type_embeddings): Embedding(2, 768)\n",
       "      (LayerNorm): LayerNorm((768,), eps=1e-12, elementwise_affine=True)\n",
       "      (dropout): Dropout(p=0.1, inplace=False)\n",
       "    )\n",
       "    (encoder): BertEncoder(\n",
       "      (layer): ModuleList(\n",
       "        (0): BertLayer(\n",
       "          (attention): BertAttention(\n",
       "            (self): BertSelfAttention(\n",
       "              (query): Linear(in_features=768, out_features=768, bias=True)\n",
       "              (key): Linear(in_features=768, out_features=768, bias=True)\n",
       "              (value): Linear(in_features=768, out_features=768, bias=True)\n",
       "              (dropout): Dropout(p=0.1, inplace=False)\n",
       "            )\n",
       "            (output): BertSelfOutput(\n",
       "              (dense): Linear(in_features=768, out_features=768, bias=True)\n",
       "              (LayerNorm): LayerNorm((768,), eps=1e-12, elementwise_affine=True)\n",
       "              (dropout): Dropout(p=0.1, inplace=False)\n",
       "            )\n",
       "          )\n",
       "          (intermediate): BertIntermediate(\n",
       "            (dense): Linear(in_features=768, out_features=3072, bias=True)\n",
       "          )\n",
       "          (output): BertOutput(\n",
       "            (dense): Linear(in_features=3072, out_features=768, bias=True)\n",
       "            (LayerNorm): LayerNorm((768,), eps=1e-12, elementwise_affine=True)\n",
       "            (dropout): Dropout(p=0.1, inplace=False)\n",
       "          )\n",
       "        )\n",
       "        (1): BertLayer(\n",
       "          (attention): BertAttention(\n",
       "            (self): BertSelfAttention(\n",
       "              (query): Linear(in_features=768, out_features=768, bias=True)\n",
       "              (key): Linear(in_features=768, out_features=768, bias=True)\n",
       "              (value): Linear(in_features=768, out_features=768, bias=True)\n",
       "              (dropout): Dropout(p=0.1, inplace=False)\n",
       "            )\n",
       "            (output): BertSelfOutput(\n",
       "              (dense): Linear(in_features=768, out_features=768, bias=True)\n",
       "              (LayerNorm): LayerNorm((768,), eps=1e-12, elementwise_affine=True)\n",
       "              (dropout): Dropout(p=0.1, inplace=False)\n",
       "            )\n",
       "          )\n",
       "          (intermediate): BertIntermediate(\n",
       "            (dense): Linear(in_features=768, out_features=3072, bias=True)\n",
       "          )\n",
       "          (output): BertOutput(\n",
       "            (dense): Linear(in_features=3072, out_features=768, bias=True)\n",
       "            (LayerNorm): LayerNorm((768,), eps=1e-12, elementwise_affine=True)\n",
       "            (dropout): Dropout(p=0.1, inplace=False)\n",
       "          )\n",
       "        )\n",
       "        (2): BertLayer(\n",
       "          (attention): BertAttention(\n",
       "            (self): BertSelfAttention(\n",
       "              (query): Linear(in_features=768, out_features=768, bias=True)\n",
       "              (key): Linear(in_features=768, out_features=768, bias=True)\n",
       "              (value): Linear(in_features=768, out_features=768, bias=True)\n",
       "              (dropout): Dropout(p=0.1, inplace=False)\n",
       "            )\n",
       "            (output): BertSelfOutput(\n",
       "              (dense): Linear(in_features=768, out_features=768, bias=True)\n",
       "              (LayerNorm): LayerNorm((768,), eps=1e-12, elementwise_affine=True)\n",
       "              (dropout): Dropout(p=0.1, inplace=False)\n",
       "            )\n",
       "          )\n",
       "          (intermediate): BertIntermediate(\n",
       "            (dense): Linear(in_features=768, out_features=3072, bias=True)\n",
       "          )\n",
       "          (output): BertOutput(\n",
       "            (dense): Linear(in_features=3072, out_features=768, bias=True)\n",
       "            (LayerNorm): LayerNorm((768,), eps=1e-12, elementwise_affine=True)\n",
       "            (dropout): Dropout(p=0.1, inplace=False)\n",
       "          )\n",
       "        )\n",
       "        (3): BertLayer(\n",
       "          (attention): BertAttention(\n",
       "            (self): BertSelfAttention(\n",
       "              (query): Linear(in_features=768, out_features=768, bias=True)\n",
       "              (key): Linear(in_features=768, out_features=768, bias=True)\n",
       "              (value): Linear(in_features=768, out_features=768, bias=True)\n",
       "              (dropout): Dropout(p=0.1, inplace=False)\n",
       "            )\n",
       "            (output): BertSelfOutput(\n",
       "              (dense): Linear(in_features=768, out_features=768, bias=True)\n",
       "              (LayerNorm): LayerNorm((768,), eps=1e-12, elementwise_affine=True)\n",
       "              (dropout): Dropout(p=0.1, inplace=False)\n",
       "            )\n",
       "          )\n",
       "          (intermediate): BertIntermediate(\n",
       "            (dense): Linear(in_features=768, out_features=3072, bias=True)\n",
       "          )\n",
       "          (output): BertOutput(\n",
       "            (dense): Linear(in_features=3072, out_features=768, bias=True)\n",
       "            (LayerNorm): LayerNorm((768,), eps=1e-12, elementwise_affine=True)\n",
       "            (dropout): Dropout(p=0.1, inplace=False)\n",
       "          )\n",
       "        )\n",
       "        (4): BertLayer(\n",
       "          (attention): BertAttention(\n",
       "            (self): BertSelfAttention(\n",
       "              (query): Linear(in_features=768, out_features=768, bias=True)\n",
       "              (key): Linear(in_features=768, out_features=768, bias=True)\n",
       "              (value): Linear(in_features=768, out_features=768, bias=True)\n",
       "              (dropout): Dropout(p=0.1, inplace=False)\n",
       "            )\n",
       "            (output): BertSelfOutput(\n",
       "              (dense): Linear(in_features=768, out_features=768, bias=True)\n",
       "              (LayerNorm): LayerNorm((768,), eps=1e-12, elementwise_affine=True)\n",
       "              (dropout): Dropout(p=0.1, inplace=False)\n",
       "            )\n",
       "          )\n",
       "          (intermediate): BertIntermediate(\n",
       "            (dense): Linear(in_features=768, out_features=3072, bias=True)\n",
       "          )\n",
       "          (output): BertOutput(\n",
       "            (dense): Linear(in_features=3072, out_features=768, bias=True)\n",
       "            (LayerNorm): LayerNorm((768,), eps=1e-12, elementwise_affine=True)\n",
       "            (dropout): Dropout(p=0.1, inplace=False)\n",
       "          )\n",
       "        )\n",
       "        (5): BertLayer(\n",
       "          (attention): BertAttention(\n",
       "            (self): BertSelfAttention(\n",
       "              (query): Linear(in_features=768, out_features=768, bias=True)\n",
       "              (key): Linear(in_features=768, out_features=768, bias=True)\n",
       "              (value): Linear(in_features=768, out_features=768, bias=True)\n",
       "              (dropout): Dropout(p=0.1, inplace=False)\n",
       "            )\n",
       "            (output): BertSelfOutput(\n",
       "              (dense): Linear(in_features=768, out_features=768, bias=True)\n",
       "              (LayerNorm): LayerNorm((768,), eps=1e-12, elementwise_affine=True)\n",
       "              (dropout): Dropout(p=0.1, inplace=False)\n",
       "            )\n",
       "          )\n",
       "          (intermediate): BertIntermediate(\n",
       "            (dense): Linear(in_features=768, out_features=3072, bias=True)\n",
       "          )\n",
       "          (output): BertOutput(\n",
       "            (dense): Linear(in_features=3072, out_features=768, bias=True)\n",
       "            (LayerNorm): LayerNorm((768,), eps=1e-12, elementwise_affine=True)\n",
       "            (dropout): Dropout(p=0.1, inplace=False)\n",
       "          )\n",
       "        )\n",
       "        (6): BertLayer(\n",
       "          (attention): BertAttention(\n",
       "            (self): BertSelfAttention(\n",
       "              (query): Linear(in_features=768, out_features=768, bias=True)\n",
       "              (key): Linear(in_features=768, out_features=768, bias=True)\n",
       "              (value): Linear(in_features=768, out_features=768, bias=True)\n",
       "              (dropout): Dropout(p=0.1, inplace=False)\n",
       "            )\n",
       "            (output): BertSelfOutput(\n",
       "              (dense): Linear(in_features=768, out_features=768, bias=True)\n",
       "              (LayerNorm): LayerNorm((768,), eps=1e-12, elementwise_affine=True)\n",
       "              (dropout): Dropout(p=0.1, inplace=False)\n",
       "            )\n",
       "          )\n",
       "          (intermediate): BertIntermediate(\n",
       "            (dense): Linear(in_features=768, out_features=3072, bias=True)\n",
       "          )\n",
       "          (output): BertOutput(\n",
       "            (dense): Linear(in_features=3072, out_features=768, bias=True)\n",
       "            (LayerNorm): LayerNorm((768,), eps=1e-12, elementwise_affine=True)\n",
       "            (dropout): Dropout(p=0.1, inplace=False)\n",
       "          )\n",
       "        )\n",
       "        (7): BertLayer(\n",
       "          (attention): BertAttention(\n",
       "            (self): BertSelfAttention(\n",
       "              (query): Linear(in_features=768, out_features=768, bias=True)\n",
       "              (key): Linear(in_features=768, out_features=768, bias=True)\n",
       "              (value): Linear(in_features=768, out_features=768, bias=True)\n",
       "              (dropout): Dropout(p=0.1, inplace=False)\n",
       "            )\n",
       "            (output): BertSelfOutput(\n",
       "              (dense): Linear(in_features=768, out_features=768, bias=True)\n",
       "              (LayerNorm): LayerNorm((768,), eps=1e-12, elementwise_affine=True)\n",
       "              (dropout): Dropout(p=0.1, inplace=False)\n",
       "            )\n",
       "          )\n",
       "          (intermediate): BertIntermediate(\n",
       "            (dense): Linear(in_features=768, out_features=3072, bias=True)\n",
       "          )\n",
       "          (output): BertOutput(\n",
       "            (dense): Linear(in_features=3072, out_features=768, bias=True)\n",
       "            (LayerNorm): LayerNorm((768,), eps=1e-12, elementwise_affine=True)\n",
       "            (dropout): Dropout(p=0.1, inplace=False)\n",
       "          )\n",
       "        )\n",
       "        (8): BertLayer(\n",
       "          (attention): BertAttention(\n",
       "            (self): BertSelfAttention(\n",
       "              (query): Linear(in_features=768, out_features=768, bias=True)\n",
       "              (key): Linear(in_features=768, out_features=768, bias=True)\n",
       "              (value): Linear(in_features=768, out_features=768, bias=True)\n",
       "              (dropout): Dropout(p=0.1, inplace=False)\n",
       "            )\n",
       "            (output): BertSelfOutput(\n",
       "              (dense): Linear(in_features=768, out_features=768, bias=True)\n",
       "              (LayerNorm): LayerNorm((768,), eps=1e-12, elementwise_affine=True)\n",
       "              (dropout): Dropout(p=0.1, inplace=False)\n",
       "            )\n",
       "          )\n",
       "          (intermediate): BertIntermediate(\n",
       "            (dense): Linear(in_features=768, out_features=3072, bias=True)\n",
       "          )\n",
       "          (output): BertOutput(\n",
       "            (dense): Linear(in_features=3072, out_features=768, bias=True)\n",
       "            (LayerNorm): LayerNorm((768,), eps=1e-12, elementwise_affine=True)\n",
       "            (dropout): Dropout(p=0.1, inplace=False)\n",
       "          )\n",
       "        )\n",
       "        (9): BertLayer(\n",
       "          (attention): BertAttention(\n",
       "            (self): BertSelfAttention(\n",
       "              (query): Linear(in_features=768, out_features=768, bias=True)\n",
       "              (key): Linear(in_features=768, out_features=768, bias=True)\n",
       "              (value): Linear(in_features=768, out_features=768, bias=True)\n",
       "              (dropout): Dropout(p=0.1, inplace=False)\n",
       "            )\n",
       "            (output): BertSelfOutput(\n",
       "              (dense): Linear(in_features=768, out_features=768, bias=True)\n",
       "              (LayerNorm): LayerNorm((768,), eps=1e-12, elementwise_affine=True)\n",
       "              (dropout): Dropout(p=0.1, inplace=False)\n",
       "            )\n",
       "          )\n",
       "          (intermediate): BertIntermediate(\n",
       "            (dense): Linear(in_features=768, out_features=3072, bias=True)\n",
       "          )\n",
       "          (output): BertOutput(\n",
       "            (dense): Linear(in_features=3072, out_features=768, bias=True)\n",
       "            (LayerNorm): LayerNorm((768,), eps=1e-12, elementwise_affine=True)\n",
       "            (dropout): Dropout(p=0.1, inplace=False)\n",
       "          )\n",
       "        )\n",
       "        (10): BertLayer(\n",
       "          (attention): BertAttention(\n",
       "            (self): BertSelfAttention(\n",
       "              (query): Linear(in_features=768, out_features=768, bias=True)\n",
       "              (key): Linear(in_features=768, out_features=768, bias=True)\n",
       "              (value): Linear(in_features=768, out_features=768, bias=True)\n",
       "              (dropout): Dropout(p=0.1, inplace=False)\n",
       "            )\n",
       "            (output): BertSelfOutput(\n",
       "              (dense): Linear(in_features=768, out_features=768, bias=True)\n",
       "              (LayerNorm): LayerNorm((768,), eps=1e-12, elementwise_affine=True)\n",
       "              (dropout): Dropout(p=0.1, inplace=False)\n",
       "            )\n",
       "          )\n",
       "          (intermediate): BertIntermediate(\n",
       "            (dense): Linear(in_features=768, out_features=3072, bias=True)\n",
       "          )\n",
       "          (output): BertOutput(\n",
       "            (dense): Linear(in_features=3072, out_features=768, bias=True)\n",
       "            (LayerNorm): LayerNorm((768,), eps=1e-12, elementwise_affine=True)\n",
       "            (dropout): Dropout(p=0.1, inplace=False)\n",
       "          )\n",
       "        )\n",
       "        (11): BertLayer(\n",
       "          (attention): BertAttention(\n",
       "            (self): BertSelfAttention(\n",
       "              (query): Linear(in_features=768, out_features=768, bias=True)\n",
       "              (key): Linear(in_features=768, out_features=768, bias=True)\n",
       "              (value): Linear(in_features=768, out_features=768, bias=True)\n",
       "              (dropout): Dropout(p=0.1, inplace=False)\n",
       "            )\n",
       "            (output): BertSelfOutput(\n",
       "              (dense): Linear(in_features=768, out_features=768, bias=True)\n",
       "              (LayerNorm): LayerNorm((768,), eps=1e-12, elementwise_affine=True)\n",
       "              (dropout): Dropout(p=0.1, inplace=False)\n",
       "            )\n",
       "          )\n",
       "          (intermediate): BertIntermediate(\n",
       "            (dense): Linear(in_features=768, out_features=3072, bias=True)\n",
       "          )\n",
       "          (output): BertOutput(\n",
       "            (dense): Linear(in_features=3072, out_features=768, bias=True)\n",
       "            (LayerNorm): LayerNorm((768,), eps=1e-12, elementwise_affine=True)\n",
       "            (dropout): Dropout(p=0.1, inplace=False)\n",
       "          )\n",
       "        )\n",
       "      )\n",
       "    )\n",
       "    (pooler): BertPooler(\n",
       "      (dense): Linear(in_features=768, out_features=768, bias=True)\n",
       "      (activation): Tanh()\n",
       "    )\n",
       "  )\n",
       "  (dropout): Dropout(p=0.1, inplace=False)\n",
       "  (classifier): Linear(in_features=768, out_features=20, bias=True)\n",
       ")"
      ]
     },
     "execution_count": 40,
     "metadata": {
      "tags": []
     },
     "output_type": "execute_result"
    }
   ],
   "source": [
    "# Tell pytorch to run this model on the GPU.\n",
    "model.to(device)"
   ]
  },
  {
   "cell_type": "code",
   "execution_count": null,
   "metadata": {
    "id": "pSbebmPdKCor"
   },
   "outputs": [],
   "source": [
    "# STEP 6: INSTANTIATE OPTIMIZER CLASS\n",
    "epochs = 40\n",
    "no_decay = ['bias', 'LayerNorm.weight']\n",
    "optimizer_grouped_parameters = [\n",
    "        {'params': [p for n, p in model.named_parameters() \n",
    "          if not any(nd in n for nd in no_decay)], \n",
    "         'weight_decay': 0.5},\n",
    "\n",
    "        {'params': [p for n, p in model.named_parameters() \n",
    "        if any(nd in n for nd in no_decay)], \n",
    "         'weight_decay': 0.0}\n",
    "        ]\n",
    "\n",
    "optimizer = AdamW(optimizer_grouped_parameters,\n",
    "                  lr = 1e-5, \n",
    "                  eps = 1e-8 \n",
    "                )\n",
    "\n",
    "no_decay = ['bias', 'LayerNorm.weight']\n",
    "\n",
    "\n",
    "\n",
    "from transformers import get_linear_schedule_with_warmup\n",
    "\n",
    "# Total number of training steps is [number of batches] x [number of epochs]. \n",
    "total_steps = len(train_dataloader) * epochs\n",
    "\n",
    "# Create the learning rate scheduler.\n",
    "scheduler = get_linear_schedule_with_warmup(optimizer, \n",
    "                                            num_warmup_steps = 0, # Default value in run_glue.py\n",
    "                                            num_training_steps = total_steps)"
   ]
  },
  {
   "cell_type": "code",
   "execution_count": null,
   "metadata": {
    "colab": {
     "base_uri": "https://localhost:8080/"
    },
    "id": "g-IMCSCWKClZ",
    "outputId": "2a62aa58-4f1e-4f90-e903-cc71b6d19154"
   },
   "outputs": [
    {
     "name": "stdout",
     "output_type": "stream",
     "text": [
      "Epoch 1/40, Train Loss: 2.9829    Valid Loss: 2.9552, Duration: 0:01:42.898574\n",
      "Epoch 2/40, Train Loss: 2.9463    Valid Loss: 2.9268, Duration: 0:01:43.098104\n",
      "Epoch 3/40, Train Loss: 2.9213    Valid Loss: 2.9031, Duration: 0:01:42.454608\n",
      "Epoch 4/40, Train Loss: 2.8982    Valid Loss: 2.8855, Duration: 0:01:42.478369\n",
      "Epoch 5/40, Train Loss: 2.8763    Valid Loss: 2.8628, Duration: 0:01:42.631750\n",
      "Epoch 6/40, Train Loss: 2.8589    Valid Loss: 2.8549, Duration: 0:01:42.686722\n",
      "Epoch 7/40, Train Loss: 2.8450    Valid Loss: 2.8307, Duration: 0:01:42.574097\n",
      "Epoch 8/40, Train Loss: 2.8296    Valid Loss: 2.8181, Duration: 0:01:42.598282\n",
      "Epoch 9/40, Train Loss: 2.8190    Valid Loss: 2.8043, Duration: 0:01:42.479549\n",
      "Epoch 10/40, Train Loss: 2.8034    Valid Loss: 2.7889, Duration: 0:01:42.509129\n",
      "Epoch 11/40, Train Loss: 2.7881    Valid Loss: 2.7787, Duration: 0:01:42.549329\n",
      "Epoch 12/40, Train Loss: 2.7802    Valid Loss: 2.7666, Duration: 0:01:42.649113\n",
      "Epoch 13/40, Train Loss: 2.7713    Valid Loss: 2.7564, Duration: 0:01:42.513219\n",
      "Epoch 14/40, Train Loss: 2.7610    Valid Loss: 2.7507, Duration: 0:01:42.623051\n",
      "Epoch 15/40, Train Loss: 2.7533    Valid Loss: 2.7397, Duration: 0:01:42.724267\n",
      "Epoch 16/40, Train Loss: 2.7396    Valid Loss: 2.7290, Duration: 0:01:42.595881\n",
      "Epoch 17/40, Train Loss: 2.7308    Valid Loss: 2.7179, Duration: 0:01:42.709800\n",
      "Epoch 18/40, Train Loss: 2.7250    Valid Loss: 2.7128, Duration: 0:01:42.839941\n",
      "Epoch 19/40, Train Loss: 2.7192    Valid Loss: 2.7039, Duration: 0:01:42.678420\n",
      "Epoch 20/40, Train Loss: 2.7085    Valid Loss: 2.6976, Duration: 0:01:42.765205\n",
      "Epoch 21/40, Train Loss: 2.7037    Valid Loss: 2.6909, Duration: 0:01:42.746229\n",
      "Epoch 22/40, Train Loss: 2.6930    Valid Loss: 2.6869, Duration: 0:01:42.747504\n",
      "Epoch 23/40, Train Loss: 2.6895    Valid Loss: 2.6818, Duration: 0:01:42.864802\n",
      "Epoch 24/40, Train Loss: 2.6836    Valid Loss: 2.6749, Duration: 0:01:42.970430\n",
      "Epoch 25/40, Train Loss: 2.6802    Valid Loss: 2.6694, Duration: 0:01:42.760034\n",
      "Epoch 26/40, Train Loss: 2.6755    Valid Loss: 2.6662, Duration: 0:01:42.606677\n",
      "Epoch 27/40, Train Loss: 2.6676    Valid Loss: 2.6614, Duration: 0:01:42.572343\n",
      "Epoch 28/40, Train Loss: 2.6667    Valid Loss: 2.6587, Duration: 0:01:42.426519\n",
      "Epoch 29/40, Train Loss: 2.6576    Valid Loss: 2.6537, Duration: 0:01:42.583918\n",
      "Epoch 30/40, Train Loss: 2.6602    Valid Loss: 2.6507, Duration: 0:01:42.412432\n",
      "Epoch 31/40, Train Loss: 2.6553    Valid Loss: 2.6472, Duration: 0:01:42.395270\n",
      "Epoch 32/40, Train Loss: 2.6576    Valid Loss: 2.6447, Duration: 0:01:42.414636\n",
      "Epoch 33/40, Train Loss: 2.6488    Valid Loss: 2.6422, Duration: 0:01:42.404837\n",
      "Epoch 34/40, Train Loss: 2.6508    Valid Loss: 2.6400, Duration: 0:01:42.558725\n",
      "Epoch 35/40, Train Loss: 2.6497    Valid Loss: 2.6386, Duration: 0:01:42.851233\n",
      "Epoch 36/40, Train Loss: 2.6449    Valid Loss: 2.6374, Duration: 0:01:42.954675\n",
      "Epoch 37/40, Train Loss: 2.6463    Valid Loss: 2.6364, Duration: 0:01:42.915754\n",
      "Epoch 38/40, Train Loss: 2.6438    Valid Loss: 2.6354, Duration: 0:01:43.040769\n",
      "Epoch 39/40, Train Loss: 2.6450    Valid Loss: 2.6350, Duration: 0:01:43.005383\n",
      "Epoch 40/40, Train Loss: 2.6407    Valid Loss: 2.6349, Duration: 0:01:42.499103\n"
     ]
    }
   ],
   "source": [
    "import random\n",
    "from datetime import datetime\n",
    "\n",
    "seed = 123\n",
    "\n",
    "random.seed(seed)\n",
    "np.random.seed(seed)\n",
    "torch.manual_seed(seed)\n",
    "torch.cuda.manual_seed_all(seed)\n",
    "\n",
    "epochs = 40\n",
    "\n",
    "# STEP 7: TRAIN THE MODEL\n",
    "\n",
    "train_losses= np.zeros(epochs)\n",
    "valid_losses= np.zeros(epochs)\n",
    "\n",
    "\n",
    "for epoch in range(epochs):\n",
    "  \n",
    "  t0= datetime.now()\n",
    "  train_loss=[]\n",
    "  \n",
    "  model.train()\n",
    "  for batch in train_dataloader:\n",
    "   \n",
    "    b_input_ids = batch[0].to(device)\n",
    "    b_input_mask = batch[1].to(device)\n",
    "    b_labels = batch[2].to(device)\n",
    "    # forward pass\n",
    "\n",
    "    loss, logits = model(b_input_ids, \n",
    "                        token_type_ids=None, \n",
    "                        attention_mask=b_input_mask, \n",
    "                        labels=b_labels)\n",
    "\n",
    "\n",
    "    # set gradients to zero \n",
    "    optimizer.zero_grad()\n",
    "\n",
    "    # backward pass\n",
    "    loss.backward()\n",
    "    torch.nn.utils.clip_grad_norm_(model.parameters(), 1.0)\n",
    "    optimizer.step()\n",
    "    scheduler.step()\n",
    "    train_loss.append(loss.item())\n",
    "  \n",
    "  train_loss=np.mean(train_loss)\n",
    "      \n",
    "  valid_loss=[]\n",
    "  model.eval()\n",
    "  with torch.no_grad():\n",
    "    for batch in validation_dataloader:\n",
    " \n",
    "      # forward pass\n",
    "      b_input_ids = batch[0].to(device)\n",
    "      b_input_mask = batch[1].to(device)\n",
    "      b_labels = batch[2].to(device)\n",
    "    # forward pass\n",
    "\n",
    "      loss, logits = model(b_input_ids, \n",
    "                          token_type_ids=None, \n",
    "                          attention_mask=b_input_mask, \n",
    "                          labels=b_labels)\n",
    "      \n",
    "      valid_loss.append(loss.item())\n",
    "\n",
    "    valid_loss=np.mean(valid_loss)\n",
    "  \n",
    "  # save Losses\n",
    "  train_losses[epoch]= train_loss\n",
    "  valid_losses[epoch]= valid_loss\n",
    "  dt= datetime.now()-t0\n",
    "  print(f'Epoch {epoch+1}/{epochs}, Train Loss: {train_loss:.4f}    Valid Loss: {valid_loss:.4f}, Duration: {dt}')"
   ]
  },
  {
   "cell_type": "code",
   "execution_count": null,
   "metadata": {
    "id": "5EkMwjUZKCi7"
   },
   "outputs": [],
   "source": [
    "train_acc = get_accuracy(train_dataloader, model)\n",
    "valid_acc = get_accuracy(validation_dataloader, model)\n",
    "test_acc = get_accuracy(test_dataloader, model)"
   ]
  },
  {
   "cell_type": "code",
   "execution_count": null,
   "metadata": {
    "colab": {
     "base_uri": "https://localhost:8080/"
    },
    "id": "4_RRtxs2KCgR",
    "outputId": "93d783a8-c018-4244-cf31-8d4e225142b3"
   },
   "outputs": [
    {
     "name": "stdout",
     "output_type": "stream",
     "text": [
      "Train acc: 0.2854,\t Valid acc: 0.2730, \t test acc: 0.2744\n"
     ]
    }
   ],
   "source": [
    "print(f'Train acc: {train_acc:.4f},\\t Valid acc: {valid_acc:.4f}, \\t test acc: {test_acc:.4f}')"
   ]
  },
  {
   "cell_type": "code",
   "execution_count": null,
   "metadata": {
    "id": "vYN7galXJeQW"
   },
   "outputs": [],
   "source": [
    "y_valid, predictions=get_predictions(test_dataloader, model)"
   ]
  },
  {
   "cell_type": "code",
   "execution_count": null,
   "metadata": {
    "colab": {
     "base_uri": "https://localhost:8080/",
     "height": 373
    },
    "id": "5QEHdEcNKy1M",
    "outputId": "f5e759f8-44ac-4d98-a689-e9acaa97dd6d"
   },
   "outputs": [
    {
     "data": {
      "image/png": "[encoded data removed]",
      "text/plain": [
       "<Figure size 432x360 with 2 Axes>"
      ]
     },
     "metadata": {
      "needs_background": "light",
      "tags": []
     },
     "output_type": "display_data"
    }
   ],
   "source": [
    "plot_confusion_matrix(y_valid,predictions)"
   ]
  },
  {
   "cell_type": "code",
   "execution_count": null,
   "metadata": {
    "id": "m6Por2yDpWNk"
   },
   "outputs": [],
   "source": []
  },
  {
   "cell_type": "markdown",
   "metadata": {
    "id": "3LeuEigKKur8"
   },
   "source": [
    "As unfreezing and running the epochs is a time taking process I have run only 40 epocs each and based on my observation usinging 128 token gave me slight better results"
   ]
  },
  {
   "cell_type": "code",
   "execution_count": null,
   "metadata": {
    "id": "4UbYUfEqDU6_"
   },
   "outputs": [],
   "source": []
  },
  {
   "cell_type": "markdown",
   "metadata": {
    "id": "RNy5nqELDdgJ"
   },
   "source": [
    "## Fine tuning of Bert without unfreezing using 128 tokens"
   ]
  },
  {
   "cell_type": "code",
   "execution_count": 37,
   "metadata": {
    "colab": {
     "base_uri": "https://localhost:8080/"
    },
    "id": "Q_Lc4q3gDjJF",
    "outputId": "a2aa5d04-9b54-4250-ae86-883510e8d8e5"
   },
   "outputs": [
    {
     "name": "stderr",
     "output_type": "stream",
     "text": [
      "/usr/local/lib/python3.6/dist-packages/transformers/tokenization_utils_base.py:2022: FutureWarning: The `pad_to_max_length` argument is deprecated and will be removed in a future version, use `padding=True` or `padding='longest'` to pad to the longest sequence in the batch, or use `padding='max_length'` to pad to a max length. In this case, you can give a specific length with `max_length` (e.g. `max_length=45`) or leave max_length to None to pad to the maximal input size of the model (e.g. 512 for Bert).\n",
      "  FutureWarning,\n"
     ]
    },
    {
     "name": "stdout",
     "output_type": "stream",
     "text": [
      "Original:  \n",
      "       The relevance is that if you've got x homicides and reduce\n",
      "the number of gun homicides in that group, but x doesn't decrease\n",
      "by a significant amount, have you made an improvement, and is that\n",
      "improvement worth what you've paid?\n",
      "\n",
      "\n",
      "       If a baseball bat is a tenth as likely to kill a victim as a gun,\n",
      "is that any comfort to that tenth?\n",
      "\n",
      "\n",
      "       I've faced a knife.  And I was damn annoyed I didn't *have*\n",
      "a gun.  All the statistics in the world didn't change the fact that\n",
      "*he* was interested in cutting *me*.\n",
      "\n",
      "\n",
      "       \"Anyone trained in self-defense.\" \n",
      "\n",
      "       Unarmed self-defense isn't for everyone.  What's more, it requires\n",
      "substantially more training to be safe and effective than a firearm.\n",
      "It requires physical proximity and thus a greater threat to the victim,\n",
      "which is a primary problem with stun guns.  You have to actually touch\n",
      "your assailant.  Unless you're *very* good, a large, stronger assailant\n",
      "can simply ignore your blows long enough to incapacitate you.\n",
      "\n",
      "Token IDs: tensor([  101,  1996, 21923,  2003,  2008,  2065,  2017,  1005,  2310,  2288,\n",
      "         1060, 18268,  2015,  1998,  5547,  1996,  2193,  1997,  3282, 18268,\n",
      "         2015,  1999,  2008,  2177,  1010,  2021,  1060,  2987,  1005,  1056,\n",
      "         9885,  2011,  1037,  3278,  3815,  1010,  2031,  2017,  2081,  2019,\n",
      "         7620,  1010,  1998,  2003,  2008,  7620,  4276,  2054,  2017,  1005,\n",
      "         2310,  3825,  1029,  2065,  1037,  3598,  7151,  2003,  1037,  7891,\n",
      "         2004,  3497,  2000,  3102,  1037,  6778,  2004,  1037,  3282,  1010,\n",
      "         2003,  2008,  2151,  7216,  2000,  2008,  7891,  1029,  1045,  1005,\n",
      "         2310,  4320,  1037,  5442,  1012,  1998,  1045,  2001,  4365, 11654,\n",
      "         1045,  2134,  1005,  1056,  1008,  2031,  1008,  1037,  3282,  1012,\n",
      "         2035,  1996,  6747,  1999,  1996,  2088,  2134,  1005,  1056,  2689,\n",
      "         1996,  2755,  2008,  1008,  2002,  1008,  2001,  4699,  1999,  6276,\n",
      "         1008,  2033,  1008,  1012,  1000,  3087,  4738,   102])\n"
     ]
    },
    {
     "name": "stderr",
     "output_type": "stream",
     "text": [
      "/usr/local/lib/python3.6/dist-packages/ipykernel_launcher.py:32: UserWarning: To copy construct from a tensor, it is recommended to use sourceTensor.clone().detach() or sourceTensor.clone().detach().requires_grad_(True), rather than torch.tensor(sourceTensor).\n"
     ]
    }
   ],
   "source": [
    "# Tokenize all of the sentences and map the tokens to thier word IDs.\n",
    "input_ids = []\n",
    "attention_masks = []\n",
    "\n",
    "# For every sentence...\n",
    "for sent in sentences:\n",
    "    # `encode_plus` will:\n",
    "    #   (1) Tokenize the sentence.\n",
    "    #   (2) Prepend the `[CLS]` token to the start.\n",
    "    #   (3) Append the `[SEP]` token to the end.\n",
    "    #   (4) Map tokens to their IDs.\n",
    "    #   (5) Pad or truncate the sentence to `max_length`\n",
    "    #   (6) Create attention masks for [PAD] tokens.\n",
    "    encoded_dict = tokenizer.encode_plus(\n",
    "                        sent,                      # Sentence to encode.\n",
    "                        add_special_tokens = True, # Add '[CLS]' and '[SEP]'\n",
    "                        max_length = 128,           # Pad & truncate all sentences.\n",
    "                        pad_to_max_length = True,\n",
    "                        return_attention_mask = True,   # Construct attn. masks.\n",
    "                        return_tensors = 'pt',     # Return pytorch tensors.\n",
    "                   )\n",
    "    \n",
    "    # Add the encoded sentence to the list.    \n",
    "    input_ids.append(encoded_dict['input_ids'])\n",
    "    \n",
    "    # And its attention mask (simply differentiates padding from non-padding).\n",
    "    attention_masks.append(encoded_dict['attention_mask'])\n",
    "\n",
    "# Convert the lists into tensors.\n",
    "input_ids = torch.cat(input_ids, dim=0)\n",
    "attention_masks = torch.cat(attention_masks, dim=0)\n",
    "labels = torch.tensor(labels)\n",
    "\n",
    "# Print sentence 0, now as a list of IDs.\n",
    "print('Original: ', sentences[0])\n",
    "print('Token IDs:', input_ids[0])"
   ]
  },
  {
   "cell_type": "code",
   "execution_count": 38,
   "metadata": {
    "colab": {
     "base_uri": "https://localhost:8080/"
    },
    "id": "ctNyMh61ED3q",
    "outputId": "b11b96b4-76fd-4df8-951e-ebd86ff3772b"
   },
   "outputs": [
    {
     "name": "stderr",
     "output_type": "stream",
     "text": [
      "/usr/local/lib/python3.6/dist-packages/transformers/tokenization_utils_base.py:2022: FutureWarning: The `pad_to_max_length` argument is deprecated and will be removed in a future version, use `padding=True` or `padding='longest'` to pad to the longest sequence in the batch, or use `padding='max_length'` to pad to a max length. In this case, you can give a specific length with `max_length` (e.g. `max_length=45`) or leave max_length to None to pad to the maximal input size of the model (e.g. 512 for Bert).\n",
      "  FutureWarning,\n"
     ]
    },
    {
     "name": "stdout",
     "output_type": "stream",
     "text": [
      "Original:  I am a little confused on all of the models of the 88-89 bonnevilles.\n",
      "I have heard of the LE SE LSE SSE SSEI. Could someone tell me the\n",
      "differences are far as features or performance. I am also curious to\n",
      "know what the book value is for prefereably the 89 model. And how much\n",
      "less than book value can you usually get them for. In other words how\n",
      "much are they in demand this time of year. I have heard that the mid-spring\n",
      "early summer is the best time to buy.\n",
      "Token IDs: tensor([  101,  1045,  2572,  1037,  2210,  5457,  2006,  2035,  1997,  1996,\n",
      "         4275,  1997,  1996,  6070,  1011,  6486, 19349, 21187,  2015,  1012,\n",
      "         1045,  2031,  2657,  1997,  1996,  3393,  7367,  1048,  3366,  7020,\n",
      "         2063,  7020,  7416,  1012,  2071,  2619,  2425,  2033,  1996,  5966,\n",
      "         2024,  2521,  2004,  2838,  2030,  2836,  1012,  1045,  2572,  2036,\n",
      "         8025,  2000,  2113,  2054,  1996,  2338,  3643,  2003,  2005,  9544,\n",
      "         5243,  6321,  1996,  6486,  2944,  1012,  1998,  2129,  2172,  2625,\n",
      "         2084,  2338,  3643,  2064,  2017,  2788,  2131,  2068,  2005,  1012,\n",
      "         1999,  2060,  2616,  2129,  2172,  2024,  2027,  1999,  5157,  2023,\n",
      "         2051,  1997,  2095,  1012,  1045,  2031,  2657,  2008,  1996,  3054,\n",
      "         1011,  3500,  2220,  2621,  2003,  1996,  2190,  2051,  2000,  4965,\n",
      "         1012,   102,     0,     0,     0,     0,     0,     0,     0,     0,\n",
      "            0,     0,     0,     0,     0,     0,     0,     0])\n"
     ]
    },
    {
     "name": "stderr",
     "output_type": "stream",
     "text": [
      "/usr/local/lib/python3.6/dist-packages/ipykernel_launcher.py:32: UserWarning: To copy construct from a tensor, it is recommended to use sourceTensor.clone().detach() or sourceTensor.clone().detach().requires_grad_(True), rather than torch.tensor(sourceTensor).\n"
     ]
    }
   ],
   "source": [
    "# Tokenize all of the sentences and map the tokens to thier word IDs.\n",
    "input_ids_test = []\n",
    "attention_masks_test = []\n",
    "\n",
    "# For every sentence...\n",
    "for sent in sentences_test:\n",
    "    # `encode_plus` will:\n",
    "    #   (1) Tokenize the sentence.\n",
    "    #   (2) Prepend the `[CLS]` token to the start.\n",
    "    #   (3) Append the `[SEP]` token to the end.\n",
    "    #   (4) Map tokens to their IDs.\n",
    "    #   (5) Pad or truncate the sentence to `max_length`\n",
    "    #   (6) Create attention masks for [PAD] tokens.\n",
    "    encoded_dict = tokenizer.encode_plus(\n",
    "                        sent,                      # Sentence to encode.\n",
    "                        add_special_tokens = True, # Add '[CLS]' and '[SEP]'\n",
    "                        max_length = 128,           # Pad & truncate all sentences.\n",
    "                        pad_to_max_length = True,\n",
    "                        return_attention_mask = True,   # Construct attn. masks.\n",
    "                        return_tensors = 'pt',     # Return pytorch tensors.\n",
    "                   )\n",
    "    \n",
    "    # Add the encoded sentence to the list.    \n",
    "    input_ids_test.append(encoded_dict['input_ids'])\n",
    "    \n",
    "    # And its attention mask (simply differentiates padding from non-padding).\n",
    "    attention_masks_test.append(encoded_dict['attention_mask'])\n",
    "\n",
    "# Convert the lists into tensors.\n",
    "input_ids_test = torch.cat(input_ids_test, dim=0)\n",
    "attention_masks_test = torch.cat(attention_masks_test, dim=0)\n",
    "labels_test = torch.tensor(labels_test)\n",
    "\n",
    "# Print sentence 0, now as a list of IDs.\n",
    "print('Original: ', sentences_test[0])\n",
    "print('Token IDs:', input_ids_test[0])"
   ]
  },
  {
   "cell_type": "code",
   "execution_count": 39,
   "metadata": {
    "colab": {
     "base_uri": "https://localhost:8080/"
    },
    "id": "vgmJF7KFERgI",
    "outputId": "1a7bea2b-117e-41eb-f259-6263abe1779c"
   },
   "outputs": [
    {
     "name": "stdout",
     "output_type": "stream",
     "text": [
      "8,876 training samples\n",
      "2,220 validation samples\n"
     ]
    }
   ],
   "source": [
    "from torch.utils.data import TensorDataset, random_split\n",
    "\n",
    "# Combine the training inputs into a TensorDataset.\n",
    "dataset = TensorDataset(input_ids, attention_masks, labels)\n",
    "test_dataset = TensorDataset(input_ids_test, attention_masks_test, labels_test)\n",
    "\n",
    "# Create a 80-20 train-validation split.\n",
    "\n",
    "# Calculate the number of samples to include in each set.\n",
    "train_size = int(0.8 * len(dataset))\n",
    "val_size = len(dataset) - train_size\n",
    "\n",
    "# Divide the dataset by randomly selecting samples.\n",
    "train_dataset, val_dataset = random_split(dataset, [train_size, val_size])\n",
    "\n",
    "print('{:>5,} training samples'.format(train_size))\n",
    "print('{:>5,} validation samples'.format(val_size))"
   ]
  },
  {
   "cell_type": "code",
   "execution_count": 40,
   "metadata": {
    "id": "4tRCLq_DESmA"
   },
   "outputs": [],
   "source": [
    "from torch.utils.data import DataLoader, RandomSampler, SequentialSampler\n",
    "\n",
    "# The DataLoader needs to know our batch size for training, so we specify it \n",
    "# here. For fine-tuning BERT on a specific task, the authors recommend a batch \n",
    "# size of 16 or 32.\n",
    "batch_size = 32\n",
    "\n",
    "# Create the DataLoaders for our training and validation sets.\n",
    "# We'll take training samples in random order. \n",
    "train_dataloader = DataLoader(\n",
    "            train_dataset,  # The training samples.\n",
    "            sampler = RandomSampler(train_dataset), # Select batches randomly\n",
    "            batch_size = batch_size # Trains with this batch size.\n",
    "        )\n",
    "\n",
    "# For validation the order doesn't matter, so we'll just read them sequentially.\n",
    "validation_dataloader = DataLoader(\n",
    "            val_dataset, # The validation samples.\n",
    "            sampler = SequentialSampler(val_dataset), # Pull out batches sequentially.\n",
    "            batch_size = batch_size # Evaluate with this batch size.\n",
    "        )\n",
    "test_dataloader = DataLoader(\n",
    "            test_dataset, # The validation samples.\n",
    "            sampler = SequentialSampler(test_dataset), # Pull out batches sequentially.\n",
    "            batch_size = batch_size # Evaluate with this batch size.\n",
    "        )"
   ]
  },
  {
   "cell_type": "code",
   "execution_count": 41,
   "metadata": {
    "colab": {
     "base_uri": "https://localhost:8080/"
    },
    "id": "B5gto1nUESoa",
    "outputId": "e8230804-1e42-496a-f5ab-b2c0ae2a87c7"
   },
   "outputs": [
    {
     "name": "stderr",
     "output_type": "stream",
     "text": [
      "Some weights of the model checkpoint at bert-base-uncased were not used when initializing BertForSequenceClassification: ['cls.predictions.bias', 'cls.predictions.transform.dense.weight', 'cls.predictions.transform.dense.bias', 'cls.predictions.decoder.weight', 'cls.seq_relationship.weight', 'cls.seq_relationship.bias', 'cls.predictions.transform.LayerNorm.weight', 'cls.predictions.transform.LayerNorm.bias']\n",
      "- This IS expected if you are initializing BertForSequenceClassification from the checkpoint of a model trained on another task or with another architecture (e.g. initializing a BertForSequenceClassification model from a BertForPreTraining model).\n",
      "- This IS NOT expected if you are initializing BertForSequenceClassification from the checkpoint of a model that you expect to be exactly identical (initializing a BertForSequenceClassification model from a BertForSequenceClassification model).\n",
      "Some weights of BertForSequenceClassification were not initialized from the model checkpoint at bert-base-uncased and are newly initialized: ['classifier.weight', 'classifier.bias']\n",
      "You should probably TRAIN this model on a down-stream task to be able to use it for predictions and inference.\n"
     ]
    }
   ],
   "source": [
    "from transformers import BertForSequenceClassification, AdamW, BertConfig\n",
    "\n",
    "# Load BertForSequenceClassification, the pretrained BERT model with a single \n",
    "# linear classification layer on top. \n",
    "model = BertForSequenceClassification.from_pretrained(\n",
    "    \"bert-base-uncased\", # Use the 12-layer BERT model, with an uncased vocab.\n",
    "    num_labels = 20, # The number of output labels   \n",
    "    output_attentions = False, # Whether the model returns attentions weights.\n",
    "    output_hidden_states = False, # Whether the model returns all hidden-states.\n",
    ")\n"
   ]
  },
  {
   "cell_type": "code",
   "execution_count": 42,
   "metadata": {
    "colab": {
     "base_uri": "https://localhost:8080/"
    },
    "id": "Xgd25uQ7ESrM",
    "outputId": "a5e55257-3f3b-4b3b-e255-c40e3d773e29"
   },
   "outputs": [
    {
     "data": {
      "text/plain": [
       "device(type='cuda', index=0)"
      ]
     },
     "execution_count": 42,
     "metadata": {
      "tags": []
     },
     "output_type": "execute_result"
    }
   ],
   "source": [
    "device = torch.device('cuda:0' if torch.cuda.is_available() else 'cpu') \n",
    "device"
   ]
  },
  {
   "cell_type": "code",
   "execution_count": 43,
   "metadata": {
    "colab": {
     "base_uri": "https://localhost:8080/"
    },
    "id": "8jtuaKcJEStr",
    "outputId": "55dbb8bc-b6bc-48be-ff5c-767e6d526896"
   },
   "outputs": [
    {
     "data": {
      "text/plain": [
       "BertForSequenceClassification(\n",
       "  (bert): BertModel(\n",
       "    (embeddings): BertEmbeddings(\n",
       "      (word_embeddings): Embedding(30522, 768, padding_idx=0)\n",
       "      (position_embeddings): Embedding(512, 768)\n",
       "      (token_type_embeddings): Embedding(2, 768)\n",
       "      (LayerNorm): LayerNorm((768,), eps=1e-12, elementwise_affine=True)\n",
       "      (dropout): Dropout(p=0.1, inplace=False)\n",
       "    )\n",
       "    (encoder): BertEncoder(\n",
       "      (layer): ModuleList(\n",
       "        (0): BertLayer(\n",
       "          (attention): BertAttention(\n",
       "            (self): BertSelfAttention(\n",
       "              (query): Linear(in_features=768, out_features=768, bias=True)\n",
       "              (key): Linear(in_features=768, out_features=768, bias=True)\n",
       "              (value): Linear(in_features=768, out_features=768, bias=True)\n",
       "              (dropout): Dropout(p=0.1, inplace=False)\n",
       "            )\n",
       "            (output): BertSelfOutput(\n",
       "              (dense): Linear(in_features=768, out_features=768, bias=True)\n",
       "              (LayerNorm): LayerNorm((768,), eps=1e-12, elementwise_affine=True)\n",
       "              (dropout): Dropout(p=0.1, inplace=False)\n",
       "            )\n",
       "          )\n",
       "          (intermediate): BertIntermediate(\n",
       "            (dense): Linear(in_features=768, out_features=3072, bias=True)\n",
       "          )\n",
       "          (output): BertOutput(\n",
       "            (dense): Linear(in_features=3072, out_features=768, bias=True)\n",
       "            (LayerNorm): LayerNorm((768,), eps=1e-12, elementwise_affine=True)\n",
       "            (dropout): Dropout(p=0.1, inplace=False)\n",
       "          )\n",
       "        )\n",
       "        (1): BertLayer(\n",
       "          (attention): BertAttention(\n",
       "            (self): BertSelfAttention(\n",
       "              (query): Linear(in_features=768, out_features=768, bias=True)\n",
       "              (key): Linear(in_features=768, out_features=768, bias=True)\n",
       "              (value): Linear(in_features=768, out_features=768, bias=True)\n",
       "              (dropout): Dropout(p=0.1, inplace=False)\n",
       "            )\n",
       "            (output): BertSelfOutput(\n",
       "              (dense): Linear(in_features=768, out_features=768, bias=True)\n",
       "              (LayerNorm): LayerNorm((768,), eps=1e-12, elementwise_affine=True)\n",
       "              (dropout): Dropout(p=0.1, inplace=False)\n",
       "            )\n",
       "          )\n",
       "          (intermediate): BertIntermediate(\n",
       "            (dense): Linear(in_features=768, out_features=3072, bias=True)\n",
       "          )\n",
       "          (output): BertOutput(\n",
       "            (dense): Linear(in_features=3072, out_features=768, bias=True)\n",
       "            (LayerNorm): LayerNorm((768,), eps=1e-12, elementwise_affine=True)\n",
       "            (dropout): Dropout(p=0.1, inplace=False)\n",
       "          )\n",
       "        )\n",
       "        (2): BertLayer(\n",
       "          (attention): BertAttention(\n",
       "            (self): BertSelfAttention(\n",
       "              (query): Linear(in_features=768, out_features=768, bias=True)\n",
       "              (key): Linear(in_features=768, out_features=768, bias=True)\n",
       "              (value): Linear(in_features=768, out_features=768, bias=True)\n",
       "              (dropout): Dropout(p=0.1, inplace=False)\n",
       "            )\n",
       "            (output): BertSelfOutput(\n",
       "              (dense): Linear(in_features=768, out_features=768, bias=True)\n",
       "              (LayerNorm): LayerNorm((768,), eps=1e-12, elementwise_affine=True)\n",
       "              (dropout): Dropout(p=0.1, inplace=False)\n",
       "            )\n",
       "          )\n",
       "          (intermediate): BertIntermediate(\n",
       "            (dense): Linear(in_features=768, out_features=3072, bias=True)\n",
       "          )\n",
       "          (output): BertOutput(\n",
       "            (dense): Linear(in_features=3072, out_features=768, bias=True)\n",
       "            (LayerNorm): LayerNorm((768,), eps=1e-12, elementwise_affine=True)\n",
       "            (dropout): Dropout(p=0.1, inplace=False)\n",
       "          )\n",
       "        )\n",
       "        (3): BertLayer(\n",
       "          (attention): BertAttention(\n",
       "            (self): BertSelfAttention(\n",
       "              (query): Linear(in_features=768, out_features=768, bias=True)\n",
       "              (key): Linear(in_features=768, out_features=768, bias=True)\n",
       "              (value): Linear(in_features=768, out_features=768, bias=True)\n",
       "              (dropout): Dropout(p=0.1, inplace=False)\n",
       "            )\n",
       "            (output): BertSelfOutput(\n",
       "              (dense): Linear(in_features=768, out_features=768, bias=True)\n",
       "              (LayerNorm): LayerNorm((768,), eps=1e-12, elementwise_affine=True)\n",
       "              (dropout): Dropout(p=0.1, inplace=False)\n",
       "            )\n",
       "          )\n",
       "          (intermediate): BertIntermediate(\n",
       "            (dense): Linear(in_features=768, out_features=3072, bias=True)\n",
       "          )\n",
       "          (output): BertOutput(\n",
       "            (dense): Linear(in_features=3072, out_features=768, bias=True)\n",
       "            (LayerNorm): LayerNorm((768,), eps=1e-12, elementwise_affine=True)\n",
       "            (dropout): Dropout(p=0.1, inplace=False)\n",
       "          )\n",
       "        )\n",
       "        (4): BertLayer(\n",
       "          (attention): BertAttention(\n",
       "            (self): BertSelfAttention(\n",
       "              (query): Linear(in_features=768, out_features=768, bias=True)\n",
       "              (key): Linear(in_features=768, out_features=768, bias=True)\n",
       "              (value): Linear(in_features=768, out_features=768, bias=True)\n",
       "              (dropout): Dropout(p=0.1, inplace=False)\n",
       "            )\n",
       "            (output): BertSelfOutput(\n",
       "              (dense): Linear(in_features=768, out_features=768, bias=True)\n",
       "              (LayerNorm): LayerNorm((768,), eps=1e-12, elementwise_affine=True)\n",
       "              (dropout): Dropout(p=0.1, inplace=False)\n",
       "            )\n",
       "          )\n",
       "          (intermediate): BertIntermediate(\n",
       "            (dense): Linear(in_features=768, out_features=3072, bias=True)\n",
       "          )\n",
       "          (output): BertOutput(\n",
       "            (dense): Linear(in_features=3072, out_features=768, bias=True)\n",
       "            (LayerNorm): LayerNorm((768,), eps=1e-12, elementwise_affine=True)\n",
       "            (dropout): Dropout(p=0.1, inplace=False)\n",
       "          )\n",
       "        )\n",
       "        (5): BertLayer(\n",
       "          (attention): BertAttention(\n",
       "            (self): BertSelfAttention(\n",
       "              (query): Linear(in_features=768, out_features=768, bias=True)\n",
       "              (key): Linear(in_features=768, out_features=768, bias=True)\n",
       "              (value): Linear(in_features=768, out_features=768, bias=True)\n",
       "              (dropout): Dropout(p=0.1, inplace=False)\n",
       "            )\n",
       "            (output): BertSelfOutput(\n",
       "              (dense): Linear(in_features=768, out_features=768, bias=True)\n",
       "              (LayerNorm): LayerNorm((768,), eps=1e-12, elementwise_affine=True)\n",
       "              (dropout): Dropout(p=0.1, inplace=False)\n",
       "            )\n",
       "          )\n",
       "          (intermediate): BertIntermediate(\n",
       "            (dense): Linear(in_features=768, out_features=3072, bias=True)\n",
       "          )\n",
       "          (output): BertOutput(\n",
       "            (dense): Linear(in_features=3072, out_features=768, bias=True)\n",
       "            (LayerNorm): LayerNorm((768,), eps=1e-12, elementwise_affine=True)\n",
       "            (dropout): Dropout(p=0.1, inplace=False)\n",
       "          )\n",
       "        )\n",
       "        (6): BertLayer(\n",
       "          (attention): BertAttention(\n",
       "            (self): BertSelfAttention(\n",
       "              (query): Linear(in_features=768, out_features=768, bias=True)\n",
       "              (key): Linear(in_features=768, out_features=768, bias=True)\n",
       "              (value): Linear(in_features=768, out_features=768, bias=True)\n",
       "              (dropout): Dropout(p=0.1, inplace=False)\n",
       "            )\n",
       "            (output): BertSelfOutput(\n",
       "              (dense): Linear(in_features=768, out_features=768, bias=True)\n",
       "              (LayerNorm): LayerNorm((768,), eps=1e-12, elementwise_affine=True)\n",
       "              (dropout): Dropout(p=0.1, inplace=False)\n",
       "            )\n",
       "          )\n",
       "          (intermediate): BertIntermediate(\n",
       "            (dense): Linear(in_features=768, out_features=3072, bias=True)\n",
       "          )\n",
       "          (output): BertOutput(\n",
       "            (dense): Linear(in_features=3072, out_features=768, bias=True)\n",
       "            (LayerNorm): LayerNorm((768,), eps=1e-12, elementwise_affine=True)\n",
       "            (dropout): Dropout(p=0.1, inplace=False)\n",
       "          )\n",
       "        )\n",
       "        (7): BertLayer(\n",
       "          (attention): BertAttention(\n",
       "            (self): BertSelfAttention(\n",
       "              (query): Linear(in_features=768, out_features=768, bias=True)\n",
       "              (key): Linear(in_features=768, out_features=768, bias=True)\n",
       "              (value): Linear(in_features=768, out_features=768, bias=True)\n",
       "              (dropout): Dropout(p=0.1, inplace=False)\n",
       "            )\n",
       "            (output): BertSelfOutput(\n",
       "              (dense): Linear(in_features=768, out_features=768, bias=True)\n",
       "              (LayerNorm): LayerNorm((768,), eps=1e-12, elementwise_affine=True)\n",
       "              (dropout): Dropout(p=0.1, inplace=False)\n",
       "            )\n",
       "          )\n",
       "          (intermediate): BertIntermediate(\n",
       "            (dense): Linear(in_features=768, out_features=3072, bias=True)\n",
       "          )\n",
       "          (output): BertOutput(\n",
       "            (dense): Linear(in_features=3072, out_features=768, bias=True)\n",
       "            (LayerNorm): LayerNorm((768,), eps=1e-12, elementwise_affine=True)\n",
       "            (dropout): Dropout(p=0.1, inplace=False)\n",
       "          )\n",
       "        )\n",
       "        (8): BertLayer(\n",
       "          (attention): BertAttention(\n",
       "            (self): BertSelfAttention(\n",
       "              (query): Linear(in_features=768, out_features=768, bias=True)\n",
       "              (key): Linear(in_features=768, out_features=768, bias=True)\n",
       "              (value): Linear(in_features=768, out_features=768, bias=True)\n",
       "              (dropout): Dropout(p=0.1, inplace=False)\n",
       "            )\n",
       "            (output): BertSelfOutput(\n",
       "              (dense): Linear(in_features=768, out_features=768, bias=True)\n",
       "              (LayerNorm): LayerNorm((768,), eps=1e-12, elementwise_affine=True)\n",
       "              (dropout): Dropout(p=0.1, inplace=False)\n",
       "            )\n",
       "          )\n",
       "          (intermediate): BertIntermediate(\n",
       "            (dense): Linear(in_features=768, out_features=3072, bias=True)\n",
       "          )\n",
       "          (output): BertOutput(\n",
       "            (dense): Linear(in_features=3072, out_features=768, bias=True)\n",
       "            (LayerNorm): LayerNorm((768,), eps=1e-12, elementwise_affine=True)\n",
       "            (dropout): Dropout(p=0.1, inplace=False)\n",
       "          )\n",
       "        )\n",
       "        (9): BertLayer(\n",
       "          (attention): BertAttention(\n",
       "            (self): BertSelfAttention(\n",
       "              (query): Linear(in_features=768, out_features=768, bias=True)\n",
       "              (key): Linear(in_features=768, out_features=768, bias=True)\n",
       "              (value): Linear(in_features=768, out_features=768, bias=True)\n",
       "              (dropout): Dropout(p=0.1, inplace=False)\n",
       "            )\n",
       "            (output): BertSelfOutput(\n",
       "              (dense): Linear(in_features=768, out_features=768, bias=True)\n",
       "              (LayerNorm): LayerNorm((768,), eps=1e-12, elementwise_affine=True)\n",
       "              (dropout): Dropout(p=0.1, inplace=False)\n",
       "            )\n",
       "          )\n",
       "          (intermediate): BertIntermediate(\n",
       "            (dense): Linear(in_features=768, out_features=3072, bias=True)\n",
       "          )\n",
       "          (output): BertOutput(\n",
       "            (dense): Linear(in_features=3072, out_features=768, bias=True)\n",
       "            (LayerNorm): LayerNorm((768,), eps=1e-12, elementwise_affine=True)\n",
       "            (dropout): Dropout(p=0.1, inplace=False)\n",
       "          )\n",
       "        )\n",
       "        (10): BertLayer(\n",
       "          (attention): BertAttention(\n",
       "            (self): BertSelfAttention(\n",
       "              (query): Linear(in_features=768, out_features=768, bias=True)\n",
       "              (key): Linear(in_features=768, out_features=768, bias=True)\n",
       "              (value): Linear(in_features=768, out_features=768, bias=True)\n",
       "              (dropout): Dropout(p=0.1, inplace=False)\n",
       "            )\n",
       "            (output): BertSelfOutput(\n",
       "              (dense): Linear(in_features=768, out_features=768, bias=True)\n",
       "              (LayerNorm): LayerNorm((768,), eps=1e-12, elementwise_affine=True)\n",
       "              (dropout): Dropout(p=0.1, inplace=False)\n",
       "            )\n",
       "          )\n",
       "          (intermediate): BertIntermediate(\n",
       "            (dense): Linear(in_features=768, out_features=3072, bias=True)\n",
       "          )\n",
       "          (output): BertOutput(\n",
       "            (dense): Linear(in_features=3072, out_features=768, bias=True)\n",
       "            (LayerNorm): LayerNorm((768,), eps=1e-12, elementwise_affine=True)\n",
       "            (dropout): Dropout(p=0.1, inplace=False)\n",
       "          )\n",
       "        )\n",
       "        (11): BertLayer(\n",
       "          (attention): BertAttention(\n",
       "            (self): BertSelfAttention(\n",
       "              (query): Linear(in_features=768, out_features=768, bias=True)\n",
       "              (key): Linear(in_features=768, out_features=768, bias=True)\n",
       "              (value): Linear(in_features=768, out_features=768, bias=True)\n",
       "              (dropout): Dropout(p=0.1, inplace=False)\n",
       "            )\n",
       "            (output): BertSelfOutput(\n",
       "              (dense): Linear(in_features=768, out_features=768, bias=True)\n",
       "              (LayerNorm): LayerNorm((768,), eps=1e-12, elementwise_affine=True)\n",
       "              (dropout): Dropout(p=0.1, inplace=False)\n",
       "            )\n",
       "          )\n",
       "          (intermediate): BertIntermediate(\n",
       "            (dense): Linear(in_features=768, out_features=3072, bias=True)\n",
       "          )\n",
       "          (output): BertOutput(\n",
       "            (dense): Linear(in_features=3072, out_features=768, bias=True)\n",
       "            (LayerNorm): LayerNorm((768,), eps=1e-12, elementwise_affine=True)\n",
       "            (dropout): Dropout(p=0.1, inplace=False)\n",
       "          )\n",
       "        )\n",
       "      )\n",
       "    )\n",
       "    (pooler): BertPooler(\n",
       "      (dense): Linear(in_features=768, out_features=768, bias=True)\n",
       "      (activation): Tanh()\n",
       "    )\n",
       "  )\n",
       "  (dropout): Dropout(p=0.1, inplace=False)\n",
       "  (classifier): Linear(in_features=768, out_features=20, bias=True)\n",
       ")"
      ]
     },
     "execution_count": 43,
     "metadata": {
      "tags": []
     },
     "output_type": "execute_result"
    }
   ],
   "source": [
    "model.to(device)"
   ]
  },
  {
   "cell_type": "code",
   "execution_count": 44,
   "metadata": {
    "id": "Uph2no2sESw1"
   },
   "outputs": [],
   "source": [
    "# STEP 6: INSTANTIATE OPTIMIZER CLASS\n",
    "epochs = 5\n",
    "no_decay = ['bias', 'LayerNorm.weight']\n",
    "optimizer_grouped_parameters = [\n",
    "        {'params': [p for n, p in model.named_parameters() \n",
    "          if not any(nd in n for nd in no_decay)], \n",
    "         'weight_decay': 0.5},\n",
    "\n",
    "        {'params': [p for n, p in model.named_parameters() \n",
    "        if any(nd in n for nd in no_decay)], \n",
    "         'weight_decay': 0.0}\n",
    "        ]\n",
    "\n",
    "optimizer = AdamW(optimizer_grouped_parameters,\n",
    "                  lr = 5e-5, \n",
    "                  eps = 1e-8 \n",
    "                )\n",
    "\n",
    "no_decay = ['bias', 'LayerNorm.weight']\n",
    "\n",
    "\n",
    "\n",
    "from transformers import get_linear_schedule_with_warmup\n",
    "\n",
    "# Total number of training steps is [number of batches] x [number of epochs]. \n",
    "total_steps = len(train_dataloader) * epochs\n",
    "\n",
    "# Create the learning rate scheduler.\n",
    "scheduler = get_linear_schedule_with_warmup(optimizer, \n",
    "                                            num_warmup_steps = 0, # Default value in run_glue.py\n",
    "                                            num_training_steps = total_steps)"
   ]
  },
  {
   "cell_type": "code",
   "execution_count": 45,
   "metadata": {
    "colab": {
     "base_uri": "https://localhost:8080/"
    },
    "id": "3WeLFk5UFtwr",
    "outputId": "9fdef078-e5b9-4b07-c172-900ec9866f96"
   },
   "outputs": [
    {
     "name": "stdout",
     "output_type": "stream",
     "text": [
      "Epoch 1/5, Train Loss: 1.5910    Valid Loss: 1.0501, Duration: 0:03:53.483938\n",
      "Epoch 2/5, Train Loss: 0.7438    Valid Loss: 0.9202, Duration: 0:03:51.919358\n",
      "Epoch 3/5, Train Loss: 0.4438    Valid Loss: 0.9154, Duration: 0:03:52.399891\n",
      "Epoch 4/5, Train Loss: 0.2439    Valid Loss: 0.9688, Duration: 0:03:51.524175\n",
      "Epoch 5/5, Train Loss: 0.1422    Valid Loss: 0.9768, Duration: 0:03:51.102943\n"
     ]
    }
   ],
   "source": [
    "import random\n",
    "from datetime import datetime\n",
    "\n",
    "seed = 12345\n",
    "\n",
    "random.seed(seed)\n",
    "np.random.seed(seed)\n",
    "torch.manual_seed(seed)\n",
    "torch.cuda.manual_seed_all(seed)\n",
    "\n",
    "epochs = 5\n",
    "\n",
    "# STEP 7: TRAIN THE MODEL\n",
    "\n",
    "train_losses= np.zeros(epochs)\n",
    "valid_losses= np.zeros(epochs)\n",
    "\n",
    "\n",
    "for epoch in range(epochs):\n",
    "  \n",
    "  t0= datetime.now()\n",
    "  train_loss=[]\n",
    "  \n",
    "  model.train()\n",
    "  for batch in train_dataloader:\n",
    "   \n",
    "    b_input_ids = batch[0].to(device)\n",
    "    b_input_mask = batch[1].to(device)\n",
    "    b_labels = batch[2].to(device)\n",
    "    # forward pass\n",
    "\n",
    "    loss, logits = model(b_input_ids, \n",
    "                        token_type_ids=None, \n",
    "                        attention_mask=b_input_mask, \n",
    "                        labels=b_labels)\n",
    "\n",
    "\n",
    "    # set gradients to zero \n",
    "    optimizer.zero_grad()\n",
    "\n",
    "    # backward pass\n",
    "    loss.backward()\n",
    "    torch.nn.utils.clip_grad_norm_(model.parameters(), 1.0)\n",
    "    optimizer.step()\n",
    "    scheduler.step()\n",
    "    train_loss.append(loss.item())\n",
    "  \n",
    "  train_loss=np.mean(train_loss)\n",
    "      \n",
    "  valid_loss=[]\n",
    "  model.eval()\n",
    "  with torch.no_grad():\n",
    "    for batch in validation_dataloader:\n",
    " \n",
    "      # forward pass\n",
    "      b_input_ids = batch[0].to(device)\n",
    "      b_input_mask = batch[1].to(device)\n",
    "      b_labels = batch[2].to(device)\n",
    "    # forward pass\n",
    "\n",
    "      loss, logits = model(b_input_ids, \n",
    "                          token_type_ids=None, \n",
    "                          attention_mask=b_input_mask, \n",
    "                          labels=b_labels)\n",
    "      \n",
    "      valid_loss.append(loss.item())\n",
    "\n",
    "    valid_loss=np.mean(valid_loss)\n",
    "  \n",
    "  # save Losses\n",
    "  train_losses[epoch]= train_loss\n",
    "  valid_losses[epoch]= valid_loss\n",
    "  dt= datetime.now()-t0\n",
    "  print(f'Epoch {epoch+1}/{epochs}, Train Loss: {train_loss:.4f}    Valid Loss: {valid_loss:.4f}, Duration: {dt}')"
   ]
  },
  {
   "cell_type": "code",
   "execution_count": 46,
   "metadata": {
    "id": "avniEoBEFuvC"
   },
   "outputs": [],
   "source": [
    "train_acc = get_accuracy(train_dataloader, model)\n",
    "valid_acc = get_accuracy(validation_dataloader, model)\n",
    "test_acc = get_accuracy(test_dataloader, model)"
   ]
  },
  {
   "cell_type": "code",
   "execution_count": 47,
   "metadata": {
    "colab": {
     "base_uri": "https://localhost:8080/"
    },
    "id": "M_pGZv56F5qb",
    "outputId": "7f788af1-306a-453c-e039-933d0235d6cc"
   },
   "outputs": [
    {
     "name": "stdout",
     "output_type": "stream",
     "text": [
      "Train acc: 0.9810,\t Valid acc: 0.7387, \t test acc: 0.7167\n"
     ]
    }
   ],
   "source": [
    "print(f'Train acc: {train_acc:.4f},\\t Valid acc: {valid_acc:.4f}, \\t test acc: {test_acc:.4f}')"
   ]
  },
  {
   "cell_type": "code",
   "execution_count": 48,
   "metadata": {
    "id": "HqO2sy9kF5tl"
   },
   "outputs": [],
   "source": [
    "y_valid, predictions=get_predictions(test_dataloader, model)"
   ]
  },
  {
   "cell_type": "code",
   "execution_count": 49,
   "metadata": {
    "colab": {
     "base_uri": "https://localhost:8080/",
     "height": 373
    },
    "id": "ovCR9vSBF_hS",
    "outputId": "e69edee1-23c0-443a-d48b-465e1cb59dd0"
   },
   "outputs": [
    {
     "data": {
      "image/png": "[encoded data removed]",
      "text/plain": [
       "<Figure size 432x360 with 2 Axes>"
      ]
     },
     "metadata": {
      "needs_background": "light",
      "tags": []
     },
     "output_type": "display_data"
    }
   ],
   "source": [
    "plot_confusion_matrix(y_valid,predictions)"
   ]
  }
 ],
 "metadata": {
  "accelerator": "GPU",
  "colab": {
   "collapsed_sections": [],
   "name": "Hw5_pretrained_bert.ipynb",
   "provenance": []
  },
  "kernelspec": {
   "display_name": "Python 3",
   "language": "python",
   "name": "python3"
  },
  "language_info": {
   "codemirror_mode": {
    "name": "ipython",
    "version": 3
   },
   "file_extension": ".py",
   "mimetype": "text/x-python",
   "name": "python",
   "nbconvert_exporter": "python",
   "pygments_lexer": "ipython3",
   "version": "3.8.3"
  },
  "widgets": {
   "application/vnd.jupyter.widget-state+json": {
    "28e1ea410a0d4f0a841eae0894f3d3cb": {
     "model_module": "@jupyter-widgets/controls",
     "model_name": "DescriptionStyleModel",
     "state": {
      "_model_module": "@jupyter-widgets/controls",
      "_model_module_version": "1.5.0",
      "_model_name": "DescriptionStyleModel",
      "_view_count": null,
      "_view_module": "@jupyter-widgets/base",
      "_view_module_version": "1.2.0",
      "_view_name": "StyleView",
      "description_width": ""
     }
    },
    "2ac366c1e57e49b4a99812d11d4fd021": {
     "model_module": "@jupyter-widgets/base",
     "model_name": "LayoutModel",
     "state": {
      "_model_module": "@jupyter-widgets/base",
      "_model_module_version": "1.2.0",
      "_model_name": "LayoutModel",
      "_view_count": null,
      "_view_module": "@jupyter-widgets/base",
      "_view_module_version": "1.2.0",
      "_view_name": "LayoutView",
      "align_content": null,
      "align_items": null,
      "align_self": null,
      "border": null,
      "bottom": null,
      "display": null,
      "flex": null,
      "flex_flow": null,
      "grid_area": null,
      "grid_auto_columns": null,
      "grid_auto_flow": null,
      "grid_auto_rows": null,
      "grid_column": null,
      "grid_gap": null,
      "grid_row": null,
      "grid_template_areas": null,
      "grid_template_columns": null,
      "grid_template_rows": null,
      "height": null,
      "justify_content": null,
      "justify_items": null,
      "left": null,
      "margin": null,
      "max_height": null,
      "max_width": null,
      "min_height": null,
      "min_width": null,
      "object_fit": null,
      "object_position": null,
      "order": null,
      "overflow": null,
      "overflow_x": null,
      "overflow_y": null,
      "padding": null,
      "right": null,
      "top": null,
      "visibility": null,
      "width": null
     }
    },
    "2b63f8f7dab84b90a36eb3be9cd46884": {
     "model_module": "@jupyter-widgets/base",
     "model_name": "LayoutModel",
     "state": {
      "_model_module": "@jupyter-widgets/base",
      "_model_module_version": "1.2.0",
      "_model_name": "LayoutModel",
      "_view_count": null,
      "_view_module": "@jupyter-widgets/base",
      "_view_module_version": "1.2.0",
      "_view_name": "LayoutView",
      "align_content": null,
      "align_items": null,
      "align_self": null,
      "border": null,
      "bottom": null,
      "display": null,
      "flex": null,
      "flex_flow": null,
      "grid_area": null,
      "grid_auto_columns": null,
      "grid_auto_flow": null,
      "grid_auto_rows": null,
      "grid_column": null,
      "grid_gap": null,
      "grid_row": null,
      "grid_template_areas": null,
      "grid_template_columns": null,
      "grid_template_rows": null,
      "height": null,
      "justify_content": null,
      "justify_items": null,
      "left": null,
      "margin": null,
      "max_height": null,
      "max_width": null,
      "min_height": null,
      "min_width": null,
      "object_fit": null,
      "object_position": null,
      "order": null,
      "overflow": null,
      "overflow_x": null,
      "overflow_y": null,
      "padding": null,
      "right": null,
      "top": null,
      "visibility": null,
      "width": null
     }
    },
    "4f6979e773654f03ac5fbd690d4fe6af": {
     "model_module": "@jupyter-widgets/controls",
     "model_name": "FloatProgressModel",
     "state": {
      "_dom_classes": [],
      "_model_module": "@jupyter-widgets/controls",
      "_model_module_version": "1.5.0",
      "_model_name": "FloatProgressModel",
      "_view_count": null,
      "_view_module": "@jupyter-widgets/controls",
      "_view_module_version": "1.5.0",
      "_view_name": "ProgressView",
      "bar_style": "success",
      "description": "Downloading: 100%",
      "description_tooltip": null,
      "layout": "IPY_MODEL_f2bcedf94cb44fd2a656c4a6cd1780ee",
      "max": 440473133,
      "min": 0,
      "orientation": "horizontal",
      "style": "IPY_MODEL_9363004d4e034b599c49cb0da3ef831b",
      "value": 440473133
     }
    },
    "5446d8d5fed94ca38f9c97224655b521": {
     "model_module": "@jupyter-widgets/base",
     "model_name": "LayoutModel",
     "state": {
      "_model_module": "@jupyter-widgets/base",
      "_model_module_version": "1.2.0",
      "_model_name": "LayoutModel",
      "_view_count": null,
      "_view_module": "@jupyter-widgets/base",
      "_view_module_version": "1.2.0",
      "_view_name": "LayoutView",
      "align_content": null,
      "align_items": null,
      "align_self": null,
      "border": null,
      "bottom": null,
      "display": null,
      "flex": null,
      "flex_flow": null,
      "grid_area": null,
      "grid_auto_columns": null,
      "grid_auto_flow": null,
      "grid_auto_rows": null,
      "grid_column": null,
      "grid_gap": null,
      "grid_row": null,
      "grid_template_areas": null,
      "grid_template_columns": null,
      "grid_template_rows": null,
      "height": null,
      "justify_content": null,
      "justify_items": null,
      "left": null,
      "margin": null,
      "max_height": null,
      "max_width": null,
      "min_height": null,
      "min_width": null,
      "object_fit": null,
      "object_position": null,
      "order": null,
      "overflow": null,
      "overflow_x": null,
      "overflow_y": null,
      "padding": null,
      "right": null,
      "top": null,
      "visibility": null,
      "width": null
     }
    },
    "751ba8860cfd4bc5aa4629bd0d678794": {
     "model_module": "@jupyter-widgets/base",
     "model_name": "LayoutModel",
     "state": {
      "_model_module": "@jupyter-widgets/base",
      "_model_module_version": "1.2.0",
      "_model_name": "LayoutModel",
      "_view_count": null,
      "_view_module": "@jupyter-widgets/base",
      "_view_module_version": "1.2.0",
      "_view_name": "LayoutView",
      "align_content": null,
      "align_items": null,
      "align_self": null,
      "border": null,
      "bottom": null,
      "display": null,
      "flex": null,
      "flex_flow": null,
      "grid_area": null,
      "grid_auto_columns": null,
      "grid_auto_flow": null,
      "grid_auto_rows": null,
      "grid_column": null,
      "grid_gap": null,
      "grid_row": null,
      "grid_template_areas": null,
      "grid_template_columns": null,
      "grid_template_rows": null,
      "height": null,
      "justify_content": null,
      "justify_items": null,
      "left": null,
      "margin": null,
      "max_height": null,
      "max_width": null,
      "min_height": null,
      "min_width": null,
      "object_fit": null,
      "object_position": null,
      "order": null,
      "overflow": null,
      "overflow_x": null,
      "overflow_y": null,
      "padding": null,
      "right": null,
      "top": null,
      "visibility": null,
      "width": null
     }
    },
    "8066ab68683c45c9aeed0387181bbdb0": {
     "model_module": "@jupyter-widgets/base",
     "model_name": "LayoutModel",
     "state": {
      "_model_module": "@jupyter-widgets/base",
      "_model_module_version": "1.2.0",
      "_model_name": "LayoutModel",
      "_view_count": null,
      "_view_module": "@jupyter-widgets/base",
      "_view_module_version": "1.2.0",
      "_view_name": "LayoutView",
      "align_content": null,
      "align_items": null,
      "align_self": null,
      "border": null,
      "bottom": null,
      "display": null,
      "flex": null,
      "flex_flow": null,
      "grid_area": null,
      "grid_auto_columns": null,
      "grid_auto_flow": null,
      "grid_auto_rows": null,
      "grid_column": null,
      "grid_gap": null,
      "grid_row": null,
      "grid_template_areas": null,
      "grid_template_columns": null,
      "grid_template_rows": null,
      "height": null,
      "justify_content": null,
      "justify_items": null,
      "left": null,
      "margin": null,
      "max_height": null,
      "max_width": null,
      "min_height": null,
      "min_width": null,
      "object_fit": null,
      "object_position": null,
      "order": null,
      "overflow": null,
      "overflow_x": null,
      "overflow_y": null,
      "padding": null,
      "right": null,
      "top": null,
      "visibility": null,
      "width": null
     }
    },
    "8d457ba59dbb439cbbb8cbd02ed5a01b": {
     "model_module": "@jupyter-widgets/controls",
     "model_name": "HBoxModel",
     "state": {
      "_dom_classes": [],
      "_model_module": "@jupyter-widgets/controls",
      "_model_module_version": "1.5.0",
      "_model_name": "HBoxModel",
      "_view_count": null,
      "_view_module": "@jupyter-widgets/controls",
      "_view_module_version": "1.5.0",
      "_view_name": "HBoxView",
      "box_style": "",
      "children": [
       "IPY_MODEL_4f6979e773654f03ac5fbd690d4fe6af",
       "IPY_MODEL_f37d12bda4f84e729ab8467a268e6977"
      ],
      "layout": "IPY_MODEL_8066ab68683c45c9aeed0387181bbdb0"
     }
    },
    "9363004d4e034b599c49cb0da3ef831b": {
     "model_module": "@jupyter-widgets/controls",
     "model_name": "ProgressStyleModel",
     "state": {
      "_model_module": "@jupyter-widgets/controls",
      "_model_module_version": "1.5.0",
      "_model_name": "ProgressStyleModel",
      "_view_count": null,
      "_view_module": "@jupyter-widgets/base",
      "_view_module_version": "1.2.0",
      "_view_name": "StyleView",
      "bar_color": null,
      "description_width": "initial"
     }
    },
    "943d7089b6dd4f85a275ca177e32f710": {
     "model_module": "@jupyter-widgets/controls",
     "model_name": "ProgressStyleModel",
     "state": {
      "_model_module": "@jupyter-widgets/controls",
      "_model_module_version": "1.5.0",
      "_model_name": "ProgressStyleModel",
      "_view_count": null,
      "_view_module": "@jupyter-widgets/base",
      "_view_module_version": "1.2.0",
      "_view_name": "StyleView",
      "bar_color": null,
      "description_width": "initial"
     }
    },
    "9b2ec79557d14725aa945ca07c158676": {
     "model_module": "@jupyter-widgets/controls",
     "model_name": "HBoxModel",
     "state": {
      "_dom_classes": [],
      "_model_module": "@jupyter-widgets/controls",
      "_model_module_version": "1.5.0",
      "_model_name": "HBoxModel",
      "_view_count": null,
      "_view_module": "@jupyter-widgets/controls",
      "_view_module_version": "1.5.0",
      "_view_name": "HBoxView",
      "box_style": "",
      "children": [
       "IPY_MODEL_f64cd624449a4f7c923a0b16fa6bb6b3",
       "IPY_MODEL_ab1046ad5a98422082b3e7a8efdcb3bb"
      ],
      "layout": "IPY_MODEL_2ac366c1e57e49b4a99812d11d4fd021"
     }
    },
    "ab1046ad5a98422082b3e7a8efdcb3bb": {
     "model_module": "@jupyter-widgets/controls",
     "model_name": "HTMLModel",
     "state": {
      "_dom_classes": [],
      "_model_module": "@jupyter-widgets/controls",
      "_model_module_version": "1.5.0",
      "_model_name": "HTMLModel",
      "_view_count": null,
      "_view_module": "@jupyter-widgets/controls",
      "_view_module_version": "1.5.0",
      "_view_name": "HTMLView",
      "description": "",
      "description_tooltip": null,
      "layout": "IPY_MODEL_2b63f8f7dab84b90a36eb3be9cd46884",
      "placeholder": "​",
      "style": "IPY_MODEL_f4130e46d2c04b598805e5fe26643d12",
      "value": " 433/433 [00:00&lt;00:00, 1.04kB/s]"
     }
    },
    "f2bcedf94cb44fd2a656c4a6cd1780ee": {
     "model_module": "@jupyter-widgets/base",
     "model_name": "LayoutModel",
     "state": {
      "_model_module": "@jupyter-widgets/base",
      "_model_module_version": "1.2.0",
      "_model_name": "LayoutModel",
      "_view_count": null,
      "_view_module": "@jupyter-widgets/base",
      "_view_module_version": "1.2.0",
      "_view_name": "LayoutView",
      "align_content": null,
      "align_items": null,
      "align_self": null,
      "border": null,
      "bottom": null,
      "display": null,
      "flex": null,
      "flex_flow": null,
      "grid_area": null,
      "grid_auto_columns": null,
      "grid_auto_flow": null,
      "grid_auto_rows": null,
      "grid_column": null,
      "grid_gap": null,
      "grid_row": null,
      "grid_template_areas": null,
      "grid_template_columns": null,
      "grid_template_rows": null,
      "height": null,
      "justify_content": null,
      "justify_items": null,
      "left": null,
      "margin": null,
      "max_height": null,
      "max_width": null,
      "min_height": null,
      "min_width": null,
      "object_fit": null,
      "object_position": null,
      "order": null,
      "overflow": null,
      "overflow_x": null,
      "overflow_y": null,
      "padding": null,
      "right": null,
      "top": null,
      "visibility": null,
      "width": null
     }
    },
    "f37d12bda4f84e729ab8467a268e6977": {
     "model_module": "@jupyter-widgets/controls",
     "model_name": "HTMLModel",
     "state": {
      "_dom_classes": [],
      "_model_module": "@jupyter-widgets/controls",
      "_model_module_version": "1.5.0",
      "_model_name": "HTMLModel",
      "_view_count": null,
      "_view_module": "@jupyter-widgets/controls",
      "_view_module_version": "1.5.0",
      "_view_name": "HTMLView",
      "description": "",
      "description_tooltip": null,
      "layout": "IPY_MODEL_5446d8d5fed94ca38f9c97224655b521",
      "placeholder": "​",
      "style": "IPY_MODEL_28e1ea410a0d4f0a841eae0894f3d3cb",
      "value": " 440M/440M [01:15&lt;00:00, 5.84MB/s]"
     }
    },
    "f4130e46d2c04b598805e5fe26643d12": {
     "model_module": "@jupyter-widgets/controls",
     "model_name": "DescriptionStyleModel",
     "state": {
      "_model_module": "@jupyter-widgets/controls",
      "_model_module_version": "1.5.0",
      "_model_name": "DescriptionStyleModel",
      "_view_count": null,
      "_view_module": "@jupyter-widgets/base",
      "_view_module_version": "1.2.0",
      "_view_name": "StyleView",
      "description_width": ""
     }
    },
    "f64cd624449a4f7c923a0b16fa6bb6b3": {
     "model_module": "@jupyter-widgets/controls",
     "model_name": "FloatProgressModel",
     "state": {
      "_dom_classes": [],
      "_model_module": "@jupyter-widgets/controls",
      "_model_module_version": "1.5.0",
      "_model_name": "FloatProgressModel",
      "_view_count": null,
      "_view_module": "@jupyter-widgets/controls",
      "_view_module_version": "1.5.0",
      "_view_name": "ProgressView",
      "bar_style": "success",
      "description": "Downloading: 100%",
      "description_tooltip": null,
      "layout": "IPY_MODEL_751ba8860cfd4bc5aa4629bd0d678794",
      "max": 433,
      "min": 0,
      "orientation": "horizontal",
      "style": "IPY_MODEL_943d7089b6dd4f85a275ca177e32f710",
      "value": 433
     }
    }
   }
  }
 },
 "nbformat": 4,
 "nbformat_minor": 1
}
