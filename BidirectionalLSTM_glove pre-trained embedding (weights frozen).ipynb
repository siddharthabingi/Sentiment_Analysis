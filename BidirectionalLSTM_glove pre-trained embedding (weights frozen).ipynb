{
 "cells": [
  {
   "cell_type": "markdown",
   "metadata": {},
   "source": [
    "# Bidirectional LSTM\n",
    "## Version 2 : Glove pre-trained embedding (weights frozen)"
   ]
  },
  {
   "cell_type": "markdown",
   "metadata": {
    "id": "gY8_mD02OZK4"
   },
   "source": [
    "## Import Data"
   ]
  },
  {
   "cell_type": "code",
   "execution_count": null,
   "metadata": {
    "colab": {
     "base_uri": "https://localhost:8080/"
    },
    "id": "zQ1JFvdCqva6",
    "outputId": "c8864507-ba71-4e31-d418-4df758454c9e"
   },
   "outputs": [
    {
     "name": "stdout",
     "output_type": "stream",
     "text": [
      "Drive already mounted at /content/gdrive; to attempt to forcibly remount, call drive.mount(\"/content/gdrive\", force_remount=True).\n"
     ]
    }
   ],
   "source": [
    "from google.colab import drive\n",
    "drive.mount('/content/gdrive')"
   ]
  },
  {
   "cell_type": "code",
   "execution_count": null,
   "metadata": {
    "id": "2nHyhdZjxbL5"
   },
   "outputs": [],
   "source": [
    "import torch\n",
    "import torch.nn as nn\n",
    "\n",
    "import numpy as np\n",
    "import matplotlib.pyplot as plt\n",
    "import seaborn as sns\n",
    "from sklearn.metrics import confusion_matrix\n",
    "from datetime import datetime\n",
    "from pathlib import Path\n",
    "import pandas as pd\n",
    "import random\n",
    "\n",
    "import torchtext.data as ttd"
   ]
  },
  {
   "cell_type": "code",
   "execution_count": null,
   "metadata": {
    "id": "_yx8VPVVzIeC"
   },
   "outputs": [],
   "source": [
    "from pathlib import Path\n",
    "folder=Path('/content/gdrive/My Drive/ColabNotebooks')"
   ]
  },
  {
   "cell_type": "code",
   "execution_count": null,
   "metadata": {
    "colab": {
     "base_uri": "https://localhost:8080/"
    },
    "id": "E8GYyp5mpobY",
    "outputId": "8bd80851-d56d-43e9-efe6-6e302c608bcd"
   },
   "outputs": [
    {
     "data": {
      "text/plain": [
       "131072"
      ]
     },
     "execution_count": 4,
     "metadata": {
      "tags": []
     },
     "output_type": "execute_result"
    }
   ],
   "source": [
    "import sys\n",
    "import csv\n",
    "\n",
    "csv.field_size_limit(sys.maxsize)"
   ]
  },
  {
   "cell_type": "code",
   "execution_count": null,
   "metadata": {
    "id": "qCkLpZqAk5Np"
   },
   "outputs": [],
   "source": [
    "TEXT = ttd.Field(\n",
    "    sequential=True,\n",
    "    batch_first=True,\n",
    "    lower=False,\n",
    "    tokenize='spacy',\n",
    "    pad_first=True)\n",
    "\n",
    "LABEL = ttd.LabelField()\n",
    "#LABEL = ttd.Field(sequential=False, use_vocab=False, is_target=True)\n",
    "\n",
    "train_dataset = ttd.TabularDataset(\n",
    "    path= folder / 'newsgroup20_train.csv',\n",
    "    format='csv',\n",
    "    skip_header=True,\n",
    "    fields=[('data', TEXT), ('label', LABEL)]\n",
    ")\n",
    "\n",
    "test_dataset = ttd.TabularDataset(\n",
    "    path= folder / 'newsgroup20_test.csv',\n",
    "    format='csv',\n",
    "    skip_header=True,\n",
    "    fields=[('data', TEXT), ('label', LABEL)]\n",
    ")"
   ]
  },
  {
   "cell_type": "code",
   "execution_count": null,
   "metadata": {
    "id": "wvwN3q1qtjb6"
   },
   "outputs": [],
   "source": [
    "SEED=10\n",
    "train_dataset, valid_dataset = train_dataset.split(random_state = random.seed(SEED)) # default is 0.7"
   ]
  },
  {
   "cell_type": "code",
   "execution_count": null,
   "metadata": {
    "colab": {
     "base_uri": "https://localhost:8080/"
    },
    "id": "UzqspeWmJIbC",
    "outputId": "96331d63-7d67-4ba9-8ad2-6f609ec1c0d3"
   },
   "outputs": [
    {
     "name": "stdout",
     "output_type": "stream",
     "text": [
      "Number of training examples: 7920\n",
      "Number of validation examples: 3394\n",
      "Number of testing examples: 7532\n"
     ]
    }
   ],
   "source": [
    "print(f'Number of training examples: {len(train_dataset)}')\n",
    "print(f'Number of validation examples: {len(valid_dataset)}')\n",
    "print(f'Number of testing examples: {len(test_dataset)}')"
   ]
  },
  {
   "cell_type": "code",
   "execution_count": null,
   "metadata": {
    "id": "6ieo_C0AlvE6"
   },
   "outputs": [],
   "source": [
    "MAX_VOCAB_SIZE = 25000\n",
    "\n",
    "TEXT.build_vocab(train_dataset, \n",
    "                 max_size = MAX_VOCAB_SIZE, \n",
    "                 vectors = \"glove.6B.100d\", \n",
    "                 unk_init = torch.Tensor.normal_)"
   ]
  },
  {
   "cell_type": "code",
   "execution_count": null,
   "metadata": {
    "id": "dTkkNIV4iYrN"
   },
   "outputs": [],
   "source": [
    "LABEL.build_vocab(train_dataset)"
   ]
  },
  {
   "cell_type": "code",
   "execution_count": null,
   "metadata": {
    "id": "Lew5Hi_klyi5"
   },
   "outputs": [],
   "source": [
    "vocab_text = TEXT.vocab"
   ]
  },
  {
   "cell_type": "code",
   "execution_count": null,
   "metadata": {
    "colab": {
     "base_uri": "https://localhost:8080/"
    },
    "id": "tM30vqWqinab",
    "outputId": "fd571f3d-78d4-429e-9eea-76611e663060"
   },
   "outputs": [
    {
     "data": {
      "text/plain": [
       "25002"
      ]
     },
     "execution_count": 13,
     "metadata": {
      "tags": []
     },
     "output_type": "execute_result"
    }
   ],
   "source": [
    "len(vocab_text)"
   ]
  },
  {
   "cell_type": "code",
   "execution_count": null,
   "metadata": {
    "id": "YBeGypYQBSgf"
   },
   "outputs": [],
   "source": [
    "vocab_label = LABEL.vocab"
   ]
  },
  {
   "cell_type": "code",
   "execution_count": null,
   "metadata": {
    "colab": {
     "base_uri": "https://localhost:8080/"
    },
    "id": "Q9fgCUSA7ju4",
    "outputId": "501bc6af-6e40-442b-f492-71063454af59"
   },
   "outputs": [
    {
     "name": "stdout",
     "output_type": "stream",
     "text": [
      "cuda:0\n"
     ]
    }
   ],
   "source": [
    "#device = 'cpu'\n",
    "device = torch.device(\"cuda:0\" if torch.cuda.is_available() else \"cpu\")\n",
    "print(device)"
   ]
  },
  {
   "cell_type": "code",
   "execution_count": null,
   "metadata": {
    "id": "pXiLOhEXmrNs"
   },
   "outputs": [],
   "source": [
    "train_iter, valid_iter, test_iter = ttd.BucketIterator.splits((train_dataset,valid_dataset,test_dataset), \n",
    "                              sort_key=lambda x: len(x.data),\n",
    "                              #sort_key=None,\n",
    "                              batch_sizes=(64,256,256), \n",
    "                              device=device)"
   ]
  },
  {
   "cell_type": "code",
   "execution_count": null,
   "metadata": {
    "colab": {
     "base_uri": "https://localhost:8080/"
    },
    "id": "p67zN6Oy8kOn",
    "outputId": "17f7d370-a10b-49f7-c30b-95f31b99a424"
   },
   "outputs": [
    {
     "name": "stdout",
     "output_type": "stream",
     "text": [
      "inputs: tensor([[   1,    1,    1,  ...,    4,   17,   85],\n",
      "        [   1,    1,    1,  ..., 2935,  538,    4],\n",
      "        [   1,    1,    1,  ..., 1298, 2626,   58],\n",
      "        ...,\n",
      "        [   1,    1,    1,  ...,  102,  158,    4],\n",
      "        [   1,    1,    1,  ..., 8067,    0,    4],\n",
      "        [   1,    1,    1,  ...,  657,  315,    4]], device='cuda:0') torch.Size([64, 2165])\n",
      "targets: tensor([16, 10, 11, 18,  2, 15, 15,  9, 17, 11,  5, 15, 18, 12,  9,  4, 10, 10,\n",
      "        12, 13,  4,  4, 12, 16,  0, 12, 15,  0,  2, 15,  7,  9,  2,  3,  5,  1,\n",
      "         5, 12, 15, 13,  4,  1,  2, 15,  3, 13, 17,  1, 19, 11, 19,  0, 15, 14,\n",
      "         6,  3, 19, 17, 12,  9, 18, 11,  8,  1], device='cuda:0') shape: torch.Size([64])\n"
     ]
    }
   ],
   "source": [
    "for batch in train_iter:\n",
    "  print(\"inputs:\", batch.data, batch.data.shape)\n",
    "  print(\"targets:\",batch.label, \"shape:\", batch.label.shape)\n",
    "  break"
   ]
  },
  {
   "cell_type": "code",
   "execution_count": null,
   "metadata": {
    "colab": {
     "base_uri": "https://localhost:8080/"
    },
    "id": "BGgBYOHLm4P1",
    "outputId": "f4a9c7f6-551a-43eb-f7b6-0f925b09191d"
   },
   "outputs": [
    {
     "name": "stdout",
     "output_type": "stream",
     "text": [
      "inputs: tensor([[   0, 8354,    0,  ..., 3189,  380,  469],\n",
      "        [  88,  133,  252,  ...,    0,   18,    4],\n",
      "        [  17,   11,  402,  ...,   33, 8811,    4],\n",
      "        ...,\n",
      "        [   1,    1,    1,  ...,    1,    1,    1],\n",
      "        [   1,    1,    1,  ...,    1,    1,    1],\n",
      "        [   1,    1,    1,  ...,    1,    1,    1]], device='cuda:0') torch.Size([256, 21])\n",
      "targets: tensor([12, 15,  3, 13,  0,  1, 11,  3,  4,  6,  4, 13, 10,  7,  1,  4, 18, 14,\n",
      "        11, 17,  0, 17, 18, 12,  8,  0,  7,  4,  0, 14,  4,  4,  6,  7,  1,  1,\n",
      "        11,  4, 19, 14,  0,  9,  9,  5,  7, 11,  3,  1, 19,  1, 15, 17, 11,  5,\n",
      "         1,  9, 13, 18,  5,  1,  8, 12, 18, 15, 14,  1,  8,  3, 12,  1, 16,  9,\n",
      "         5,  0,  0,  5,  3, 11,  8, 11,  1, 11, 13, 13,  3,  3,  1, 10, 13, 13,\n",
      "         5, 12,  5,  0,  5,  4, 11, 12, 10,  6, 19, 14,  9,  5, 15,  9, 11, 10,\n",
      "        17,  7,  5,  9,  1,  1, 13, 10, 12, 16, 11,  6, 15,  4,  3, 12,  9,  6,\n",
      "         9, 11, 16,  5, 10,  2, 14, 14, 14,  4, 11,  6,  1,  4, 10, 10, 14, 10,\n",
      "         8,  1,  2, 11,  1, 11, 16, 16, 12, 18, 11, 12,  0, 10,  9,  6, 11,  7,\n",
      "         1,  9, 16,  5,  1,  0,  1, 13,  0, 17,  6,  2, 12,  9, 17,  0, 10, 19,\n",
      "        13,  0,  7,  8,  5, 16,  0, 19,  5,  2,  1, 18,  9, 11,  5,  0, 15,  7,\n",
      "         1, 16, 13,  3, 13, 19,  1,  2, 19,  5,  9,  3,  1, 11,  4,  9, 15,  2,\n",
      "         1, 12, 14, 13, 15,  5, 14, 14,  5,  1, 16, 18, 11, 10,  8, 13,  2,  2,\n",
      "        16,  9, 15, 10,  0,  5,  8,  9,  5, 10, 14, 13,  9, 16, 11,  7, 17,  3,\n",
      "         2,  5, 14,  8], device='cuda:0') shape: torch.Size([256])\n"
     ]
    }
   ],
   "source": [
    "for batch in valid_iter:\n",
    "  print(\"inputs:\", batch.data, batch.data.shape)\n",
    "  print(\"targets:\",batch.label, \"shape:\", batch.label.shape)\n",
    "  break"
   ]
  },
  {
   "cell_type": "code",
   "execution_count": null,
   "metadata": {
    "colab": {
     "base_uri": "https://localhost:8080/"
    },
    "id": "beGVBMlwV0dK",
    "outputId": "a3c6acae-15b8-4821-81a5-abd5aea9874c"
   },
   "outputs": [
    {
     "name": "stdout",
     "output_type": "stream",
     "text": [
      "inputs: tensor([ 2,  0,  0, 87], device='cuda:0') torch.Size([4])\n",
      "targets: tensor([ 5, 15, 14,  9,  6, 16,  6,  2,  6,  6,  5,  1, 15, 15, 11, 11,  5,  2,\n",
      "         6,  5,  5, 12, 19,  7, 10,  1,  6, 19,  4, 12, 17,  4, 17,  6,  1,  3,\n",
      "        11,  3, 16,  6,  6,  1, 19, 17, 13, 16, 10, 19, 14,  9, 15,  1,  5,  1,\n",
      "         8, 14, 10, 13, 14, 13, 14,  7,  2,  2, 15,  4,  9,  3, 14,  7, 10,  8,\n",
      "         1, 16, 10,  6, 19,  4,  7, 16, 12,  2,  7, 16, 10,  2,  9,  9, 11,  4,\n",
      "        13, 10,  3,  5, 13, 14,  5, 15, 18, 11, 18,  1,  4,  1, 11, 16,  3, 14,\n",
      "        12,  5,  8,  1, 13,  5, 10,  3, 17, 12,  4, 10,  1, 11,  0,  1,  5,  2,\n",
      "        13, 14,  4,  9,  8,  0, 10, 11, 11, 11, 14,  7,  8,  8, 15, 13, 10,  4,\n",
      "        14, 17, 12, 11, 18, 10,  0,  9, 13,  4, 14, 18, 19,  5, 10,  5,  5, 19,\n",
      "        10, 11, 19,  8,  8,  4,  3, 17, 11, 15,  0, 13,  7,  5,  6,  5, 11,  9,\n",
      "        15, 10, 14, 15,  7,  5,  2,  5,  2,  2,  1, 12, 15, 14,  0,  5,  5,  4,\n",
      "         7, 18, 12,  8,  4,  1,  8, 15, 18,  4, 19, 13, 18, 17, 12,  6,  2,  2,\n",
      "         5, 16, 14,  7,  4,  2, 10, 14, 15,  1,  1,  2, 13,  3,  4, 13, 17,  5,\n",
      "         5,  2,  8,  8,  4, 17, 13,  5,  2, 12,  4,  9,  9,  1,  1,  5, 11,  8,\n",
      "        10,  5,  7,  8], device='cuda:0') shape: torch.Size([256])\n"
     ]
    }
   ],
   "source": [
    "for batch in test_iter:\n",
    "  print(\"inputs:\", batch.data[0], batch.data[0].shape)\n",
    "  print(\"targets:\",batch.label, \"shape:\", batch.label.shape)\n",
    "  break"
   ]
  },
  {
   "cell_type": "code",
   "execution_count": null,
   "metadata": {
    "id": "oTdqSCmwfRNp"
   },
   "outputs": [],
   "source": [
    "# Define the model\n",
    "class RNN(nn.Module):\n",
    "  def __init__(self, n_vocab, embed_dim, n_hidden, n_rnnlayers, n_outputs, bidirectional, dropout_rate):\n",
    "    super(RNN, self).__init__()\n",
    "    self.V = n_vocab\n",
    "    self.D = embed_dim\n",
    "    self.M = n_hidden\n",
    "    self.K = n_outputs\n",
    "    self.L = n_rnnlayers\n",
    "    self.num_diections= bidirectional\n",
    "    self.dropout_rate=dropout_rate\n",
    "    \n",
    "    # embedding layer\n",
    "    self.embed = nn.Embedding(self.V, self.D)\n",
    "    \n",
    "    # rnn layers\n",
    "    self.rnn = nn.LSTM(\n",
    "        input_size=self.D,\n",
    "        hidden_size=self.M,\n",
    "        num_layers=self.L,\n",
    "        bidirectional=self.num_diections,\n",
    "        dropout= self.dropout_rate,\n",
    "        batch_first=True)\n",
    "    \n",
    "    # dense layer\n",
    "    self.fc = nn.Linear(self.M *2 , self.K)\n",
    "\n",
    "    # dropout layer\n",
    "    self.dropout= nn.Dropout(self.dropout_rate)\n",
    "  \n",
    "  def forward(self, X):\n",
    "    # initial hidden states\n",
    "    h0 = torch.zeros(self.L*2, X.size(0), self.M).to(device)\n",
    "    c0 = torch.zeros(self.L*2, X.size(0), self.M).to(device)\n",
    "\n",
    "    # embedding layer\n",
    "    # turns word indexes into word vectors\n",
    "    # X (batch_size, sentence length)\n",
    "    embedding = self.embed(X)   # (batch_size, sentence_length, emd_dim)\n",
    "    embedding= self.dropout(embedding) # (batch_size, sentence_length, emd_dim)\n",
    "\n",
    "    # get RNN unit output\n",
    "    output, (hidden,cell) = self.rnn(embedding, (h0, c0))\n",
    "\n",
    "\n",
    "    #output = [batch size, sent len, hid dim * num directions]\n",
    "    #hidden = [num layers * num directions, batch size, hid dim]\n",
    "    #cell = [num layers * num directions, batch size, hid dim]\n",
    "\n",
    "    # max pool\n",
    "    output, _ = torch.max(output, 1)\n",
    "    output= self.dropout(output)\n",
    "    # we only want h(T) at the final time step\n",
    "    output = self.fc(output)\n",
    "    return output"
   ]
  },
  {
   "cell_type": "code",
   "execution_count": null,
   "metadata": {
    "id": "DNh5F8I8oBRt"
   },
   "outputs": [],
   "source": [
    "n_vocab = len(TEXT.vocab)\n",
    "embed_dim = 100\n",
    "n_hidden = 32 \n",
    "n_rnnlayers = 2\n",
    "n_outputs =20 \n",
    "bidirectional = True \n",
    "dropout_rate = 0.5 \n"
   ]
  },
  {
   "cell_type": "code",
   "execution_count": null,
   "metadata": {
    "colab": {
     "base_uri": "https://localhost:8080/"
    },
    "id": "gi6O8d9E4WON",
    "outputId": "80c49343-03a0-45ee-8f63-a6aad6ef8595"
   },
   "outputs": [
    {
     "data": {
      "text/plain": [
       "RNN(\n",
       "  (embed): Embedding(25002, 100)\n",
       "  (rnn): LSTM(100, 32, num_layers=2, batch_first=True, dropout=0.5, bidirectional=True)\n",
       "  (fc): Linear(in_features=64, out_features=20, bias=True)\n",
       "  (dropout): Dropout(p=0.5, inplace=False)\n",
       ")"
      ]
     },
     "execution_count": 24,
     "metadata": {
      "tags": []
     },
     "output_type": "execute_result"
    }
   ],
   "source": [
    "model = RNN(n_vocab, embed_dim, n_hidden, n_rnnlayers, n_outputs, bidirectional, dropout_rate)\n",
    "model.to(device)"
   ]
  },
  {
   "cell_type": "markdown",
   "metadata": {
    "id": "jbVyfgoGOO93"
   },
   "source": [
    "## Model Summary"
   ]
  },
  {
   "cell_type": "code",
   "execution_count": null,
   "metadata": {
    "colab": {
     "base_uri": "https://localhost:8080/"
    },
    "id": "6jKAcDCRuiZ7",
    "outputId": "e1b81484-07ae-40af-c971-b6a9432b2894"
   },
   "outputs": [
    {
     "name": "stdout",
     "output_type": "stream",
     "text": [
      "RNN(\n",
      "  (embed): Embedding(25002, 100)\n",
      "  (rnn): LSTM(100, 32, num_layers=2, batch_first=True, dropout=0.5, bidirectional=True)\n",
      "  (fc): Linear(in_features=64, out_features=20, bias=True)\n",
      "  (dropout): Dropout(p=0.5, inplace=False)\n",
      ")\n"
     ]
    }
   ],
   "source": [
    "print(model)"
   ]
  },
  {
   "cell_type": "markdown",
   "metadata": {
    "id": "jho8Lp3aXOt9"
   },
   "source": [
    "## Freezing Weights"
   ]
  },
  {
   "cell_type": "code",
   "execution_count": null,
   "metadata": {
    "id": "RVegrDAEXOFZ"
   },
   "outputs": [],
   "source": [
    "for name, param in model.named_parameters():\n",
    "  if 'fc' not in name:\n",
    "    param.require_grad = False"
   ]
  },
  {
   "cell_type": "markdown",
   "metadata": {
    "id": "A8NByh_dQXoe"
   },
   "source": [
    "## Model Parameters"
   ]
  },
  {
   "cell_type": "code",
   "execution_count": null,
   "metadata": {
    "colab": {
     "base_uri": "https://localhost:8080/"
    },
    "id": "3JWyeS3DwKpj",
    "outputId": "864377de-0cdf-421d-960f-4c70e10afbdb"
   },
   "outputs": [
    {
     "name": "stdout",
     "output_type": "stream",
     "text": [
      "embed.weight torch.Size([25002, 100])\n",
      "rnn.weight_ih_l0 torch.Size([128, 100])\n",
      "rnn.weight_hh_l0 torch.Size([128, 32])\n",
      "rnn.bias_ih_l0 torch.Size([128])\n",
      "rnn.bias_hh_l0 torch.Size([128])\n",
      "rnn.weight_ih_l0_reverse torch.Size([128, 100])\n",
      "rnn.weight_hh_l0_reverse torch.Size([128, 32])\n",
      "rnn.bias_ih_l0_reverse torch.Size([128])\n",
      "rnn.bias_hh_l0_reverse torch.Size([128])\n",
      "rnn.weight_ih_l1 torch.Size([128, 64])\n",
      "rnn.weight_hh_l1 torch.Size([128, 32])\n",
      "rnn.bias_ih_l1 torch.Size([128])\n",
      "rnn.bias_hh_l1 torch.Size([128])\n",
      "rnn.weight_ih_l1_reverse torch.Size([128, 64])\n",
      "rnn.weight_hh_l1_reverse torch.Size([128, 32])\n",
      "rnn.bias_ih_l1_reverse torch.Size([128])\n",
      "rnn.bias_hh_l1_reverse torch.Size([128])\n",
      "fc.weight torch.Size([20, 64])\n",
      "fc.bias torch.Size([20])\n"
     ]
    }
   ],
   "source": [
    "for name, param in model.named_parameters():\n",
    "  print(name, param.shape)"
   ]
  },
  {
   "cell_type": "code",
   "execution_count": null,
   "metadata": {
    "colab": {
     "base_uri": "https://localhost:8080/"
    },
    "id": "WpRh0XOQ5QkW",
    "outputId": "538714c1-91d9-4211-c170-fdd2105a4d8c"
   },
   "outputs": [
    {
     "name": "stdout",
     "output_type": "stream",
     "text": [
      "torch.Size([25002, 100])\n"
     ]
    }
   ],
   "source": [
    "pretrained_embeddings = TEXT.vocab.vectors\n",
    "print(pretrained_embeddings.shape)"
   ]
  },
  {
   "cell_type": "code",
   "execution_count": null,
   "metadata": {
    "colab": {
     "base_uri": "https://localhost:8080/"
    },
    "id": "Y0dn0uqC5ZS1",
    "outputId": "b6e04b40-6402-4556-9676-22eb11bad252"
   },
   "outputs": [
    {
     "data": {
      "text/plain": [
       "tensor([[-0.3433, -0.8705, -2.2729,  ...,  1.0126,  0.6232,  1.0848],\n",
       "        [-0.4095, -1.3102, -0.3476,  ...,  1.3361, -0.4185,  0.0371],\n",
       "        [-2.8075, -0.0816,  0.3201,  ...,  0.3823, -0.1688, -2.1208],\n",
       "        ...,\n",
       "        [ 1.1843, -0.9046,  0.0594,  ...,  0.5601, -1.6977, -0.9148],\n",
       "        [ 0.1288, -0.1809,  0.4796,  ...,  0.6468, -0.4434, -0.0143],\n",
       "        [ 1.5288, -0.5919, -0.7949,  ...,  0.5387,  0.7500, -0.0615]],\n",
       "       device='cuda:0')"
      ]
     },
     "execution_count": 29,
     "metadata": {
      "tags": []
     },
     "output_type": "execute_result"
    }
   ],
   "source": [
    "model.embed.weight.data.copy_(pretrained_embeddings)"
   ]
  },
  {
   "cell_type": "code",
   "execution_count": null,
   "metadata": {
    "colab": {
     "base_uri": "https://localhost:8080/"
    },
    "id": "CAHviEZN5wL9",
    "outputId": "d881c5f1-d953-4741-9ab2-0f8ef8ea4a2d"
   },
   "outputs": [
    {
     "name": "stdout",
     "output_type": "stream",
     "text": [
      "tensor([[ 0.0000,  0.0000,  0.0000,  ...,  0.0000,  0.0000,  0.0000],\n",
      "        [ 0.0000,  0.0000,  0.0000,  ...,  0.0000,  0.0000,  0.0000],\n",
      "        [-2.8075, -0.0816,  0.3201,  ...,  0.3823, -0.1688, -2.1208],\n",
      "        ...,\n",
      "        [ 1.1843, -0.9046,  0.0594,  ...,  0.5601, -1.6977, -0.9148],\n",
      "        [ 0.1288, -0.1809,  0.4796,  ...,  0.6468, -0.4434, -0.0143],\n",
      "        [ 1.5288, -0.5919, -0.7949,  ...,  0.5387,  0.7500, -0.0615]],\n",
      "       device='cuda:0')\n"
     ]
    }
   ],
   "source": [
    "unk_idx = TEXT.vocab.stoi[TEXT.unk_token]\n",
    "pad_idx = TEXT.vocab.stoi[TEXT.pad_token]\n",
    "\n",
    "model.embed.weight.data[unk_idx] = torch.zeros(embed_dim)\n",
    "model.embed.weight.data[pad_idx] = torch.zeros(embed_dim)\n",
    "\n",
    "print(model.embed.weight.data)"
   ]
  },
  {
   "cell_type": "markdown",
   "metadata": {
    "id": "025OmwnxOUiC"
   },
   "source": [
    "## Training Loop"
   ]
  },
  {
   "cell_type": "code",
   "execution_count": null,
   "metadata": {
    "colab": {
     "base_uri": "https://localhost:8080/"
    },
    "id": "-BjQYSeyRSxj",
    "outputId": "1457129a-000e-44ab-9984-bb8b060ecb14"
   },
   "outputs": [
    {
     "name": "stdout",
     "output_type": "stream",
     "text": [
      "Epoch 1/50, Train Loss: 2.9838    Valid Loss: 2.9178, Duration: 0:01:36.730866\n",
      "Epoch 2/50, Train Loss: 2.7630    Valid Loss: 2.4627, Duration: 0:01:35.330984\n",
      "Epoch 3/50, Train Loss: 2.4645    Valid Loss: 2.2513, Duration: 0:01:38.975972\n",
      "Epoch 4/50, Train Loss: 2.3317    Valid Loss: 2.1211, Duration: 0:01:37.249646\n",
      "Epoch 5/50, Train Loss: 2.2428    Valid Loss: 2.0780, Duration: 0:01:35.816402\n",
      "Epoch 6/50, Train Loss: 2.1854    Valid Loss: 1.9504, Duration: 0:01:39.064594\n",
      "Epoch 7/50, Train Loss: 2.1290    Valid Loss: 1.9070, Duration: 0:01:40.736726\n",
      "Epoch 8/50, Train Loss: 2.0724    Valid Loss: 1.8557, Duration: 0:01:34.981368\n",
      "Epoch 9/50, Train Loss: 2.0417    Valid Loss: 1.8131, Duration: 0:01:35.124994\n",
      "Epoch 10/50, Train Loss: 2.0223    Valid Loss: 1.8022, Duration: 0:01:36.862959\n",
      "Epoch 11/50, Train Loss: 1.9774    Valid Loss: 1.7457, Duration: 0:01:31.498635\n",
      "Epoch 12/50, Train Loss: 1.9466    Valid Loss: 1.6894, Duration: 0:01:38.770785\n",
      "Epoch 13/50, Train Loss: 1.9235    Valid Loss: 1.6897, Duration: 0:01:37.141263\n",
      "Epoch 14/50, Train Loss: 1.9172    Valid Loss: 1.7405, Duration: 0:01:40.270556\n",
      "Epoch 15/50, Train Loss: 1.9024    Valid Loss: 1.6632, Duration: 0:01:36.654161\n",
      "Epoch 16/50, Train Loss: 1.8727    Valid Loss: 1.6174, Duration: 0:01:39.757861\n",
      "Epoch 17/50, Train Loss: 1.8640    Valid Loss: 1.6053, Duration: 0:01:38.837980\n",
      "Epoch 18/50, Train Loss: 1.8316    Valid Loss: 1.6321, Duration: 0:01:38.148414\n",
      "Epoch 19/50, Train Loss: 1.8121    Valid Loss: 1.5793, Duration: 0:01:36.596433\n",
      "Epoch 20/50, Train Loss: 1.8000    Valid Loss: 1.5583, Duration: 0:01:35.360302\n",
      "Epoch 21/50, Train Loss: 1.7899    Valid Loss: 1.5711, Duration: 0:01:38.739052\n",
      "Epoch 22/50, Train Loss: 1.7845    Valid Loss: 1.5447, Duration: 0:01:43.083684\n",
      "Epoch 23/50, Train Loss: 1.7690    Valid Loss: 1.5177, Duration: 0:01:34.712629\n",
      "Epoch 24/50, Train Loss: 1.7515    Valid Loss: 1.4983, Duration: 0:01:34.544705\n",
      "Epoch 25/50, Train Loss: 1.7663    Valid Loss: 1.5355, Duration: 0:01:34.965790\n",
      "Epoch 26/50, Train Loss: 1.7473    Valid Loss: 1.5124, Duration: 0:01:33.900769\n",
      "Epoch 27/50, Train Loss: 1.7255    Valid Loss: 1.5154, Duration: 0:01:36.263003\n",
      "Epoch 28/50, Train Loss: 1.7456    Valid Loss: 1.5216, Duration: 0:01:37.530117\n",
      "Epoch 29/50, Train Loss: 1.7662    Valid Loss: 1.4991, Duration: 0:01:35.136963\n",
      "Epoch 30/50, Train Loss: 1.7457    Valid Loss: 1.5324, Duration: 0:01:30.506084\n",
      "Epoch 31/50, Train Loss: 1.7245    Valid Loss: 1.4813, Duration: 0:01:30.304455\n",
      "Epoch 32/50, Train Loss: 1.7250    Valid Loss: 1.4989, Duration: 0:01:39.387056\n",
      "Epoch 33/50, Train Loss: 1.6971    Valid Loss: 1.4773, Duration: 0:01:34.402877\n",
      "Epoch 34/50, Train Loss: 1.7075    Valid Loss: 1.4664, Duration: 0:01:34.239589\n",
      "Epoch 35/50, Train Loss: 1.7091    Valid Loss: 1.4599, Duration: 0:01:43.215414\n",
      "Epoch 36/50, Train Loss: 1.7037    Valid Loss: 1.4585, Duration: 0:01:36.146427\n",
      "Epoch 37/50, Train Loss: 1.6871    Valid Loss: 1.4591, Duration: 0:01:35.442288\n",
      "Epoch 38/50, Train Loss: 1.6663    Valid Loss: 1.4630, Duration: 0:01:32.390610\n",
      "Epoch 39/50, Train Loss: 1.7395    Valid Loss: 1.5094, Duration: 0:01:33.540530\n",
      "Epoch 40/50, Train Loss: 1.7107    Valid Loss: 1.4711, Duration: 0:01:37.986679\n",
      "Epoch 41/50, Train Loss: 1.6965    Valid Loss: 1.4417, Duration: 0:01:35.035663\n",
      "Epoch 42/50, Train Loss: 1.6769    Valid Loss: 1.4415, Duration: 0:01:37.627482\n",
      "Epoch 43/50, Train Loss: 1.6732    Valid Loss: 1.4450, Duration: 0:01:38.471062\n",
      "Epoch 44/50, Train Loss: 1.6867    Valid Loss: 1.4346, Duration: 0:01:38.332355\n",
      "Epoch 45/50, Train Loss: 1.6473    Valid Loss: 1.4585, Duration: 0:01:39.059030\n",
      "Epoch 46/50, Train Loss: 1.6563    Valid Loss: 1.4489, Duration: 0:01:38.828395\n",
      "Epoch 47/50, Train Loss: 1.6476    Valid Loss: 1.4281, Duration: 0:01:37.349921\n",
      "Epoch 48/50, Train Loss: 1.6503    Valid Loss: 1.4485, Duration: 0:01:35.126399\n",
      "Epoch 49/50, Train Loss: 1.6333    Valid Loss: 1.4635, Duration: 0:01:37.243889\n",
      "Epoch 50/50, Train Loss: 1.6505    Valid Loss: 1.4363, Duration: 0:01:33.390559\n"
     ]
    }
   ],
   "source": [
    "learning_rate = 0.005\n",
    "epochs=50\n",
    "# STEP 5: INSTANTIATE LOSS CLASS\n",
    "criterion = nn.CrossEntropyLoss()\n",
    "\n",
    "# STEP 6: INSTANTIATE OPTIMIZER CLASS\n",
    "\n",
    "optimizer = torch.optim.Adam(model.parameters(), lr=learning_rate)\n",
    "\n",
    "# Freeze embedding Layer\n",
    "\n",
    "#freeze embeddings\n",
    "model.embed.weight.requires_grad  = False\n",
    "\n",
    "# STEP 7: TRAIN THE MODEL\n",
    "\n",
    "train_losses= np.zeros(epochs)\n",
    "valid_losses= np.zeros(epochs)\n",
    "\n",
    "\n",
    "for epoch in range(epochs):\n",
    "  \n",
    "  t0= datetime.now()\n",
    "  train_loss=[]\n",
    "  \n",
    "  model.train()\n",
    "  for batch in train_iter:\n",
    "   \n",
    "    # forward pass\n",
    "    output= model(batch.data)\n",
    "    loss=criterion(output,batch.label)\n",
    "\n",
    "    # set gradients to zero \n",
    "    optimizer.zero_grad()\n",
    "\n",
    "    # backward pass\n",
    "    loss.backward()\n",
    "    optimizer.step()\n",
    "    train_loss.append(loss.item())\n",
    "  \n",
    "  train_loss=np.mean(train_loss)\n",
    "      \n",
    "  valid_loss=[]\n",
    "  model.eval()\n",
    "  with torch.no_grad():\n",
    "    for batch in valid_iter:\n",
    " \n",
    "      # forward pass\n",
    "      output= model(batch.data)\n",
    "      loss=criterion(output,batch.label)\n",
    "      \n",
    "      valid_loss.append(loss.item())\n",
    "\n",
    "    valid_loss=np.mean(valid_loss)\n",
    "  \n",
    "  # save Losses\n",
    "  train_losses[epoch]= train_loss\n",
    "  valid_losses[epoch]= valid_loss\n",
    "  dt= datetime.now()-t0\n",
    "  print(f'Epoch {epoch+1}/{epochs}, Train Loss: {train_loss:.4f}    Valid Loss: {valid_loss:.4f}, Duration: {dt}')"
   ]
  },
  {
   "cell_type": "code",
   "execution_count": null,
   "metadata": {
    "id": "ZGFsntvqpj4B"
   },
   "outputs": [],
   "source": [
    "# Accuracy- write a function to get accuracy\n",
    "# use this function to get accuracy and print accuracy\n",
    "def get_accuracy(data_iter, model):\n",
    "  model.eval()\n",
    "  with torch.no_grad():\n",
    "    correct =0 \n",
    "    total =0\n",
    "    \n",
    "    for batch in data_iter:\n",
    "\n",
    "      output=model(batch.data)\n",
    "      _,indices = torch.max(output,dim=1)\n",
    "      correct+= (batch.label==indices).sum().item()\n",
    "      total += batch.label.shape[0]\n",
    "    \n",
    "    acc= correct/total\n",
    "\n",
    "    return acc"
   ]
  },
  {
   "cell_type": "code",
   "execution_count": null,
   "metadata": {
    "colab": {
     "base_uri": "https://localhost:8080/"
    },
    "id": "p9viF8Lxpnpm",
    "outputId": "170c95d9-b0f8-482e-aa5f-e5263f3c7201"
   },
   "outputs": [
    {
     "name": "stdout",
     "output_type": "stream",
     "text": [
      "Train acc: 0.5693,\t Valid acc: 0.5130,\t Test acc: 0.4842\n"
     ]
    }
   ],
   "source": [
    "train_acc = get_accuracy(train_iter, model)\n",
    "valid_acc = get_accuracy(valid_iter, model)\n",
    "test_acc = get_accuracy(test_iter ,model)\n",
    "print(f'Train acc: {train_acc:.4f},\\t Valid acc: {valid_acc:.4f},\\t Test acc: {test_acc:.4f}')"
   ]
  },
  {
   "cell_type": "code",
   "execution_count": null,
   "metadata": {
    "id": "vWLx1vJtWbxN"
   },
   "outputs": [],
   "source": [
    "# Write a function to get predictions\n",
    "\n",
    "def get_predictions(test_iter, model):\n",
    "  model.eval()\n",
    "  with torch.no_grad():\n",
    "    predictions= np.array([])\n",
    "    y_test= np.array([])\n",
    "\n",
    "    for batch in test_iter:\n",
    "      \n",
    "      output=model(batch.data)\n",
    "      _,indices = torch.max(output,dim=1)\n",
    "      predictions=np.concatenate((predictions,indices.cpu().numpy())) \n",
    "      y_test = np.concatenate((y_test,batch.label.cpu().numpy())) \n",
    "      \n",
    "  return y_test, predictions"
   ]
  },
  {
   "cell_type": "code",
   "execution_count": null,
   "metadata": {
    "id": "Ynwwl3OkWfqX"
   },
   "outputs": [],
   "source": [
    "y_test, predictions=get_predictions(test_iter, model)"
   ]
  },
  {
   "cell_type": "code",
   "execution_count": null,
   "metadata": {
    "colab": {
     "base_uri": "https://localhost:8080/"
    },
    "id": "_ODbjd6HzakE",
    "outputId": "19055c2a-6a97-4da2-f6e9-4403dd568dd3"
   },
   "outputs": [
    {
     "data": {
      "text/plain": [
       "19.0"
      ]
     },
     "execution_count": 36,
     "metadata": {
      "tags": []
     },
     "output_type": "execute_result"
    }
   ],
   "source": [
    "predictions.max()"
   ]
  },
  {
   "cell_type": "code",
   "execution_count": null,
   "metadata": {
    "colab": {
     "base_uri": "https://localhost:8080/"
    },
    "id": "lFLt5nDeWkxt",
    "outputId": "38036abb-7046-475d-83fc-7ae164e3361e"
   },
   "outputs": [
    {
     "data": {
      "text/plain": [
       "array([[218,  19,  12,  14,   5,  13,  32,   9,   3,   0,   2,   6,  11,\n",
       "         18,  21,   0,   0,   5,   1,   0],\n",
       "       [  8, 259,  15,   0,   1,  24,   0,   5,   0,  53,   0,  11,  11,\n",
       "          1,   0,   2,   0,   3,   4,   0],\n",
       "       [ 20,  11, 301,   0,   4,  23,   0,  11,   8,   0,   0,   7,   2,\n",
       "          1,   0,   0,   0,   6,   2,   0],\n",
       "       [ 31,  12,   0, 139,   0,  30,   4,  24,   0,   0,   2,   0,  32,\n",
       "         78,  38,   1,   0,   1,   0,   0],\n",
       "       [ 21,  10,  34,   0, 206,  36,   3,  23,   6,   0,   0,   8,   6,\n",
       "          1,   0,  10,   0,  12,  18,   0],\n",
       "       [ 11,  17,   4,   4,   3, 270,   0,  16,   1,   0,   0,  30,  12,\n",
       "          7,   0,  11,   0,   8,   2,   0],\n",
       "       [156,   9,   2,   4,   3,   7, 152,   9,   0,   0,   2,   4,  17,\n",
       "         10,  19,   0,   0,   1,   0,   0],\n",
       "       [ 37,  11,  17,  27,   3,  48,   2, 138,   0,   1,   7,  12,  22,\n",
       "         53,   4,   3,   0,   8,   0,   0],\n",
       "       [  8,   5,  11,   0,   2,  18,   0,   1, 295,   0,   1,   2,   1,\n",
       "          2,   1,   4,   2,  36,   9,   0],\n",
       "       [  5, 185,   8,   0,   0,  16,   0,   2,   1, 155,   0,   9,   5,\n",
       "          0,   0,   2,   0,   6,   5,   0],\n",
       "       [ 24,  11,   9,   2,   3,  30,   0,  19,   0,   0, 201,   4,   2,\n",
       "         19,   3,  29,   1,  13,  26,   0],\n",
       "       [  6,  17,  11,   0,   1,  83,   0,  10,   1,   0,   0, 229,   8,\n",
       "          7,   0,   7,   0,  13,   3,   2],\n",
       "       [  8,   8,   1,  16,   1,  29,   1,   7,   1,   0,   0,  11, 275,\n",
       "         23,   7,   0,   0,   0,   2,   0],\n",
       "       [ 28,   3,   2, 118,   0,  46,   1,  29,   0,   0,   3,  14,  33,\n",
       "        101,   4,   1,   0,   2,   0,   0],\n",
       "       [ 74,  11,   2,  35,   2,  23,  22,   4,   1,   0,   4,   7,  13,\n",
       "         20, 166,   1,   0,   6,   3,   0],\n",
       "       [  4,  18,  11,   0,   3,  24,   0,   6,   8,   1,   2,  17,   4,\n",
       "          1,   0, 192,   2,  34,  35,   2],\n",
       "       [  6,  14,   5,   0,   1,  10,   0,   0,  26,   0,   0,  11,   1,\n",
       "          1,   0,  26, 184,  39,  51,   1],\n",
       "       [ 11,  12,  19,   0,   5,  14,   3,   1, 141,   0,   1,  12,   2,\n",
       "          3,   2,  12,   2,  67,  11,   1],\n",
       "       [  6,  14,  29,   0,   3,  10,   0,   1,   5,   1,   5,   5,   2,\n",
       "          1,   0,  87,   1,  45,  95,   0],\n",
       "       [  7,  11,  13,   0,   4,  15,   0,   0, 106,   1,   0,   9,   0,\n",
       "          0,   1,  24,   2,  49,   5,   4]])"
      ]
     },
     "execution_count": 37,
     "metadata": {
      "tags": []
     },
     "output_type": "execute_result"
    }
   ],
   "source": [
    "# Confusion Matrix\n",
    "\n",
    "cm=confusion_matrix(y_test,predictions)\n",
    "cm"
   ]
  },
  {
   "cell_type": "code",
   "execution_count": null,
   "metadata": {
    "id": "3Kv5THuUk_tB"
   },
   "outputs": [],
   "source": [
    "# Write a function to print confusion matrix\n",
    "# plot confusion matrix\n",
    "# need to import confusion_matrix from sklearn for this function to work\n",
    "# need to import seaborn as sns\n",
    "# import seaborn as sns\n",
    "# import matplotlib.pyplot as plt\n",
    "# from sklearn.metrics import confusion_matrix\n",
    "\n",
    "def plot_confusion_matrix(y_true,y_pred,normalize=None):\n",
    "  cm=confusion_matrix(y_true,y_pred,normalize=normalize)\n",
    "  fig, ax = plt.subplots(figsize=(6,5))\n",
    "  if normalize == None:\n",
    "    fmt='d'\n",
    "    fig.suptitle('Confusion matrix without Normalization', fontsize=12)\n",
    "        \n",
    "  else :\n",
    "    fmt='0.2f'\n",
    "    fig.suptitle('Normalized confusion matrix', fontsize=12)\n",
    "    \n",
    "  ax=sns.heatmap(cm,cmap=plt.cm.Blues,annot=True,fmt=fmt)\n",
    "  ax.axhline(y=0, color='k',linewidth=1)\n",
    "  ax.axhline(y=cm.shape[1], color='k',linewidth=2)\n",
    "  ax.axvline(x=0, color='k',linewidth=1)\n",
    "  ax.axvline(x=cm.shape[0], color='k',linewidth=2)\n",
    " \n",
    "  ax.set_xlabel('Predicted label', fontsize=12)\n",
    "  ax.set_ylabel('True label', fontsize=12)"
   ]
  },
  {
   "cell_type": "code",
   "execution_count": null,
   "metadata": {
    "colab": {
     "base_uri": "https://localhost:8080/",
     "height": 373
    },
    "id": "0r4kzZzAWvlW",
    "outputId": "2381694f-9a5d-4f3b-9dad-1e5add3cba61"
   },
   "outputs": [
    {
     "data": {
      "image/png": "[encoded data removed]",
      "text/plain": [
       "<Figure size 432x360 with 2 Axes>"
      ]
     },
     "metadata": {
      "needs_background": "light",
      "tags": []
     },
     "output_type": "display_data"
    }
   ],
   "source": [
    "plot_confusion_matrix(y_test,predictions)"
   ]
  }
 ],
 "metadata": {
  "accelerator": "GPU",
  "colab": {
   "collapsed_sections": [],
   "machine_shape": "hm",
   "name": "HW5_Q2_Part1_2_glove pre-trained embedding (weights frozen).ipynb",
   "provenance": []
  },
  "kernelspec": {
   "display_name": "Python 3",
   "language": "python",
   "name": "python3"
  },
  "language_info": {
   "codemirror_mode": {
    "name": "ipython",
    "version": 3
   },
   "file_extension": ".py",
   "mimetype": "text/x-python",
   "name": "python",
   "nbconvert_exporter": "python",
   "pygments_lexer": "ipython3",
   "version": "3.8.3"
  }
 },
 "nbformat": 4,
 "nbformat_minor": 1
}
