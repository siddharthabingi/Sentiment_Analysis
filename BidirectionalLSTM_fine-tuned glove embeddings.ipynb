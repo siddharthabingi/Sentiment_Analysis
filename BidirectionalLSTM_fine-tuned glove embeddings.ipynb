{
 "cells": [
  {
   "cell_type": "markdown",
   "metadata": {},
   "source": [
    "# Task 2 (5 Points): Sentiment Analysis (Part 3)\n",
    "\n",
    "#### We will use ‘The 20 Newsgroups dataset’. The code to download data using sk-learn is provided in attached notebook (task2_data.ipynb). Report the accuracy on test data set for following models: \n",
    "\n"
   ]
  },
  {
   "cell_type": "markdown",
   "metadata": {},
   "source": [
    "# Fine-tuned glove embeddings i.e. weights of embedding layer will not be frozen). "
   ]
  },
  {
   "cell_type": "markdown",
   "metadata": {
    "id": "gY8_mD02OZK4"
   },
   "source": [
    "#### Import Data"
   ]
  },
  {
   "cell_type": "code",
   "execution_count": 1,
   "metadata": {
    "colab": {
     "base_uri": "https://localhost:8080/"
    },
    "executionInfo": {
     "elapsed": 526,
     "status": "ok",
     "timestamp": 1605919928470,
     "user": {
      "displayName": "Siddhartha Bingi",
      "photoUrl": "https://lh3.googleusercontent.com/a-/AOh14GiA0XDlqNyW5kwp3cyxq8sCjIi1gmbOx9-sCw225A=s64",
      "userId": "12222030431833942702"
     },
     "user_tz": 360
    },
    "id": "0GLHvZ-9p2Ef",
    "outputId": "aabd2b35-ecc8-49d7-f670-a2caec16be3a"
   },
   "outputs": [
    {
     "name": "stdout",
     "output_type": "stream",
     "text": [
      "Drive already mounted at /content/gdrive; to attempt to forcibly remount, call drive.mount(\"/content/gdrive\", force_remount=True).\n"
     ]
    }
   ],
   "source": [
    "from google.colab import drive\n",
    "drive.mount('/content/gdrive')"
   ]
  },
  {
   "cell_type": "code",
   "execution_count": 2,
   "metadata": {
    "executionInfo": {
     "elapsed": 3260,
     "status": "ok",
     "timestamp": 1605919931212,
     "user": {
      "displayName": "Siddhartha Bingi",
      "photoUrl": "https://lh3.googleusercontent.com/a-/AOh14GiA0XDlqNyW5kwp3cyxq8sCjIi1gmbOx9-sCw225A=s64",
      "userId": "12222030431833942702"
     },
     "user_tz": 360
    },
    "id": "zQ1JFvdCqva6"
   },
   "outputs": [],
   "source": [
    "from sklearn.datasets import fetch_20newsgroups\n",
    "\n",
    "train = fetch_20newsgroups(subset='train',\n",
    "                           remove=('headers', 'footers', 'quotes'))\n",
    "\n",
    "test = fetch_20newsgroups(subset='test',\n",
    "                           remove=('headers', 'footers', 'quotes'))"
   ]
  },
  {
   "cell_type": "code",
   "execution_count": 3,
   "metadata": {
    "executionInfo": {
     "elapsed": 3257,
     "status": "ok",
     "timestamp": 1605919931214,
     "user": {
      "displayName": "Siddhartha Bingi",
      "photoUrl": "https://lh3.googleusercontent.com/a-/AOh14GiA0XDlqNyW5kwp3cyxq8sCjIi1gmbOx9-sCw225A=s64",
      "userId": "12222030431833942702"
     },
     "user_tz": 360
    },
    "id": "uNrC9YS2pXkX"
   },
   "outputs": [],
   "source": [
    "from pathlib import Path\n",
    "folder=Path('/content/gdrive/My Drive/ColabNotebooks')"
   ]
  },
  {
   "cell_type": "code",
   "execution_count": 4,
   "metadata": {
    "executionInfo": {
     "elapsed": 3807,
     "status": "ok",
     "timestamp": 1605919931766,
     "user": {
      "displayName": "Siddhartha Bingi",
      "photoUrl": "https://lh3.googleusercontent.com/a-/AOh14GiA0XDlqNyW5kwp3cyxq8sCjIi1gmbOx9-sCw225A=s64",
      "userId": "12222030431833942702"
     },
     "user_tz": 360
    },
    "id": "2nHyhdZjxbL5"
   },
   "outputs": [],
   "source": [
    "import torch\n",
    "import torch.nn as nn\n",
    "\n",
    "import numpy as np\n",
    "import matplotlib.pyplot as plt\n",
    "import seaborn as sns\n",
    "from sklearn.metrics import confusion_matrix\n",
    "from datetime import datetime\n",
    "from pathlib import Path\n",
    "import pandas as pd\n",
    "import random\n",
    "\n",
    "import torchtext.data as ttd"
   ]
  },
  {
   "cell_type": "code",
   "execution_count": 5,
   "metadata": {
    "colab": {
     "base_uri": "https://localhost:8080/"
    },
    "executionInfo": {
     "elapsed": 3805,
     "status": "ok",
     "timestamp": 1605919931767,
     "user": {
      "displayName": "Siddhartha Bingi",
      "photoUrl": "https://lh3.googleusercontent.com/a-/AOh14GiA0XDlqNyW5kwp3cyxq8sCjIi1gmbOx9-sCw225A=s64",
      "userId": "12222030431833942702"
     },
     "user_tz": 360
    },
    "id": "peLxm-C2qLcV",
    "outputId": "7a4a9238-addd-46be-d4c4-614e7bae2a79"
   },
   "outputs": [
    {
     "data": {
      "text/plain": [
       "131072"
      ]
     },
     "execution_count": 5,
     "metadata": {
      "tags": []
     },
     "output_type": "execute_result"
    }
   ],
   "source": [
    "import sys\n",
    "import csv\n",
    "\n",
    "csv.field_size_limit(sys.maxsize)"
   ]
  },
  {
   "cell_type": "code",
   "execution_count": 6,
   "metadata": {
    "executionInfo": {
     "elapsed": 46452,
     "status": "ok",
     "timestamp": 1605919974418,
     "user": {
      "displayName": "Siddhartha Bingi",
      "photoUrl": "https://lh3.googleusercontent.com/a-/AOh14GiA0XDlqNyW5kwp3cyxq8sCjIi1gmbOx9-sCw225A=s64",
      "userId": "12222030431833942702"
     },
     "user_tz": 360
    },
    "id": "qCkLpZqAk5Np"
   },
   "outputs": [],
   "source": [
    "TEXT = ttd.Field(\n",
    "    sequential=True,\n",
    "    batch_first=True,\n",
    "    lower=False,\n",
    "    tokenize='spacy',\n",
    "    pad_first=True)\n",
    "\n",
    "LABEL = ttd.LabelField()\n",
    "#LABEL = ttd.Field(sequential=False, use_vocab=False, is_target=True)\n",
    "\n",
    "train_dataset = ttd.TabularDataset(\n",
    "    path= folder / 'newsgroup20_train.csv',\n",
    "    format='csv',\n",
    "    skip_header=True,\n",
    "    fields=[('data', TEXT), ('label', LABEL)]\n",
    ")\n",
    "\n",
    "test_dataset = ttd.TabularDataset(\n",
    "    path= folder / 'newsgroup20_test.csv',\n",
    "    format='csv',\n",
    "    skip_header=True,\n",
    "    fields=[('data', TEXT), ('label', LABEL)]\n",
    ")"
   ]
  },
  {
   "cell_type": "code",
   "execution_count": 7,
   "metadata": {
    "executionInfo": {
     "elapsed": 46452,
     "status": "ok",
     "timestamp": 1605919974421,
     "user": {
      "displayName": "Siddhartha Bingi",
      "photoUrl": "https://lh3.googleusercontent.com/a-/AOh14GiA0XDlqNyW5kwp3cyxq8sCjIi1gmbOx9-sCw225A=s64",
      "userId": "12222030431833942702"
     },
     "user_tz": 360
    },
    "id": "wvwN3q1qtjb6"
   },
   "outputs": [],
   "source": [
    "SEED=10\n",
    "train_dataset, valid_dataset = train_dataset.split(random_state = random.seed(SEED)) # default is 0.7"
   ]
  },
  {
   "cell_type": "code",
   "execution_count": 8,
   "metadata": {
    "colab": {
     "base_uri": "https://localhost:8080/"
    },
    "executionInfo": {
     "elapsed": 46450,
     "status": "ok",
     "timestamp": 1605919974422,
     "user": {
      "displayName": "Siddhartha Bingi",
      "photoUrl": "https://lh3.googleusercontent.com/a-/AOh14GiA0XDlqNyW5kwp3cyxq8sCjIi1gmbOx9-sCw225A=s64",
      "userId": "12222030431833942702"
     },
     "user_tz": 360
    },
    "id": "UzqspeWmJIbC",
    "outputId": "1d218ade-915c-47d0-a567-1368260e9068"
   },
   "outputs": [
    {
     "name": "stdout",
     "output_type": "stream",
     "text": [
      "Number of training examples: 7920\n",
      "Number of validation examples: 3394\n",
      "Number of testing examples: 7532\n"
     ]
    }
   ],
   "source": [
    "print(f'Number of training examples: {len(train_dataset)}')\n",
    "print(f'Number of validation examples: {len(valid_dataset)}')\n",
    "print(f'Number of testing examples: {len(test_dataset)}')"
   ]
  },
  {
   "cell_type": "code",
   "execution_count": 9,
   "metadata": {
    "executionInfo": {
     "elapsed": 48072,
     "status": "ok",
     "timestamp": 1605919976048,
     "user": {
      "displayName": "Siddhartha Bingi",
      "photoUrl": "https://lh3.googleusercontent.com/a-/AOh14GiA0XDlqNyW5kwp3cyxq8sCjIi1gmbOx9-sCw225A=s64",
      "userId": "12222030431833942702"
     },
     "user_tz": 360
    },
    "id": "6ieo_C0AlvE6"
   },
   "outputs": [],
   "source": [
    "MAX_VOCAB_SIZE = 25000\n",
    "\n",
    "TEXT.build_vocab(train_dataset, \n",
    "                 max_size = MAX_VOCAB_SIZE, \n",
    "                 vectors = \"glove.6B.100d\", \n",
    "                 unk_init = torch.Tensor.normal_)"
   ]
  },
  {
   "cell_type": "code",
   "execution_count": 10,
   "metadata": {
    "executionInfo": {
     "elapsed": 48069,
     "status": "ok",
     "timestamp": 1605919976049,
     "user": {
      "displayName": "Siddhartha Bingi",
      "photoUrl": "https://lh3.googleusercontent.com/a-/AOh14GiA0XDlqNyW5kwp3cyxq8sCjIi1gmbOx9-sCw225A=s64",
      "userId": "12222030431833942702"
     },
     "user_tz": 360
    },
    "id": "dTkkNIV4iYrN"
   },
   "outputs": [],
   "source": [
    "LABEL.build_vocab(train_dataset)"
   ]
  },
  {
   "cell_type": "code",
   "execution_count": 11,
   "metadata": {
    "executionInfo": {
     "elapsed": 48068,
     "status": "ok",
     "timestamp": 1605919976050,
     "user": {
      "displayName": "Siddhartha Bingi",
      "photoUrl": "https://lh3.googleusercontent.com/a-/AOh14GiA0XDlqNyW5kwp3cyxq8sCjIi1gmbOx9-sCw225A=s64",
      "userId": "12222030431833942702"
     },
     "user_tz": 360
    },
    "id": "Lew5Hi_klyi5"
   },
   "outputs": [],
   "source": [
    "vocab_text = TEXT.vocab"
   ]
  },
  {
   "cell_type": "code",
   "execution_count": 14,
   "metadata": {
    "colab": {
     "base_uri": "https://localhost:8080/"
    },
    "executionInfo": {
     "elapsed": 48059,
     "status": "ok",
     "timestamp": 1605919976053,
     "user": {
      "displayName": "Siddhartha Bingi",
      "photoUrl": "https://lh3.googleusercontent.com/a-/AOh14GiA0XDlqNyW5kwp3cyxq8sCjIi1gmbOx9-sCw225A=s64",
      "userId": "12222030431833942702"
     },
     "user_tz": 360
    },
    "id": "tM30vqWqinab",
    "outputId": "b74aa09c-7f3e-49eb-bce4-e2e8eaf152df"
   },
   "outputs": [
    {
     "data": {
      "text/plain": [
       "25002"
      ]
     },
     "execution_count": 14,
     "metadata": {
      "tags": []
     },
     "output_type": "execute_result"
    }
   ],
   "source": [
    "len(vocab_text)"
   ]
  },
  {
   "cell_type": "code",
   "execution_count": 15,
   "metadata": {
    "executionInfo": {
     "elapsed": 48055,
     "status": "ok",
     "timestamp": 1605919976054,
     "user": {
      "displayName": "Siddhartha Bingi",
      "photoUrl": "https://lh3.googleusercontent.com/a-/AOh14GiA0XDlqNyW5kwp3cyxq8sCjIi1gmbOx9-sCw225A=s64",
      "userId": "12222030431833942702"
     },
     "user_tz": 360
    },
    "id": "YBeGypYQBSgf"
   },
   "outputs": [],
   "source": [
    "vocab_label = LABEL.vocab"
   ]
  },
  {
   "cell_type": "code",
   "execution_count": 18,
   "metadata": {
    "colab": {
     "base_uri": "https://localhost:8080/"
    },
    "executionInfo": {
     "elapsed": 48228,
     "status": "ok",
     "timestamp": 1605919976235,
     "user": {
      "displayName": "Siddhartha Bingi",
      "photoUrl": "https://lh3.googleusercontent.com/a-/AOh14GiA0XDlqNyW5kwp3cyxq8sCjIi1gmbOx9-sCw225A=s64",
      "userId": "12222030431833942702"
     },
     "user_tz": 360
    },
    "id": "Q9fgCUSA7ju4",
    "outputId": "cd6d2b36-4ef3-4431-f703-8f6d56827a99"
   },
   "outputs": [
    {
     "name": "stdout",
     "output_type": "stream",
     "text": [
      "cuda:0\n"
     ]
    }
   ],
   "source": [
    "#device = 'cpu'\n",
    "device = torch.device(\"cuda:0\" if torch.cuda.is_available() else \"cpu\")\n",
    "print(device)"
   ]
  },
  {
   "cell_type": "code",
   "execution_count": 19,
   "metadata": {
    "executionInfo": {
     "elapsed": 48223,
     "status": "ok",
     "timestamp": 1605919976235,
     "user": {
      "displayName": "Siddhartha Bingi",
      "photoUrl": "https://lh3.googleusercontent.com/a-/AOh14GiA0XDlqNyW5kwp3cyxq8sCjIi1gmbOx9-sCw225A=s64",
      "userId": "12222030431833942702"
     },
     "user_tz": 360
    },
    "id": "pXiLOhEXmrNs"
   },
   "outputs": [],
   "source": [
    "train_iter, valid_iter, test_iter = ttd.BucketIterator.splits((train_dataset,valid_dataset,test_dataset), \n",
    "                              sort_key=lambda x: len(x.data),\n",
    "                              #sort_key=None,\n",
    "                              batch_sizes=(64,256,256), \n",
    "                              device=device)"
   ]
  },
  {
   "cell_type": "code",
   "execution_count": 20,
   "metadata": {
    "colab": {
     "base_uri": "https://localhost:8080/"
    },
    "executionInfo": {
     "elapsed": 51842,
     "status": "ok",
     "timestamp": 1605919979856,
     "user": {
      "displayName": "Siddhartha Bingi",
      "photoUrl": "https://lh3.googleusercontent.com/a-/AOh14GiA0XDlqNyW5kwp3cyxq8sCjIi1gmbOx9-sCw225A=s64",
      "userId": "12222030431833942702"
     },
     "user_tz": 360
    },
    "id": "p67zN6Oy8kOn",
    "outputId": "d97839aa-93c6-41fe-c897-f14810df16e7"
   },
   "outputs": [
    {
     "name": "stdout",
     "output_type": "stream",
     "text": [
      "inputs: tensor([[    1,     1,     1,  ...,  3151,     4,    77],\n",
      "        [    1,     1,     1,  ...,    14,   736,    83],\n",
      "        [    1,     1,     1,  ...,     0,     4,    15],\n",
      "        ...,\n",
      "        [    1,     1,     1,  ...,     0, 22062,    27],\n",
      "        [    1,     1,     1,  ..., 20017,     4,    77],\n",
      "        [    1,     1,     1,  ...,  2675,     4,     6]], device='cuda:0') torch.Size([64, 2985])\n",
      "targets: tensor([16,  9, 15,  7,  2, 16, 10,  9, 13,  5, 15,  6,  4, 11, 18,  0,  1,  2,\n",
      "        15,  2,  0,  3,  3, 14,  5, 11, 15,  4,  9,  3,  0,  4, 12,  9,  0, 12,\n",
      "        18,  8,  3, 10, 10,  2, 13, 19,  8, 14,  3, 16, 13, 13,  8, 14,  7, 16,\n",
      "        18,  9,  0, 10,  6, 13,  1,  5,  0, 19], device='cuda:0') shape: torch.Size([64])\n"
     ]
    }
   ],
   "source": [
    "for batch in train_iter:\n",
    "  print(\"inputs:\", batch.data, batch.data.shape)\n",
    "  print(\"targets:\",batch.label, \"shape:\", batch.label.shape)\n",
    "  break"
   ]
  },
  {
   "cell_type": "code",
   "execution_count": 21,
   "metadata": {
    "colab": {
     "base_uri": "https://localhost:8080/"
    },
    "executionInfo": {
     "elapsed": 51839,
     "status": "ok",
     "timestamp": 1605919979856,
     "user": {
      "displayName": "Siddhartha Bingi",
      "photoUrl": "https://lh3.googleusercontent.com/a-/AOh14GiA0XDlqNyW5kwp3cyxq8sCjIi1gmbOx9-sCw225A=s64",
      "userId": "12222030431833942702"
     },
     "user_tz": 360
    },
    "id": "BGgBYOHLm4P1",
    "outputId": "5eb78ad8-9e36-416c-efd1-a63fdd26e77d"
   },
   "outputs": [
    {
     "name": "stdout",
     "output_type": "stream",
     "text": [
      "inputs: tensor([[   21,     2,    21,  ...,     4,     2,    21],\n",
      "        [    2, 16839,  3721,  ...,     0,     4,     6],\n",
      "        [  662,   365,    23,  ..., 11321,  3719,     0],\n",
      "        ...,\n",
      "        [    1,     1,     1,  ...,     1,     1,     1],\n",
      "        [    1,     1,     1,  ...,     1,     1,     1],\n",
      "        [    1,     1,     1,  ...,     1,     1,     1]], device='cuda:0') torch.Size([256, 21])\n",
      "targets: tensor([ 3,  8,  9,  3, 19,  7, 17,  7, 11,  7, 10,  5,  1, 18,  4, 16, 15,  7,\n",
      "        12, 15,  1, 19, 15,  1, 10, 14, 14, 10,  3,  0,  4, 17, 17,  1,  5,  0,\n",
      "         2,  6, 17, 13, 17, 14,  7,  2,  0,  6, 19,  0,  1,  0, 15, 11, 18,  7,\n",
      "         8,  2,  4, 17,  7,  8, 12,  7, 18,  3, 13,  2, 17,  8, 12,  5,  3,  8,\n",
      "        14, 12,  9,  2,  4, 10, 17, 14,  2,  8,  2,  7,  0,  2,  8, 15, 10, 10,\n",
      "         2,  4, 11, 18,  2,  3,  6,  7, 10, 17, 17, 18,  2, 17,  4,  1,  8,  3,\n",
      "         8,  7, 11,  8, 16,  5, 16,  2,  6,  8,  4,  3, 18,  7,  9, 13, 12,  1,\n",
      "         4,  9, 18,  0, 13,  7, 13, 18,  0, 16, 11,  7,  7, 11,  0,  7,  9, 12,\n",
      "         5,  8,  4,  9,  9, 19,  7,  7, 18,  7,  7, 10,  7, 12, 12,  2,  8,  5,\n",
      "         7, 16, 14, 17, 12, 17, 10, 10,  4,  6, 11, 16,  5,  8, 13,  2, 17, 15,\n",
      "        12, 13,  0, 11,  5,  2,  9,  6,  9,  2,  7, 16, 10,  2,  1, 14,  5, 13,\n",
      "        19, 14,  7,  1, 17, 14, 17, 15,  2, 17,  1, 12, 12, 13, 14, 14, 14,  8,\n",
      "         9, 19, 11,  3, 19,  8,  6,  8, 13,  5,  0, 10, 11,  3, 10,  9,  9,  0,\n",
      "         9,  8, 19,  2,  7, 15,  9, 16, 13,  7, 13,  8,  8, 10,  8, 16, 18,  5,\n",
      "         8, 11, 14, 15], device='cuda:0') shape: torch.Size([256])\n"
     ]
    }
   ],
   "source": [
    "for batch in valid_iter:\n",
    "  print(\"inputs:\", batch.data, batch.data.shape)\n",
    "  print(\"targets:\",batch.label, \"shape:\", batch.label.shape)\n",
    "  break"
   ]
  },
  {
   "cell_type": "code",
   "execution_count": 22,
   "metadata": {
    "colab": {
     "base_uri": "https://localhost:8080/"
    },
    "executionInfo": {
     "elapsed": 51834,
     "status": "ok",
     "timestamp": 1605919979856,
     "user": {
      "displayName": "Siddhartha Bingi",
      "photoUrl": "https://lh3.googleusercontent.com/a-/AOh14GiA0XDlqNyW5kwp3cyxq8sCjIi1gmbOx9-sCw225A=s64",
      "userId": "12222030431833942702"
     },
     "user_tz": 360
    },
    "id": "beGVBMlwV0dK",
    "outputId": "209d9f98-4b5d-412b-f6b0-f2291ec4f139"
   },
   "outputs": [
    {
     "name": "stdout",
     "output_type": "stream",
     "text": [
      "inputs: tensor([ 2,  0,  0, 83], device='cuda:0') torch.Size([4])\n",
      "targets: tensor([ 2, 15,  9,  0,  4, 16,  4, 11,  4,  4,  2,  7, 15, 15,  8,  8,  2, 11,\n",
      "         4,  2,  2, 12, 19,  5, 13,  7,  4, 19,  1, 12, 17,  1, 17,  4,  7,  3,\n",
      "         8,  3, 16,  4,  4,  7, 19, 17, 14, 16, 13, 19,  9,  0, 15,  7,  2,  7,\n",
      "         6,  9, 13, 14,  9, 14,  9,  5, 11, 11, 15,  1,  0,  3,  9,  5, 13,  6,\n",
      "         7, 16, 13,  4, 19,  1,  5, 16, 12, 11,  5, 16, 13, 11,  0,  0,  8,  1,\n",
      "        14, 13,  3,  2, 14,  9,  2, 15, 18,  8, 18,  7,  1,  7,  8, 16,  3,  9,\n",
      "        12,  2,  6,  7, 14,  2, 13,  3, 17, 12,  1, 13,  7,  8, 10,  7,  2, 11,\n",
      "        14,  9,  1,  0,  6, 10, 13,  8,  8,  8,  9,  5,  6,  6, 15, 14, 13,  1,\n",
      "         9, 17, 12,  8, 18, 13, 10,  0, 14,  1,  9, 18, 19,  2, 13,  2,  2, 19,\n",
      "        13,  8, 19,  6,  6,  1,  3, 17,  8, 15, 10, 14,  5,  2,  4,  2,  8,  0,\n",
      "        15, 13,  9, 15,  5,  2, 11,  2, 11, 11,  7, 12, 15,  9, 10,  2,  2,  1,\n",
      "         5, 18, 12,  6,  1,  7,  6, 15, 18,  1, 19, 14, 18, 17, 12,  4, 11, 11,\n",
      "         2, 16,  9,  5,  1, 11, 13,  9, 15,  7,  7, 11, 14,  3,  1, 14, 17,  2,\n",
      "         2, 11,  6,  6,  1, 17, 14,  2, 11, 12,  1,  0,  0,  7,  7,  2,  8,  6,\n",
      "        13,  2,  5,  6], device='cuda:0') shape: torch.Size([256])\n"
     ]
    }
   ],
   "source": [
    "for batch in test_iter:\n",
    "  print(\"inputs:\", batch.data[0], batch.data[0].shape)\n",
    "  print(\"targets:\",batch.label, \"shape:\", batch.label.shape)\n",
    "  break"
   ]
  },
  {
   "cell_type": "code",
   "execution_count": 23,
   "metadata": {
    "executionInfo": {
     "elapsed": 51832,
     "status": "ok",
     "timestamp": 1605919979858,
     "user": {
      "displayName": "Siddhartha Bingi",
      "photoUrl": "https://lh3.googleusercontent.com/a-/AOh14GiA0XDlqNyW5kwp3cyxq8sCjIi1gmbOx9-sCw225A=s64",
      "userId": "12222030431833942702"
     },
     "user_tz": 360
    },
    "id": "oTdqSCmwfRNp"
   },
   "outputs": [],
   "source": [
    "# Define the model\n",
    "class RNN(nn.Module):\n",
    "  def __init__(self, n_vocab, embed_dim, n_hidden, n_rnnlayers, n_outputs, bidirectional, dropout_rate):\n",
    "    super(RNN, self).__init__()\n",
    "    self.V = n_vocab\n",
    "    self.D = embed_dim\n",
    "    self.M = n_hidden\n",
    "    self.K = n_outputs\n",
    "    self.L = n_rnnlayers\n",
    "    self.num_diections= bidirectional\n",
    "    self.dropout_rate=dropout_rate\n",
    "    \n",
    "    # embedding layer\n",
    "    self.embed = nn.Embedding(self.V, self.D)\n",
    "    \n",
    "    # rnn layers\n",
    "    self.rnn = nn.LSTM(\n",
    "        input_size=self.D,\n",
    "        hidden_size=self.M,\n",
    "        num_layers=self.L,\n",
    "        bidirectional=self.num_diections,\n",
    "        dropout= self.dropout_rate,\n",
    "        batch_first=True)\n",
    "    \n",
    "    # dense layer\n",
    "    self.fc = nn.Linear(self.M *2 , self.K)\n",
    "\n",
    "    # dropout layer\n",
    "    self.dropout= nn.Dropout(self.dropout_rate)\n",
    "  \n",
    "  def forward(self, X):\n",
    "    # initial hidden states\n",
    "    h0 = torch.zeros(self.L*2, X.size(0), self.M).to(device)\n",
    "    c0 = torch.zeros(self.L*2, X.size(0), self.M).to(device)\n",
    "\n",
    "    # embedding layer\n",
    "    # turns word indexes into word vectors\n",
    "    # X (batch_size, sentence length)\n",
    "    embedding = self.embed(X)   # (batch_size, sentence_length, emd_dim)\n",
    "    embedding= self.dropout(embedding) # (batch_size, sentence_length, emd_dim)\n",
    "\n",
    "    # get RNN unit output\n",
    "    output, (hidden,cell) = self.rnn(embedding, (h0, c0))\n",
    "\n",
    "\n",
    "    #output = [batch size, sent len, hid dim * num directions]\n",
    "    #hidden = [num layers * num directions, batch size, hid dim]\n",
    "    #cell = [num layers * num directions, batch size, hid dim]\n",
    "\n",
    "    # max pool\n",
    "    output, _ = torch.max(output, 1)\n",
    "    output= self.dropout(output)\n",
    "    # we only want h(T) at the final time step\n",
    "    output = self.fc(output)\n",
    "    return output"
   ]
  },
  {
   "cell_type": "code",
   "execution_count": 24,
   "metadata": {
    "executionInfo": {
     "elapsed": 51828,
     "status": "ok",
     "timestamp": 1605919979858,
     "user": {
      "displayName": "Siddhartha Bingi",
      "photoUrl": "https://lh3.googleusercontent.com/a-/AOh14GiA0XDlqNyW5kwp3cyxq8sCjIi1gmbOx9-sCw225A=s64",
      "userId": "12222030431833942702"
     },
     "user_tz": 360
    },
    "id": "DNh5F8I8oBRt"
   },
   "outputs": [],
   "source": [
    "n_vocab = len(TEXT.vocab)\n",
    "embed_dim = 100\n",
    "n_hidden = 50\n",
    "n_rnnlayers = 2\n",
    "n_outputs =20 \n",
    "bidirectional = True \n",
    "dropout_rate = 0.5 \n"
   ]
  },
  {
   "cell_type": "code",
   "execution_count": 25,
   "metadata": {
    "colab": {
     "base_uri": "https://localhost:8080/"
    },
    "executionInfo": {
     "elapsed": 52018,
     "status": "ok",
     "timestamp": 1605919980050,
     "user": {
      "displayName": "Siddhartha Bingi",
      "photoUrl": "https://lh3.googleusercontent.com/a-/AOh14GiA0XDlqNyW5kwp3cyxq8sCjIi1gmbOx9-sCw225A=s64",
      "userId": "12222030431833942702"
     },
     "user_tz": 360
    },
    "id": "gi6O8d9E4WON",
    "outputId": "b9485b05-891d-4e36-ac38-b8bc6a40b357"
   },
   "outputs": [
    {
     "data": {
      "text/plain": [
       "RNN(\n",
       "  (embed): Embedding(25002, 100)\n",
       "  (rnn): LSTM(100, 50, num_layers=2, batch_first=True, dropout=0.5, bidirectional=True)\n",
       "  (fc): Linear(in_features=100, out_features=20, bias=True)\n",
       "  (dropout): Dropout(p=0.5, inplace=False)\n",
       ")"
      ]
     },
     "execution_count": 25,
     "metadata": {
      "tags": []
     },
     "output_type": "execute_result"
    }
   ],
   "source": [
    "model = RNN(n_vocab, embed_dim, n_hidden, n_rnnlayers, n_outputs, bidirectional, dropout_rate)\n",
    "model.to(device)"
   ]
  },
  {
   "cell_type": "markdown",
   "metadata": {
    "id": "jbVyfgoGOO93"
   },
   "source": [
    "## Model Summary"
   ]
  },
  {
   "cell_type": "code",
   "execution_count": 26,
   "metadata": {
    "colab": {
     "base_uri": "https://localhost:8080/"
    },
    "executionInfo": {
     "elapsed": 52015,
     "status": "ok",
     "timestamp": 1605919980050,
     "user": {
      "displayName": "Siddhartha Bingi",
      "photoUrl": "https://lh3.googleusercontent.com/a-/AOh14GiA0XDlqNyW5kwp3cyxq8sCjIi1gmbOx9-sCw225A=s64",
      "userId": "12222030431833942702"
     },
     "user_tz": 360
    },
    "id": "6jKAcDCRuiZ7",
    "outputId": "ec9bd07d-10ba-48fe-a023-c8fc7ac81de6"
   },
   "outputs": [
    {
     "name": "stdout",
     "output_type": "stream",
     "text": [
      "RNN(\n",
      "  (embed): Embedding(25002, 100)\n",
      "  (rnn): LSTM(100, 50, num_layers=2, batch_first=True, dropout=0.5, bidirectional=True)\n",
      "  (fc): Linear(in_features=100, out_features=20, bias=True)\n",
      "  (dropout): Dropout(p=0.5, inplace=False)\n",
      ")\n"
     ]
    }
   ],
   "source": [
    "print(model)"
   ]
  },
  {
   "cell_type": "markdown",
   "metadata": {
    "id": "A8NByh_dQXoe"
   },
   "source": [
    "## Model Parameters"
   ]
  },
  {
   "cell_type": "code",
   "execution_count": 27,
   "metadata": {
    "colab": {
     "base_uri": "https://localhost:8080/"
    },
    "executionInfo": {
     "elapsed": 52012,
     "status": "ok",
     "timestamp": 1605919980051,
     "user": {
      "displayName": "Siddhartha Bingi",
      "photoUrl": "https://lh3.googleusercontent.com/a-/AOh14GiA0XDlqNyW5kwp3cyxq8sCjIi1gmbOx9-sCw225A=s64",
      "userId": "12222030431833942702"
     },
     "user_tz": 360
    },
    "id": "3JWyeS3DwKpj",
    "outputId": "d384ea34-1040-4282-f22a-4646abae2ef3"
   },
   "outputs": [
    {
     "name": "stdout",
     "output_type": "stream",
     "text": [
      "embed.weight torch.Size([25002, 100])\n",
      "rnn.weight_ih_l0 torch.Size([200, 100])\n",
      "rnn.weight_hh_l0 torch.Size([200, 50])\n",
      "rnn.bias_ih_l0 torch.Size([200])\n",
      "rnn.bias_hh_l0 torch.Size([200])\n",
      "rnn.weight_ih_l0_reverse torch.Size([200, 100])\n",
      "rnn.weight_hh_l0_reverse torch.Size([200, 50])\n",
      "rnn.bias_ih_l0_reverse torch.Size([200])\n",
      "rnn.bias_hh_l0_reverse torch.Size([200])\n",
      "rnn.weight_ih_l1 torch.Size([200, 100])\n",
      "rnn.weight_hh_l1 torch.Size([200, 50])\n",
      "rnn.bias_ih_l1 torch.Size([200])\n",
      "rnn.bias_hh_l1 torch.Size([200])\n",
      "rnn.weight_ih_l1_reverse torch.Size([200, 100])\n",
      "rnn.weight_hh_l1_reverse torch.Size([200, 50])\n",
      "rnn.bias_ih_l1_reverse torch.Size([200])\n",
      "rnn.bias_hh_l1_reverse torch.Size([200])\n",
      "fc.weight torch.Size([20, 100])\n",
      "fc.bias torch.Size([20])\n"
     ]
    }
   ],
   "source": [
    "for name, param in model.named_parameters():\n",
    "  print(name, param.shape)"
   ]
  },
  {
   "cell_type": "code",
   "execution_count": 28,
   "metadata": {
    "colab": {
     "base_uri": "https://localhost:8080/"
    },
    "executionInfo": {
     "elapsed": 52009,
     "status": "ok",
     "timestamp": 1605919980051,
     "user": {
      "displayName": "Siddhartha Bingi",
      "photoUrl": "https://lh3.googleusercontent.com/a-/AOh14GiA0XDlqNyW5kwp3cyxq8sCjIi1gmbOx9-sCw225A=s64",
      "userId": "12222030431833942702"
     },
     "user_tz": 360
    },
    "id": "WpRh0XOQ5QkW",
    "outputId": "f7e3efd6-609b-410d-ec11-177a5b0f6c3f"
   },
   "outputs": [
    {
     "name": "stdout",
     "output_type": "stream",
     "text": [
      "torch.Size([25002, 100])\n"
     ]
    }
   ],
   "source": [
    "pretrained_embeddings = TEXT.vocab.vectors\n",
    "print(pretrained_embeddings.shape)"
   ]
  },
  {
   "cell_type": "code",
   "execution_count": 29,
   "metadata": {
    "colab": {
     "base_uri": "https://localhost:8080/"
    },
    "executionInfo": {
     "elapsed": 52004,
     "status": "ok",
     "timestamp": 1605919980051,
     "user": {
      "displayName": "Siddhartha Bingi",
      "photoUrl": "https://lh3.googleusercontent.com/a-/AOh14GiA0XDlqNyW5kwp3cyxq8sCjIi1gmbOx9-sCw225A=s64",
      "userId": "12222030431833942702"
     },
     "user_tz": 360
    },
    "id": "Y0dn0uqC5ZS1",
    "outputId": "11e18668-e209-488d-d82a-8f7208195ed8"
   },
   "outputs": [
    {
     "data": {
      "text/plain": [
       "tensor([[-0.1318, -0.4128, -1.6698,  ..., -1.5336, -0.0990, -0.2853],\n",
       "        [ 0.0908, -0.3956,  0.9224,  ..., -0.8592, -0.4308,  0.0644],\n",
       "        [-1.4696, -0.5792, -0.1084,  ..., -0.0677, -1.1171, -0.6050],\n",
       "        ...,\n",
       "        [-0.9355,  0.5288, -0.0498,  ...,  1.0867,  0.0163, -0.1898],\n",
       "        [-0.3228, -1.1138, -1.1244,  ...,  1.5938,  0.0870, -0.6005],\n",
       "        [-0.4633,  0.2071, -2.2085,  ..., -1.1402, -2.2278,  1.1968]],\n",
       "       device='cuda:0')"
      ]
     },
     "execution_count": 29,
     "metadata": {
      "tags": []
     },
     "output_type": "execute_result"
    }
   ],
   "source": [
    "model.embed.weight.data.copy_(pretrained_embeddings)"
   ]
  },
  {
   "cell_type": "code",
   "execution_count": 30,
   "metadata": {
    "colab": {
     "base_uri": "https://localhost:8080/"
    },
    "executionInfo": {
     "elapsed": 52002,
     "status": "ok",
     "timestamp": 1605919980052,
     "user": {
      "displayName": "Siddhartha Bingi",
      "photoUrl": "https://lh3.googleusercontent.com/a-/AOh14GiA0XDlqNyW5kwp3cyxq8sCjIi1gmbOx9-sCw225A=s64",
      "userId": "12222030431833942702"
     },
     "user_tz": 360
    },
    "id": "CAHviEZN5wL9",
    "outputId": "78377d48-3d06-4c52-9482-805dc9b7e2db"
   },
   "outputs": [
    {
     "name": "stdout",
     "output_type": "stream",
     "text": [
      "tensor([[ 0.0000,  0.0000,  0.0000,  ...,  0.0000,  0.0000,  0.0000],\n",
      "        [ 0.0000,  0.0000,  0.0000,  ...,  0.0000,  0.0000,  0.0000],\n",
      "        [-1.4696, -0.5792, -0.1084,  ..., -0.0677, -1.1171, -0.6050],\n",
      "        ...,\n",
      "        [-0.9355,  0.5288, -0.0498,  ...,  1.0867,  0.0163, -0.1898],\n",
      "        [-0.3228, -1.1138, -1.1244,  ...,  1.5938,  0.0870, -0.6005],\n",
      "        [-0.4633,  0.2071, -2.2085,  ..., -1.1402, -2.2278,  1.1968]],\n",
      "       device='cuda:0')\n"
     ]
    }
   ],
   "source": [
    "unk_idx = TEXT.vocab.stoi[TEXT.unk_token]\n",
    "pad_idx = TEXT.vocab.stoi[TEXT.pad_token]\n",
    "\n",
    "model.embed.weight.data[unk_idx] = torch.zeros(embed_dim)\n",
    "model.embed.weight.data[pad_idx] = torch.zeros(embed_dim)\n",
    "\n",
    "print(model.embed.weight.data)"
   ]
  },
  {
   "cell_type": "markdown",
   "metadata": {
    "id": "025OmwnxOUiC"
   },
   "source": [
    "## Training Loop"
   ]
  },
  {
   "cell_type": "code",
   "execution_count": 31,
   "metadata": {
    "colab": {
     "base_uri": "https://localhost:8080/"
    },
    "executionInfo": {
     "elapsed": 10226016,
     "status": "ok",
     "timestamp": 1605930154071,
     "user": {
      "displayName": "Siddhartha Bingi",
      "photoUrl": "https://lh3.googleusercontent.com/a-/AOh14GiA0XDlqNyW5kwp3cyxq8sCjIi1gmbOx9-sCw225A=s64",
      "userId": "12222030431833942702"
     },
     "user_tz": 360
    },
    "id": "-BjQYSeyRSxj",
    "outputId": "50f323b7-b530-4eb5-cffd-591d7f086e0a"
   },
   "outputs": [
    {
     "name": "stdout",
     "output_type": "stream",
     "text": [
      "Epoch 1/100, Train Loss: 2.8848    Valid Loss: 2.4895, Duration: 0:01:44.389219\n",
      "Epoch 2/100, Train Loss: 2.4093    Valid Loss: 2.1194, Duration: 0:01:45.841169\n",
      "Epoch 3/100, Train Loss: 2.0034    Valid Loss: 1.7255, Duration: 0:01:43.653374\n",
      "Epoch 4/100, Train Loss: 1.6791    Valid Loss: 1.5354, Duration: 0:01:46.893702\n",
      "Epoch 5/100, Train Loss: 1.4721    Valid Loss: 1.4388, Duration: 0:01:41.281567\n",
      "Epoch 6/100, Train Loss: 1.3179    Valid Loss: 1.3990, Duration: 0:01:45.835532\n",
      "Epoch 7/100, Train Loss: 1.1950    Valid Loss: 1.3668, Duration: 0:01:42.404665\n",
      "Epoch 8/100, Train Loss: 1.1122    Valid Loss: 1.3030, Duration: 0:01:48.993869\n",
      "Epoch 9/100, Train Loss: 1.0039    Valid Loss: 1.2786, Duration: 0:01:40.205270\n",
      "Epoch 10/100, Train Loss: 0.9407    Valid Loss: 1.2878, Duration: 0:01:40.584583\n",
      "Epoch 11/100, Train Loss: 0.8686    Valid Loss: 1.3264, Duration: 0:01:46.317511\n",
      "Epoch 12/100, Train Loss: 0.8268    Valid Loss: 1.3628, Duration: 0:01:40.339527\n",
      "Epoch 13/100, Train Loss: 0.7541    Valid Loss: 1.2869, Duration: 0:01:46.720566\n",
      "Epoch 14/100, Train Loss: 0.7106    Valid Loss: 1.3323, Duration: 0:01:41.699012\n",
      "Epoch 15/100, Train Loss: 0.6794    Valid Loss: 1.3233, Duration: 0:01:42.448890\n",
      "Epoch 16/100, Train Loss: 0.6643    Valid Loss: 1.4200, Duration: 0:01:39.707241\n",
      "Epoch 17/100, Train Loss: 0.6217    Valid Loss: 1.4474, Duration: 0:01:41.721939\n",
      "Epoch 18/100, Train Loss: 0.6042    Valid Loss: 1.4735, Duration: 0:01:40.695839\n",
      "Epoch 19/100, Train Loss: 0.5683    Valid Loss: 1.4149, Duration: 0:01:40.360716\n",
      "Epoch 20/100, Train Loss: 0.5223    Valid Loss: 1.5159, Duration: 0:01:45.916582\n",
      "Epoch 21/100, Train Loss: 0.5226    Valid Loss: 1.4516, Duration: 0:01:40.306952\n",
      "Epoch 22/100, Train Loss: 0.4926    Valid Loss: 1.5183, Duration: 0:01:41.710458\n",
      "Epoch 23/100, Train Loss: 0.4578    Valid Loss: 1.6099, Duration: 0:01:37.892949\n",
      "Epoch 24/100, Train Loss: 0.4516    Valid Loss: 1.5690, Duration: 0:01:39.981671\n",
      "Epoch 25/100, Train Loss: 0.4494    Valid Loss: 1.4920, Duration: 0:01:41.988895\n",
      "Epoch 26/100, Train Loss: 0.4186    Valid Loss: 1.5382, Duration: 0:01:38.719132\n",
      "Epoch 27/100, Train Loss: 0.5429    Valid Loss: 1.5799, Duration: 0:01:42.407137\n",
      "Epoch 28/100, Train Loss: 0.4292    Valid Loss: 1.5950, Duration: 0:01:42.512473\n",
      "Epoch 29/100, Train Loss: 0.4380    Valid Loss: 1.5881, Duration: 0:01:42.087656\n",
      "Epoch 30/100, Train Loss: 0.4124    Valid Loss: 1.5756, Duration: 0:01:39.838609\n",
      "Epoch 31/100, Train Loss: 0.3732    Valid Loss: 1.6315, Duration: 0:01:44.296029\n",
      "Epoch 32/100, Train Loss: 0.3604    Valid Loss: 1.6278, Duration: 0:01:42.813453\n",
      "Epoch 33/100, Train Loss: 0.3669    Valid Loss: 1.7583, Duration: 0:01:41.854501\n",
      "Epoch 34/100, Train Loss: 0.3573    Valid Loss: 1.6672, Duration: 0:01:40.352120\n",
      "Epoch 35/100, Train Loss: 0.3533    Valid Loss: 1.7646, Duration: 0:01:40.442984\n",
      "Epoch 36/100, Train Loss: 0.3402    Valid Loss: 1.6442, Duration: 0:01:39.603246\n",
      "Epoch 37/100, Train Loss: 0.3179    Valid Loss: 1.7482, Duration: 0:01:37.233065\n",
      "Epoch 38/100, Train Loss: 0.4320    Valid Loss: 1.6392, Duration: 0:01:44.445820\n",
      "Epoch 39/100, Train Loss: 0.4056    Valid Loss: 1.6320, Duration: 0:01:43.574621\n",
      "Epoch 40/100, Train Loss: 0.3574    Valid Loss: 1.7409, Duration: 0:01:36.807872\n",
      "Epoch 41/100, Train Loss: 0.3512    Valid Loss: 1.7506, Duration: 0:01:41.585361\n",
      "Epoch 42/100, Train Loss: 0.3283    Valid Loss: 1.7091, Duration: 0:01:35.934539\n",
      "Epoch 43/100, Train Loss: 0.3318    Valid Loss: 1.7927, Duration: 0:01:39.114316\n",
      "Epoch 44/100, Train Loss: 0.3062    Valid Loss: 1.8103, Duration: 0:01:40.831277\n",
      "Epoch 45/100, Train Loss: 0.2953    Valid Loss: 1.9139, Duration: 0:01:39.592764\n",
      "Epoch 46/100, Train Loss: 0.3032    Valid Loss: 1.8988, Duration: 0:01:45.211694\n",
      "Epoch 47/100, Train Loss: 0.3021    Valid Loss: 1.8963, Duration: 0:01:45.838202\n",
      "Epoch 48/100, Train Loss: 0.2944    Valid Loss: 1.9137, Duration: 0:01:43.861295\n",
      "Epoch 49/100, Train Loss: 0.2785    Valid Loss: 1.9265, Duration: 0:01:42.297478\n",
      "Epoch 50/100, Train Loss: 0.2875    Valid Loss: 1.9406, Duration: 0:01:43.863620\n",
      "Epoch 51/100, Train Loss: 0.2852    Valid Loss: 1.9917, Duration: 0:01:39.315567\n",
      "Epoch 52/100, Train Loss: 0.2704    Valid Loss: 1.9347, Duration: 0:01:40.957378\n",
      "Epoch 53/100, Train Loss: 0.2844    Valid Loss: 1.8934, Duration: 0:01:39.766071\n",
      "Epoch 54/100, Train Loss: 0.2682    Valid Loss: 1.9132, Duration: 0:01:40.880124\n",
      "Epoch 55/100, Train Loss: 0.2668    Valid Loss: 1.9546, Duration: 0:01:38.151687\n",
      "Epoch 56/100, Train Loss: 0.2584    Valid Loss: 1.9754, Duration: 0:01:39.964737\n",
      "Epoch 57/100, Train Loss: 0.2435    Valid Loss: 2.0553, Duration: 0:01:40.428566\n",
      "Epoch 58/100, Train Loss: 0.2580    Valid Loss: 1.8642, Duration: 0:01:42.692730\n",
      "Epoch 59/100, Train Loss: 0.2573    Valid Loss: 1.9529, Duration: 0:01:41.991970\n",
      "Epoch 60/100, Train Loss: 0.2843    Valid Loss: 1.9851, Duration: 0:01:37.641836\n",
      "Epoch 61/100, Train Loss: 0.2635    Valid Loss: 2.0063, Duration: 0:01:43.139868\n",
      "Epoch 62/100, Train Loss: 0.2680    Valid Loss: 1.9150, Duration: 0:01:34.619670\n",
      "Epoch 63/100, Train Loss: 0.2515    Valid Loss: 1.9260, Duration: 0:01:36.274623\n",
      "Epoch 64/100, Train Loss: 0.2475    Valid Loss: 1.9184, Duration: 0:01:43.019734\n",
      "Epoch 65/100, Train Loss: 0.2482    Valid Loss: 2.0308, Duration: 0:01:39.884731\n",
      "Epoch 66/100, Train Loss: 0.2367    Valid Loss: 2.0582, Duration: 0:01:37.303795\n",
      "Epoch 67/100, Train Loss: 0.2305    Valid Loss: 2.0108, Duration: 0:01:43.355013\n",
      "Epoch 68/100, Train Loss: 0.2289    Valid Loss: 1.9477, Duration: 0:01:33.940682\n",
      "Epoch 69/100, Train Loss: 0.2294    Valid Loss: 1.9744, Duration: 0:01:39.858962\n",
      "Epoch 70/100, Train Loss: 0.2332    Valid Loss: 1.9225, Duration: 0:01:42.956343\n",
      "Epoch 71/100, Train Loss: 0.2433    Valid Loss: 1.9364, Duration: 0:01:42.214046\n",
      "Epoch 72/100, Train Loss: 0.2342    Valid Loss: 2.0060, Duration: 0:01:43.219757\n",
      "Epoch 73/100, Train Loss: 0.2336    Valid Loss: 1.9831, Duration: 0:01:47.547096\n",
      "Epoch 74/100, Train Loss: 0.2285    Valid Loss: 1.9926, Duration: 0:01:43.384307\n",
      "Epoch 75/100, Train Loss: 0.2280    Valid Loss: 2.0481, Duration: 0:01:43.275107\n",
      "Epoch 76/100, Train Loss: 0.2255    Valid Loss: 2.0090, Duration: 0:01:43.492737\n",
      "Epoch 77/100, Train Loss: 0.2258    Valid Loss: 2.0789, Duration: 0:01:36.476303\n",
      "Epoch 78/100, Train Loss: 0.2243    Valid Loss: 2.1130, Duration: 0:01:40.731999\n",
      "Epoch 79/100, Train Loss: 0.2258    Valid Loss: 2.0138, Duration: 0:01:41.152423\n",
      "Epoch 80/100, Train Loss: 0.2386    Valid Loss: 1.9843, Duration: 0:01:40.088137\n",
      "Epoch 81/100, Train Loss: 0.2193    Valid Loss: 2.0338, Duration: 0:01:39.689732\n",
      "Epoch 82/100, Train Loss: 0.2187    Valid Loss: 2.0355, Duration: 0:01:42.186963\n",
      "Epoch 83/100, Train Loss: 0.2199    Valid Loss: 2.0140, Duration: 0:01:37.754603\n",
      "Epoch 84/100, Train Loss: 0.2086    Valid Loss: 2.1299, Duration: 0:01:40.992588\n",
      "Epoch 85/100, Train Loss: 0.2244    Valid Loss: 2.0116, Duration: 0:01:40.975417\n",
      "Epoch 86/100, Train Loss: 0.2257    Valid Loss: 2.0461, Duration: 0:01:43.079471\n",
      "Epoch 87/100, Train Loss: 0.2088    Valid Loss: 2.2002, Duration: 0:01:44.158552\n",
      "Epoch 88/100, Train Loss: 0.2107    Valid Loss: 2.2200, Duration: 0:01:44.803573\n",
      "Epoch 89/100, Train Loss: 0.2186    Valid Loss: 2.0881, Duration: 0:01:42.465093\n",
      "Epoch 90/100, Train Loss: 0.2297    Valid Loss: 2.0535, Duration: 0:01:43.561222\n",
      "Epoch 91/100, Train Loss: 0.2293    Valid Loss: 2.0646, Duration: 0:01:43.031879\n",
      "Epoch 92/100, Train Loss: 0.2300    Valid Loss: 2.1133, Duration: 0:01:41.724143\n",
      "Epoch 93/100, Train Loss: 0.2242    Valid Loss: 2.0413, Duration: 0:01:41.708092\n",
      "Epoch 94/100, Train Loss: 0.2185    Valid Loss: 2.0515, Duration: 0:01:42.309054\n",
      "Epoch 95/100, Train Loss: 0.1993    Valid Loss: 2.0851, Duration: 0:01:45.947370\n",
      "Epoch 96/100, Train Loss: 0.2061    Valid Loss: 2.0565, Duration: 0:01:45.682558\n",
      "Epoch 97/100, Train Loss: 0.2081    Valid Loss: 2.1643, Duration: 0:01:45.388375\n",
      "Epoch 98/100, Train Loss: 0.2057    Valid Loss: 2.1057, Duration: 0:01:43.115867\n",
      "Epoch 99/100, Train Loss: 0.2300    Valid Loss: 2.1202, Duration: 0:01:42.238554\n",
      "Epoch 100/100, Train Loss: 0.2056    Valid Loss: 2.1437, Duration: 0:01:42.357030\n"
     ]
    }
   ],
   "source": [
    "learning_rate = 0.005\n",
    "epochs=100\n",
    "# STEP 5: INSTANTIATE LOSS CLASS\n",
    "criterion = nn.CrossEntropyLoss()\n",
    "\n",
    "# STEP 6: INSTANTIATE OPTIMIZER CLASS\n",
    "\n",
    "optimizer = torch.optim.Adam(model.parameters(), lr=learning_rate)\n",
    "\n",
    "# Freeze embedding Layer\n",
    "\n",
    "#freeze embeddings\n",
    "#model.embed.weight.requires_grad  = False\n",
    "\n",
    "# STEP 7: TRAIN THE MODEL\n",
    "\n",
    "train_losses= np.zeros(epochs)\n",
    "valid_losses= np.zeros(epochs)\n",
    "\n",
    "\n",
    "for epoch in range(epochs):\n",
    "  \n",
    "  t0= datetime.now()\n",
    "  train_loss=[]\n",
    "  \n",
    "  model.train()\n",
    "  for batch in train_iter:\n",
    "   \n",
    "    # forward pass\n",
    "    output= model(batch.data)\n",
    "    loss=criterion(output,batch.label)\n",
    "\n",
    "    # set gradients to zero \n",
    "    optimizer.zero_grad()\n",
    "\n",
    "    # backward pass\n",
    "    loss.backward()\n",
    "    optimizer.step()\n",
    "    train_loss.append(loss.item())\n",
    "  \n",
    "  train_loss=np.mean(train_loss)\n",
    "      \n",
    "  valid_loss=[]\n",
    "  model.eval()\n",
    "  with torch.no_grad():\n",
    "    for batch in valid_iter:\n",
    " \n",
    "      # forward pass\n",
    "      output= model(batch.data)\n",
    "      loss=criterion(output,batch.label)\n",
    "      \n",
    "      valid_loss.append(loss.item())\n",
    "\n",
    "    valid_loss=np.mean(valid_loss)\n",
    "  \n",
    "  # save Losses\n",
    "  train_losses[epoch]= train_loss\n",
    "  valid_losses[epoch]= valid_loss\n",
    "  dt= datetime.now()-t0\n",
    "  print(f'Epoch {epoch+1}/{epochs}, Train Loss: {train_loss:.4f}    Valid Loss: {valid_loss:.4f}, Duration: {dt}')"
   ]
  },
  {
   "cell_type": "code",
   "execution_count": 32,
   "metadata": {
    "executionInfo": {
     "elapsed": 10226015,
     "status": "ok",
     "timestamp": 1605930154073,
     "user": {
      "displayName": "Siddhartha Bingi",
      "photoUrl": "https://lh3.googleusercontent.com/a-/AOh14GiA0XDlqNyW5kwp3cyxq8sCjIi1gmbOx9-sCw225A=s64",
      "userId": "12222030431833942702"
     },
     "user_tz": 360
    },
    "id": "ZGFsntvqpj4B"
   },
   "outputs": [],
   "source": [
    "# Accuracy- write a function to get accuracy\n",
    "# use this function to get accuracy and print accuracy\n",
    "def get_accuracy(data_iter, model):\n",
    "  model.eval()\n",
    "  with torch.no_grad():\n",
    "    correct =0 \n",
    "    total =0\n",
    "    \n",
    "    for batch in data_iter:\n",
    "\n",
    "      output=model(batch.data)\n",
    "      _,indices = torch.max(output,dim=1)\n",
    "      correct+= (batch.label==indices).sum().item()\n",
    "      total += batch.label.shape[0]\n",
    "    \n",
    "    acc= correct/total\n",
    "\n",
    "    return acc"
   ]
  },
  {
   "cell_type": "code",
   "execution_count": 33,
   "metadata": {
    "colab": {
     "base_uri": "https://localhost:8080/"
    },
    "executionInfo": {
     "elapsed": 10269445,
     "status": "ok",
     "timestamp": 1605930197506,
     "user": {
      "displayName": "Siddhartha Bingi",
      "photoUrl": "https://lh3.googleusercontent.com/a-/AOh14GiA0XDlqNyW5kwp3cyxq8sCjIi1gmbOx9-sCw225A=s64",
      "userId": "12222030431833942702"
     },
     "user_tz": 360
    },
    "id": "p9viF8Lxpnpm",
    "outputId": "8db4e2a2-4568-4aa2-e740-152b00a62ce8"
   },
   "outputs": [
    {
     "name": "stdout",
     "output_type": "stream",
     "text": [
      "Train acc: 0.9634,\t Valid acc: 0.6467,\t Test acc: 0.5589\n"
     ]
    }
   ],
   "source": [
    "train_acc = get_accuracy(train_iter, model)\n",
    "valid_acc = get_accuracy(valid_iter, model)\n",
    "test_acc = get_accuracy(test_iter ,model)\n",
    "print(f'Train acc: {train_acc:.4f},\\t Valid acc: {valid_acc:.4f},\\t Test acc: {test_acc:.4f}')"
   ]
  },
  {
   "cell_type": "code",
   "execution_count": 34,
   "metadata": {
    "executionInfo": {
     "elapsed": 10269444,
     "status": "ok",
     "timestamp": 1605930197507,
     "user": {
      "displayName": "Siddhartha Bingi",
      "photoUrl": "https://lh3.googleusercontent.com/a-/AOh14GiA0XDlqNyW5kwp3cyxq8sCjIi1gmbOx9-sCw225A=s64",
      "userId": "12222030431833942702"
     },
     "user_tz": 360
    },
    "id": "vWLx1vJtWbxN"
   },
   "outputs": [],
   "source": [
    "# Write a function to get predictions\n",
    "\n",
    "def get_predictions(test_iter, model):\n",
    "  model.eval()\n",
    "  with torch.no_grad():\n",
    "    predictions= np.array([])\n",
    "    y_test= np.array([])\n",
    "\n",
    "    for batch in test_iter:\n",
    "      \n",
    "      output=model(batch.data)\n",
    "      _,indices = torch.max(output,dim=1)\n",
    "      predictions=np.concatenate((predictions,indices.cpu().numpy())) \n",
    "      y_test = np.concatenate((y_test,batch.label.cpu().numpy())) \n",
    "      \n",
    "  return y_test, predictions"
   ]
  },
  {
   "cell_type": "code",
   "execution_count": 35,
   "metadata": {
    "executionInfo": {
     "elapsed": 10272006,
     "status": "ok",
     "timestamp": 1605930200072,
     "user": {
      "displayName": "Siddhartha Bingi",
      "photoUrl": "https://lh3.googleusercontent.com/a-/AOh14GiA0XDlqNyW5kwp3cyxq8sCjIi1gmbOx9-sCw225A=s64",
      "userId": "12222030431833942702"
     },
     "user_tz": 360
    },
    "id": "Ynwwl3OkWfqX"
   },
   "outputs": [],
   "source": [
    "y_test, predictions=get_predictions(test_iter, model)"
   ]
  },
  {
   "cell_type": "code",
   "execution_count": 36,
   "metadata": {
    "colab": {
     "base_uri": "https://localhost:8080/"
    },
    "executionInfo": {
     "elapsed": 10272007,
     "status": "ok",
     "timestamp": 1605930200074,
     "user": {
      "displayName": "Siddhartha Bingi",
      "photoUrl": "https://lh3.googleusercontent.com/a-/AOh14GiA0XDlqNyW5kwp3cyxq8sCjIi1gmbOx9-sCw225A=s64",
      "userId": "12222030431833942702"
     },
     "user_tz": 360
    },
    "id": "_ODbjd6HzakE",
    "outputId": "33d29327-5a8e-427c-fc1b-d3a70a66dd31"
   },
   "outputs": [
    {
     "data": {
      "text/plain": [
       "19.0"
      ]
     },
     "execution_count": 36,
     "metadata": {
      "tags": []
     },
     "output_type": "execute_result"
    }
   ],
   "source": [
    "predictions.max()"
   ]
  },
  {
   "cell_type": "code",
   "execution_count": 37,
   "metadata": {
    "colab": {
     "base_uri": "https://localhost:8080/"
    },
    "executionInfo": {
     "elapsed": 10272005,
     "status": "ok",
     "timestamp": 1605930200075,
     "user": {
      "displayName": "Siddhartha Bingi",
      "photoUrl": "https://lh3.googleusercontent.com/a-/AOh14GiA0XDlqNyW5kwp3cyxq8sCjIi1gmbOx9-sCw225A=s64",
      "userId": "12222030431833942702"
     },
     "user_tz": 360
    },
    "id": "lFLt5nDeWkxt",
    "outputId": "812e2446-121e-47c9-8ee8-97d7ee3aae5e"
   },
   "outputs": [
    {
     "data": {
      "text/plain": [
       "array([[319,   2,  13,   1,   0,   0,   0,  30,   3,   3,   1,   0,   2,\n",
       "          0,   1,   6,   7,   3,   1,   7],\n",
       "       [  2, 240,  27,   2,   3,  28,   1,   6,  14,   2,  18,  10,   3,\n",
       "          3,   5,   5,   4,   8,   9,   4],\n",
       "       [  3,   3, 262,   1,   2,  15,   1,   3,  41,   4,   2,   1,   8,\n",
       "          2,  29,   4,   2,   5,   5,   3],\n",
       "       [  0,   1,  11, 218,   4,  14,   1,   1,   0,  42,  16,   0,  10,\n",
       "          1,  70,   0,   1,   2,   0,   0],\n",
       "       [  1,   1,  14,  11, 244,   3,   2,   2,   2,  34,  58,   1,   0,\n",
       "          4,  12,   1,   0,   1,   4,   0],\n",
       "       [  2,   7,  61,  42,   3, 138,   0,   3,  10,  13,  27,   6,  12,\n",
       "          5,  48,   2,   1,   4,   3,   6],\n",
       "       [  1,   3,  17,   0,   9,   0, 151,   0,   5,   1,   3,   2,   0,\n",
       "          3,   1,   2,   4,  38,   1, 157],\n",
       "       [ 20,   1,  27,   0,   0,   4,   2, 288,  18,   1,   1,   6,   4,\n",
       "          2,   4,   4,   1,   7,   2,   5],\n",
       "       [  5,   3,  68,   1,   0,   7,   1,   6, 245,   2,   2,   7,   4,\n",
       "          2,  10,  18,   0,   5,   2,  10],\n",
       "       [  5,   5,  27,  54,  13,   6,   0,   0,   3, 194,  35,   2,   3,\n",
       "          4,  28,   3,   0,   2,   5,   5],\n",
       "       [  1,   7,  15,  18,  21,  15,   1,   0,   3,  36, 220,   1,   3,\n",
       "          7,  28,   0,   2,   4,   2,   5],\n",
       "       [  0,  11,  35,   0,   2,  10,  11,   5,  30,   4,  13, 218,   0,\n",
       "          0,   8,   4,   0,  33,   8,   4],\n",
       "       [  4,   5,  34,  38,   2,   8,   1,   9,   9,   3,   1,   0, 220,\n",
       "          0,  49,   1,   2,   1,   1,   2],\n",
       "       [  1,   4,  28,  17,   6,  19,   3,   3,   2,  13,  10,   1,   2,\n",
       "        217,   5,  16,  15,   7,  21,   6],\n",
       "       [  0,   1,  33,  33,   1,  13,   1,   0,   5,  11,   6,   2,   8,\n",
       "          2, 264,   0,   0,   1,   3,   1],\n",
       "       [  3,   1,  27,   0,   3,   2,   1,   2,  15,   2,   1,   4,   2,\n",
       "          3,   3, 198,   9,  22,  38,  28],\n",
       "       [  2,   2,  12,   0,   1,   0,   4,   2,   4,   3,   1,   0,   0,\n",
       "          2,   2,  11, 237,  17,  11,  65],\n",
       "       [  4,   4,  19,   1,   3,   2,  15,   2,   6,   3,   5,   4,   0,\n",
       "          4,   3,  13,   2, 140,  12,  77],\n",
       "       [  4,   7,  13,   1,   2,   7,   2,   2,   6,   1,   2,   4,   1,\n",
       "          9,   2,  81,  12,  33,  91,  30],\n",
       "       [  4,   3,  15,   3,   0,   2,  19,   2,   5,   1,   2,   7,   1,\n",
       "          2,   3,  18,   4,  49,   5, 106]])"
      ]
     },
     "execution_count": 37,
     "metadata": {
      "tags": []
     },
     "output_type": "execute_result"
    }
   ],
   "source": [
    "# Confusion Matrix\n",
    "\n",
    "cm=confusion_matrix(y_test,predictions)\n",
    "cm"
   ]
  },
  {
   "cell_type": "code",
   "execution_count": 38,
   "metadata": {
    "executionInfo": {
     "elapsed": 10272004,
     "status": "ok",
     "timestamp": 1605930200076,
     "user": {
      "displayName": "Siddhartha Bingi",
      "photoUrl": "https://lh3.googleusercontent.com/a-/AOh14GiA0XDlqNyW5kwp3cyxq8sCjIi1gmbOx9-sCw225A=s64",
      "userId": "12222030431833942702"
     },
     "user_tz": 360
    },
    "id": "3Kv5THuUk_tB"
   },
   "outputs": [],
   "source": [
    "# Write a function to print confusion matrix\n",
    "# plot confusion matrix\n",
    "# need to import confusion_matrix from sklearn for this function to work\n",
    "# need to import seaborn as sns\n",
    "# import seaborn as sns\n",
    "# import matplotlib.pyplot as plt\n",
    "# from sklearn.metrics import confusion_matrix\n",
    "\n",
    "def plot_confusion_matrix(y_true,y_pred,normalize=None):\n",
    "  cm=confusion_matrix(y_true,y_pred,normalize=normalize)\n",
    "  fig, ax = plt.subplots(figsize=(6,5))\n",
    "  if normalize == None:\n",
    "    fmt='d'\n",
    "    fig.suptitle('Confusion matrix without Normalization', fontsize=12)\n",
    "        \n",
    "  else :\n",
    "    fmt='0.2f'\n",
    "    fig.suptitle('Normalized confusion matrix', fontsize=12)\n",
    "    \n",
    "  ax=sns.heatmap(cm,cmap=plt.cm.Blues,annot=True,fmt=fmt)\n",
    "  ax.axhline(y=0, color='k',linewidth=1)\n",
    "  ax.axhline(y=cm.shape[1], color='k',linewidth=2)\n",
    "  ax.axvline(x=0, color='k',linewidth=1)\n",
    "  ax.axvline(x=cm.shape[0], color='k',linewidth=2)\n",
    " \n",
    "  ax.set_xlabel('Predicted label', fontsize=12)\n",
    "  ax.set_ylabel('True label', fontsize=12)"
   ]
  },
  {
   "cell_type": "code",
   "execution_count": 39,
   "metadata": {
    "colab": {
     "base_uri": "https://localhost:8080/",
     "height": 373
    },
    "executionInfo": {
     "elapsed": 10274157,
     "status": "ok",
     "timestamp": 1605930202231,
     "user": {
      "displayName": "Siddhartha Bingi",
      "photoUrl": "https://lh3.googleusercontent.com/a-/AOh14GiA0XDlqNyW5kwp3cyxq8sCjIi1gmbOx9-sCw225A=s64",
      "userId": "12222030431833942702"
     },
     "user_tz": 360
    },
    "id": "0r4kzZzAWvlW",
    "outputId": "7d7b11ae-f6e2-4290-e5d3-d384f387000e"
   },
   "outputs": [
    {
     "data": {
      "image/png": "[encoded data removed]",
      "text/plain": [
       "<Figure size 432x360 with 2 Axes>"
      ]
     },
     "metadata": {
      "needs_background": "light",
      "tags": []
     },
     "output_type": "display_data"
    }
   ],
   "source": [
    "plot_confusion_matrix(y_test,predictions)"
   ]
  },
  {
   "cell_type": "code",
   "execution_count": 39,
   "metadata": {
    "executionInfo": {
     "elapsed": 10274155,
     "status": "ok",
     "timestamp": 1605930202232,
     "user": {
      "displayName": "Siddhartha Bingi",
      "photoUrl": "https://lh3.googleusercontent.com/a-/AOh14GiA0XDlqNyW5kwp3cyxq8sCjIi1gmbOx9-sCw225A=s64",
      "userId": "12222030431833942702"
     },
     "user_tz": 360
    },
    "id": "tAV-Wn13dyTx"
   },
   "outputs": [],
   "source": []
  }
 ],
 "metadata": {
  "accelerator": "GPU",
  "colab": {
   "collapsed_sections": [],
   "machine_shape": "hm",
   "name": "HW5_q2_finetuned_glove_embed.ipynb",
   "provenance": []
  },
  "kernelspec": {
   "display_name": "Python 3",
   "language": "python",
   "name": "python3"
  },
  "language_info": {
   "codemirror_mode": {
    "name": "ipython",
    "version": 3
   },
   "file_extension": ".py",
   "mimetype": "text/x-python",
   "name": "python",
   "nbconvert_exporter": "python",
   "pygments_lexer": "ipython3",
   "version": "3.8.3"
  }
 },
 "nbformat": 4,
 "nbformat_minor": 1
}
