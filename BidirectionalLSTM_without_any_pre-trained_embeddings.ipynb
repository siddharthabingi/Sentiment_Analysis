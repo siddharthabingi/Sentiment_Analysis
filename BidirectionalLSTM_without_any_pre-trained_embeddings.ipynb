{
 "cells": [
  {
   "cell_type": "markdown",
   "metadata": {},
   "source": [
    "# Task 2 (5 Points): Sentiment Analysis (Part 3)\n",
    "\n",
    "#### We will use ‘The 20 Newsgroups dataset’. The code to download data using sk-learn is provided in attached notebook (task2_data.ipynb). Report the accuracy on test data set for following models: "
   ]
  },
  {
   "cell_type": "markdown",
   "metadata": {},
   "source": [
    "# Part 1\n",
    "## Without any pre-trained embeddings"
   ]
  },
  {
   "cell_type": "markdown",
   "metadata": {
    "id": "guw6ZNtaswKc"
   },
   "source": [
    "## Loading Dataset\n",
    "\n",
    "We will use The 20 Newsgroups dataset \n",
    "Dataset [homepage](http://qwone.com/~jason/20Newsgroups/): \n",
    "\n",
    "Scikit-learn includes some nice helper functions for retrieving the 20 Newsgroups dataset-- https://scikit-learn.org/stable/modules/generated/sklearn.datasets.fetch_20newsgroups.html. We'll use them below to retrieve the dataset.\n",
    "\n",
    "Also look at results fron non- neural net models here : https://scikit-learn.org/stable/auto_examples/text/plot_document_classification_20newsgroups.html#sphx-glr-auto-examples-text-plot-document-classification-20newsgroups-py\n",
    "\n"
   ]
  },
  {
   "cell_type": "code",
   "execution_count": 1,
   "metadata": {
    "colab": {
     "base_uri": "https://localhost:8080/"
    },
    "id": "tJcfVLtQ_BHk",
    "outputId": "c8bff718-4df3-4b0d-aa62-f4d6aea5cbcb"
   },
   "outputs": [
    {
     "name": "stdout",
     "output_type": "stream",
     "text": [
      "Drive already mounted at /content/gdrive; to attempt to forcibly remount, call drive.mount(\"/content/gdrive\", force_remount=True).\n"
     ]
    }
   ],
   "source": [
    "from google.colab import drive\n",
    "drive.mount('/content/gdrive')"
   ]
  },
  {
   "cell_type": "code",
   "execution_count": 2,
   "metadata": {
    "id": "QXScUokPqyPx"
   },
   "outputs": [],
   "source": [
    "from sklearn.datasets import fetch_20newsgroups\n",
    "\n",
    "train = fetch_20newsgroups(subset='train',\n",
    "                           remove=('headers', 'footers', 'quotes'))\n",
    "\n",
    "test = fetch_20newsgroups(subset='test',\n",
    "                           remove=('headers', 'footers', 'quotes'))"
   ]
  },
  {
   "cell_type": "code",
   "execution_count": 3,
   "metadata": {
    "id": "R5sJTwM6rC9v"
   },
   "outputs": [],
   "source": [
    "from pathlib import Path\n",
    "folder=Path('/content/gdrive/My Drive/ColabNotebooks')"
   ]
  },
  {
   "cell_type": "code",
   "execution_count": 4,
   "metadata": {
    "colab": {
     "base_uri": "https://localhost:8080/"
    },
    "id": "3NS-Vxi0Pkt-",
    "outputId": "da7844e4-cdbd-4bef-b84f-7939e153ff4d"
   },
   "outputs": [
    {
     "name": "stdout",
     "output_type": "stream",
     "text": [
      "I was wondering if anyone out there could enlighten me on this car I saw\n",
      "the other day. It was a 2-door sports car, looked to be from the late 60s/\n",
      "early 70s. It was called a Bricklin. The doors were really small. In addition,\n",
      "the front bumper was separate from the rest of the body. This is \n",
      "all I know. If anyone can tellme a model name, engine specs, years\n",
      "of production, where this car is made, history, or whatever info you\n",
      "have on this funky looking car, please e-mail.\n"
     ]
    }
   ],
   "source": [
    "print(train.data[0])"
   ]
  },
  {
   "cell_type": "code",
   "execution_count": 5,
   "metadata": {
    "colab": {
     "base_uri": "https://localhost:8080/"
    },
    "id": "jV2eF-BiPrLZ",
    "outputId": "8a5db1e3-4875-48d5-9286-5f4e799acf24"
   },
   "outputs": [
    {
     "name": "stdout",
     "output_type": "stream",
     "text": [
      "7\n"
     ]
    }
   ],
   "source": [
    "print(train.target[0])"
   ]
  },
  {
   "cell_type": "code",
   "execution_count": 6,
   "metadata": {
    "colab": {
     "base_uri": "https://localhost:8080/"
    },
    "id": "-IqtsBCEPx-E",
    "outputId": "a52e959f-c420-4516-a19c-e21b3cb82de8"
   },
   "outputs": [
    {
     "data": {
      "text/plain": [
       "['alt.atheism',\n",
       " 'comp.graphics',\n",
       " 'comp.os.ms-windows.misc',\n",
       " 'comp.sys.ibm.pc.hardware',\n",
       " 'comp.sys.mac.hardware',\n",
       " 'comp.windows.x',\n",
       " 'misc.forsale',\n",
       " 'rec.autos',\n",
       " 'rec.motorcycles',\n",
       " 'rec.sport.baseball',\n",
       " 'rec.sport.hockey',\n",
       " 'sci.crypt',\n",
       " 'sci.electronics',\n",
       " 'sci.med',\n",
       " 'sci.space',\n",
       " 'soc.religion.christian',\n",
       " 'talk.politics.guns',\n",
       " 'talk.politics.mideast',\n",
       " 'talk.politics.misc',\n",
       " 'talk.religion.misc']"
      ]
     },
     "execution_count": 6,
     "metadata": {
      "tags": []
     },
     "output_type": "execute_result"
    }
   ],
   "source": [
    "train.target_names"
   ]
  },
  {
   "cell_type": "code",
   "execution_count": 7,
   "metadata": {
    "colab": {
     "base_uri": "https://localhost:8080/"
    },
    "id": "u3v7ZzA2QHv6",
    "outputId": "e83f220a-adf1-4588-e6a4-87b650b15c73"
   },
   "outputs": [
    {
     "data": {
      "text/plain": [
       "20"
      ]
     },
     "execution_count": 7,
     "metadata": {
      "tags": []
     },
     "output_type": "execute_result"
    }
   ],
   "source": [
    "len(train.target_names)"
   ]
  },
  {
   "cell_type": "code",
   "execution_count": 8,
   "metadata": {
    "colab": {
     "base_uri": "https://localhost:8080/",
     "height": 320
    },
    "id": "0NiOeWmbRV_G",
    "outputId": "c2eac3c1-fe2d-4a34-9623-5077f9eb0ffc"
   },
   "outputs": [
    {
     "name": "stderr",
     "output_type": "stream",
     "text": [
      "/usr/local/lib/python3.6/dist-packages/seaborn/_decorators.py:43: FutureWarning: Pass the following variable as a keyword arg: x. From version 0.12, the only valid positional argument will be `data`, and passing other arguments without an explicit keyword will result in an error or misinterpretation.\n",
      "  FutureWarning\n"
     ]
    },
    {
     "data": {
      "image/png": "[encoded data removed]",
      "text/plain": [
       "<Figure size 432x288 with 1 Axes>"
      ]
     },
     "metadata": {
      "needs_background": "light",
      "tags": []
     },
     "output_type": "display_data"
    }
   ],
   "source": [
    "import seaborn as sns\n",
    "\n",
    "# Plot the number of tokens of each length.\n",
    "sns.countplot(train.target);"
   ]
  },
  {
   "cell_type": "code",
   "execution_count": 9,
   "metadata": {
    "id": "F5dGraH8-0Tk"
   },
   "outputs": [],
   "source": [
    "import torch\n",
    "import torch.nn as nn\n",
    "\n",
    "import numpy as np\n",
    "import matplotlib.pyplot as plt\n",
    "import seaborn as sns\n",
    "from sklearn.metrics import confusion_matrix\n",
    "from datetime import datetime\n",
    "from pathlib import Path\n",
    "import pandas as pd\n",
    "\n",
    "import torchtext.data as ttd"
   ]
  },
  {
   "cell_type": "code",
   "execution_count": 10,
   "metadata": {
    "id": "MPCyKpzk-0Tl"
   },
   "outputs": [],
   "source": [
    "df_train = pd.DataFrame({'data':train.data, 'labels':train.target})\n",
    "df_test = pd.DataFrame({'data':test.data, 'labels':test.target})"
   ]
  },
  {
   "cell_type": "code",
   "execution_count": 11,
   "metadata": {
    "colab": {
     "base_uri": "https://localhost:8080/"
    },
    "id": "sa19gvzj-0Tl",
    "outputId": "44d20edb-e36f-4d5b-9e00-0745eb17fde9"
   },
   "outputs": [
    {
     "data": {
      "text/plain": [
       "data      0\n",
       "labels    0\n",
       "dtype: int64"
      ]
     },
     "execution_count": 11,
     "metadata": {
      "tags": []
     },
     "output_type": "execute_result"
    }
   ],
   "source": [
    "df_train.isna().sum(axis=0)"
   ]
  },
  {
   "cell_type": "code",
   "execution_count": 12,
   "metadata": {
    "colab": {
     "base_uri": "https://localhost:8080/",
     "height": 199
    },
    "id": "OhgjfodP-0Tl",
    "outputId": "a007e8ef-5458-4b96-8c0f-6a6273d7f737"
   },
   "outputs": [
    {
     "data": {
      "text/html": [
       "<div>\n",
       "<style scoped>\n",
       "    .dataframe tbody tr th:only-of-type {\n",
       "        vertical-align: middle;\n",
       "    }\n",
       "\n",
       "    .dataframe tbody tr th {\n",
       "        vertical-align: top;\n",
       "    }\n",
       "\n",
       "    .dataframe thead th {\n",
       "        text-align: right;\n",
       "    }\n",
       "</style>\n",
       "<table border=\"1\" class=\"dataframe\">\n",
       "  <thead>\n",
       "    <tr style=\"text-align: right;\">\n",
       "      <th></th>\n",
       "      <th>data</th>\n",
       "      <th>labels</th>\n",
       "    </tr>\n",
       "  </thead>\n",
       "  <tbody>\n",
       "    <tr>\n",
       "      <th>0</th>\n",
       "      <td>I was wondering if anyone out there could enli...</td>\n",
       "      <td>7</td>\n",
       "    </tr>\n",
       "    <tr>\n",
       "      <th>1</th>\n",
       "      <td>A fair number of brave souls who upgraded thei...</td>\n",
       "      <td>4</td>\n",
       "    </tr>\n",
       "    <tr>\n",
       "      <th>2</th>\n",
       "      <td>well folks, my mac plus finally gave up the gh...</td>\n",
       "      <td>4</td>\n",
       "    </tr>\n",
       "    <tr>\n",
       "      <th>3</th>\n",
       "      <td>\\nDo you have Weitek's address/phone number?  ...</td>\n",
       "      <td>1</td>\n",
       "    </tr>\n",
       "    <tr>\n",
       "      <th>4</th>\n",
       "      <td>From article &lt;C5owCB.n3p@world.std.com&gt;, by to...</td>\n",
       "      <td>14</td>\n",
       "    </tr>\n",
       "  </tbody>\n",
       "</table>\n",
       "</div>"
      ],
      "text/plain": [
       "                                                data  labels\n",
       "0  I was wondering if anyone out there could enli...       7\n",
       "1  A fair number of brave souls who upgraded thei...       4\n",
       "2  well folks, my mac plus finally gave up the gh...       4\n",
       "3  \\nDo you have Weitek's address/phone number?  ...       1\n",
       "4  From article <C5owCB.n3p@world.std.com>, by to...      14"
      ]
     },
     "execution_count": 12,
     "metadata": {
      "tags": []
     },
     "output_type": "execute_result"
    }
   ],
   "source": [
    "df_train.head()"
   ]
  },
  {
   "cell_type": "code",
   "execution_count": 13,
   "metadata": {
    "colab": {
     "base_uri": "https://localhost:8080/",
     "height": 199
    },
    "id": "n28UKajG-0Tl",
    "outputId": "bf11ddaa-3d1b-433b-920f-cb263be8f2fc"
   },
   "outputs": [
    {
     "data": {
      "text/html": [
       "<div>\n",
       "<style scoped>\n",
       "    .dataframe tbody tr th:only-of-type {\n",
       "        vertical-align: middle;\n",
       "    }\n",
       "\n",
       "    .dataframe tbody tr th {\n",
       "        vertical-align: top;\n",
       "    }\n",
       "\n",
       "    .dataframe thead th {\n",
       "        text-align: right;\n",
       "    }\n",
       "</style>\n",
       "<table border=\"1\" class=\"dataframe\">\n",
       "  <thead>\n",
       "    <tr style=\"text-align: right;\">\n",
       "      <th></th>\n",
       "      <th>data</th>\n",
       "      <th>labels</th>\n",
       "    </tr>\n",
       "  </thead>\n",
       "  <tbody>\n",
       "    <tr>\n",
       "      <th>0</th>\n",
       "      <td>I am a little confused on all of the models of...</td>\n",
       "      <td>7</td>\n",
       "    </tr>\n",
       "    <tr>\n",
       "      <th>1</th>\n",
       "      <td>I'm not familiar at all with the format of the...</td>\n",
       "      <td>5</td>\n",
       "    </tr>\n",
       "    <tr>\n",
       "      <th>2</th>\n",
       "      <td>\\nIn a word, yes.\\n</td>\n",
       "      <td>0</td>\n",
       "    </tr>\n",
       "    <tr>\n",
       "      <th>3</th>\n",
       "      <td>\\nThey were attacking the Iraqis to drive them...</td>\n",
       "      <td>17</td>\n",
       "    </tr>\n",
       "    <tr>\n",
       "      <th>4</th>\n",
       "      <td>\\nI've just spent two solid months arguing tha...</td>\n",
       "      <td>19</td>\n",
       "    </tr>\n",
       "  </tbody>\n",
       "</table>\n",
       "</div>"
      ],
      "text/plain": [
       "                                                data  labels\n",
       "0  I am a little confused on all of the models of...       7\n",
       "1  I'm not familiar at all with the format of the...       5\n",
       "2                                \\nIn a word, yes.\\n       0\n",
       "3  \\nThey were attacking the Iraqis to drive them...      17\n",
       "4  \\nI've just spent two solid months arguing tha...      19"
      ]
     },
     "execution_count": 13,
     "metadata": {
      "tags": []
     },
     "output_type": "execute_result"
    }
   ],
   "source": [
    "df_test.head()"
   ]
  },
  {
   "cell_type": "code",
   "execution_count": 14,
   "metadata": {
    "colab": {
     "base_uri": "https://localhost:8080/"
    },
    "id": "4hPwvLMK-0Tl",
    "outputId": "ede939aa-317b-43b3-ef20-f0907ba735ae"
   },
   "outputs": [
    {
     "data": {
      "text/plain": [
       "(10    600\n",
       " 15    599\n",
       " 8     598\n",
       " 9     597\n",
       " 11    595\n",
       " 13    594\n",
       " 7     594\n",
       " 14    593\n",
       " 5     593\n",
       " 12    591\n",
       " 2     591\n",
       " 3     590\n",
       " 6     585\n",
       " 1     584\n",
       " 4     578\n",
       " 17    564\n",
       " 16    546\n",
       " 0     480\n",
       " 18    465\n",
       " 19    377\n",
       " Name: labels, dtype: int64, 10    399\n",
       " 8     398\n",
       " 15    398\n",
       " 9     397\n",
       " 11    396\n",
       " 7     396\n",
       " 13    396\n",
       " 5     395\n",
       " 14    394\n",
       " 2     394\n",
       " 12    393\n",
       " 3     392\n",
       " 6     390\n",
       " 1     389\n",
       " 4     385\n",
       " 17    376\n",
       " 16    364\n",
       " 0     319\n",
       " 18    310\n",
       " 19    251\n",
       " Name: labels, dtype: int64)"
      ]
     },
     "execution_count": 14,
     "metadata": {
      "tags": []
     },
     "output_type": "execute_result"
    }
   ],
   "source": [
    "df_train['labels'].value_counts(), df_test['labels'].value_counts()"
   ]
  },
  {
   "cell_type": "code",
   "execution_count": 15,
   "metadata": {
    "id": "b45ZWYP7-0Tl"
   },
   "outputs": [],
   "source": [
    "df_train=df_train.sample(frac=1)"
   ]
  },
  {
   "cell_type": "code",
   "execution_count": 16,
   "metadata": {
    "colab": {
     "base_uri": "https://localhost:8080/",
     "height": 199
    },
    "id": "ik041TBm-0Tl",
    "outputId": "a9c651aa-c18a-4861-94a3-c2d346d02195"
   },
   "outputs": [
    {
     "data": {
      "text/html": [
       "<div>\n",
       "<style scoped>\n",
       "    .dataframe tbody tr th:only-of-type {\n",
       "        vertical-align: middle;\n",
       "    }\n",
       "\n",
       "    .dataframe tbody tr th {\n",
       "        vertical-align: top;\n",
       "    }\n",
       "\n",
       "    .dataframe thead th {\n",
       "        text-align: right;\n",
       "    }\n",
       "</style>\n",
       "<table border=\"1\" class=\"dataframe\">\n",
       "  <thead>\n",
       "    <tr style=\"text-align: right;\">\n",
       "      <th></th>\n",
       "      <th>data</th>\n",
       "      <th>labels</th>\n",
       "    </tr>\n",
       "  </thead>\n",
       "  <tbody>\n",
       "    <tr>\n",
       "      <th>3964</th>\n",
       "      <td>\\n       The relevance is that if you've got x...</td>\n",
       "      <td>16</td>\n",
       "    </tr>\n",
       "    <tr>\n",
       "      <th>2258</th>\n",
       "      <td>I own a Mac IIsi and am considering upgrades (...</td>\n",
       "      <td>4</td>\n",
       "    </tr>\n",
       "    <tr>\n",
       "      <th>1344</th>\n",
       "      <td>\\nThis is definitely the wrong newsgroup for t...</td>\n",
       "      <td>12</td>\n",
       "    </tr>\n",
       "    <tr>\n",
       "      <th>2328</th>\n",
       "      <td>: I\\n: |&gt; Jim,\\n: |&gt; \\n: |&gt; I always thought t...</td>\n",
       "      <td>0</td>\n",
       "    </tr>\n",
       "    <tr>\n",
       "      <th>8011</th>\n",
       "      <td></td>\n",
       "      <td>7</td>\n",
       "    </tr>\n",
       "  </tbody>\n",
       "</table>\n",
       "</div>"
      ],
      "text/plain": [
       "                                                   data  labels\n",
       "3964  \\n       The relevance is that if you've got x...      16\n",
       "2258  I own a Mac IIsi and am considering upgrades (...       4\n",
       "1344  \\nThis is definitely the wrong newsgroup for t...      12\n",
       "2328  : I\\n: |> Jim,\\n: |> \\n: |> I always thought t...       0\n",
       "8011                                                          7"
      ]
     },
     "execution_count": 16,
     "metadata": {
      "tags": []
     },
     "output_type": "execute_result"
    }
   ],
   "source": [
    "df_train.head()"
   ]
  },
  {
   "cell_type": "code",
   "execution_count": 17,
   "metadata": {
    "id": "hM_z-Gv5-0Tl"
   },
   "outputs": [],
   "source": [
    "df_train.to_csv(folder / 'newsgroup20_train.csv', index=False)\n",
    "df_test.to_csv(folder / 'newsgroup20_test.csv', index=False)"
   ]
  },
  {
   "cell_type": "code",
   "execution_count": 18,
   "metadata": {
    "colab": {
     "base_uri": "https://localhost:8080/"
    },
    "id": "zGIrnbqe_yiN",
    "outputId": "fcde31a7-591a-47a3-c3cf-0b43ef897409"
   },
   "outputs": [
    {
     "data": {
      "text/plain": [
       "131072"
      ]
     },
     "execution_count": 18,
     "metadata": {
      "tags": []
     },
     "output_type": "execute_result"
    }
   ],
   "source": [
    "import sys\n",
    "import csv\n",
    "csv.field_size_limit(sys.maxsize)"
   ]
  },
  {
   "cell_type": "code",
   "execution_count": 19,
   "metadata": {
    "id": "qOW0aVY7-0Tl"
   },
   "outputs": [],
   "source": [
    "TEXT = ttd.Field(\n",
    "    sequential=True,\n",
    "    batch_first=True,\n",
    "    lower=False,\n",
    "    tokenize='spacy',\n",
    "    pad_first=True)\n",
    "\n",
    "LABEL = ttd.LabelField()\n",
    "#LABEL = ttd.Field(sequential=False, use_vocab=False, is_target=True)\n",
    "\n",
    "dataset = ttd.TabularDataset(\n",
    "    path= folder / 'newsgroup20_train.csv',\n",
    "    format='csv',\n",
    "    skip_header=True,\n",
    "    fields=[('data', TEXT), ('label', LABEL)]\n",
    ")\n",
    "\n",
    "test_dataset = ttd.TabularDataset(\n",
    "    path= folder / 'newsgroup20_test.csv',\n",
    "    format='csv',\n",
    "    skip_header=True,\n",
    "    fields=[('data', TEXT), ('label', LABEL)]\n",
    ")"
   ]
  },
  {
   "cell_type": "code",
   "execution_count": 20,
   "metadata": {
    "colab": {
     "base_uri": "https://localhost:8080/"
    },
    "id": "g3jfDljO-0Tl",
    "outputId": "5cf76868-5f30-4a99-9b1a-ac7cd5c14da8"
   },
   "outputs": [
    {
     "name": "stdout",
     "output_type": "stream",
     "text": [
      "['\\n       ', 'The', 'relevance', 'is', 'that', 'if', 'you', \"'ve\", 'got', 'x', 'homicides', 'and', 'reduce', '\\n', 'the', 'number', 'of', 'gun', 'homicides', 'in', 'that', 'group', ',', 'but', 'x', 'does', \"n't\", 'decrease', '\\n', 'by', 'a', 'significant', 'amount', ',', 'have', 'you', 'made', 'an', 'improvement', ',', 'and', 'is', 'that', '\\n', 'improvement', 'worth', 'what', 'you', \"'ve\", 'paid', '?', '\\n\\n\\n       ', 'If', 'a', 'baseball', 'bat', 'is', 'a', 'tenth', 'as', 'likely', 'to', 'kill', 'a', 'victim', 'as', 'a', 'gun', ',', '\\n', 'is', 'that', 'any', 'comfort', 'to', 'that', 'tenth', '?', '\\n\\n\\n       ', 'I', \"'ve\", 'faced', 'a', 'knife', '.', ' ', 'And', 'I', 'was', 'damn', 'annoyed', 'I', 'did', \"n't\", '*', 'have', '*', '\\n', 'a', 'gun', '.', ' ', 'All', 'the', 'statistics', 'in', 'the', 'world', 'did', \"n't\", 'change', 'the', 'fact', 'that', '\\n', '*', 'he', '*', 'was', 'interested', 'in', 'cutting', '*', 'me', '*', '.', '\\n\\n\\n       ', '\"', 'Anyone', 'trained', 'in', 'self', '-', 'defense', '.', '\"', '\\n\\n       ', 'Unarmed', 'self', '-', 'defense', 'is', \"n't\", 'for', 'everyone', '.', ' ', 'What', \"'s\", 'more', ',', 'it', 'requires', '\\n', 'substantially', 'more', 'training', 'to', 'be', 'safe', 'and', 'effective', 'than', 'a', 'firearm', '.', '\\n', 'It', 'requires', 'physical', 'proximity', 'and', 'thus', 'a', 'greater', 'threat', 'to', 'the', 'victim', ',', '\\n', 'which', 'is', 'a', 'primary', 'problem', 'with', 'stun', 'guns', '.', ' ', 'You', 'have', 'to', 'actually', 'touch', '\\n', 'your', 'assailant', '.', ' ', 'Unless', 'you', \"'re\", '*', 'very', '*', 'good', ',', 'a', 'large', ',', 'stronger', 'assailant', '\\n', 'can', 'simply', 'ignore', 'your', 'blows', 'long', 'enough', 'to', 'incapacitate', 'you', '.']\n"
     ]
    }
   ],
   "source": [
    "print(dataset.examples[0].data)"
   ]
  },
  {
   "cell_type": "code",
   "execution_count": 21,
   "metadata": {
    "colab": {
     "base_uri": "https://localhost:8080/"
    },
    "id": "blVDQtmw-0Tl",
    "outputId": "adcd6c27-089c-41d8-8996-305e269feb50"
   },
   "outputs": [
    {
     "name": "stdout",
     "output_type": "stream",
     "text": [
      "['I', 'am', 'a', 'little', 'confused', 'on', 'all', 'of', 'the', 'models', 'of', 'the', '88', '-', '89', 'bonnevilles', '.', '\\n', 'I', 'have', 'heard', 'of', 'the', 'LE', 'SE', 'LSE', 'SSE', 'SSEI', '.', 'Could', 'someone', 'tell', 'me', 'the', '\\n', 'differences', 'are', 'far', 'as', 'features', 'or', 'performance', '.', 'I', 'am', 'also', 'curious', 'to', '\\n', 'know', 'what', 'the', 'book', 'value', 'is', 'for', 'prefereably', 'the', '89', 'model', '.', 'And', 'how', 'much', '\\n', 'less', 'than', 'book', 'value', 'can', 'you', 'usually', 'get', 'them', 'for', '.', 'In', 'other', 'words', 'how', '\\n', 'much', 'are', 'they', 'in', 'demand', 'this', 'time', 'of', 'year', '.', 'I', 'have', 'heard', 'that', 'the', 'mid', '-', 'spring', '\\n', 'early', 'summer', 'is', 'the', 'best', 'time', 'to', 'buy', '.']\n"
     ]
    }
   ],
   "source": [
    "print(test_dataset.examples[0].data)"
   ]
  },
  {
   "cell_type": "code",
   "execution_count": 22,
   "metadata": {
    "id": "nVRQ1TtQ-0Tl"
   },
   "outputs": [],
   "source": [
    "import random\n",
    "SEED=10\n",
    "train_dataset, valid_dataset = dataset.split(split_ratio=0.7,random_state = random.seed(SEED)) # default is 0.7"
   ]
  },
  {
   "cell_type": "code",
   "execution_count": 23,
   "metadata": {
    "colab": {
     "base_uri": "https://localhost:8080/"
    },
    "id": "NqUUbWkt-0Tl",
    "outputId": "8cc6da37-7ac1-400d-f4a0-1d5ddcf321fa"
   },
   "outputs": [
    {
     "name": "stdout",
     "output_type": "stream",
     "text": [
      "Number of training examples: 7920\n",
      "Number of validation examples: 3394\n",
      "Number of testing examples: 7532\n"
     ]
    }
   ],
   "source": [
    "print(f'Number of training examples: {len(train_dataset)}')\n",
    "print(f'Number of validation examples: {len(valid_dataset)}')\n",
    "print(f'Number of testing examples: {len(test_dataset)}')"
   ]
  },
  {
   "cell_type": "code",
   "execution_count": 24,
   "metadata": {
    "id": "QSV4S-p7-0Tl"
   },
   "outputs": [],
   "source": [
    "TEXT.build_vocab(train_dataset)\n",
    "LABEL.build_vocab(train_dataset)"
   ]
  },
  {
   "cell_type": "code",
   "execution_count": 25,
   "metadata": {
    "id": "nawZVDk2-0Tl"
   },
   "outputs": [],
   "source": [
    "vocab_text = TEXT.vocab"
   ]
  },
  {
   "cell_type": "code",
   "execution_count": 28,
   "metadata": {
    "id": "mxZApMRz-0Tl"
   },
   "outputs": [],
   "source": [
    "vocab_label = LABEL.vocab"
   ]
  },
  {
   "cell_type": "code",
   "execution_count": 31,
   "metadata": {
    "colab": {
     "base_uri": "https://localhost:8080/"
    },
    "id": "Bmm-9F_W-0Tm",
    "outputId": "39a4eba5-a146-4cc1-ee33-a220abc0775d"
   },
   "outputs": [
    {
     "name": "stdout",
     "output_type": "stream",
     "text": [
      "cuda:0\n"
     ]
    }
   ],
   "source": [
    "device = torch.device(\"cuda:0\" if torch.cuda.is_available() else \"cpu\")\n",
    "#device = 'cpu'\n",
    "print(device)"
   ]
  },
  {
   "cell_type": "code",
   "execution_count": 32,
   "metadata": {
    "id": "TXo2fmFe-0Tm"
   },
   "outputs": [],
   "source": [
    "train_iter, valid_iter, test_iter = ttd.BucketIterator.splits((train_dataset,valid_dataset,test_dataset), \n",
    "                              sort_key=lambda x: len(x.data),\n",
    "                              #sort_key=None,\n",
    "                              batch_sizes=(64,256,256), \n",
    "                              device=device)"
   ]
  },
  {
   "cell_type": "code",
   "execution_count": 33,
   "metadata": {
    "colab": {
     "base_uri": "https://localhost:8080/"
    },
    "id": "8gQEPvNU-0Tm",
    "outputId": "bb6754ac-dc2d-4872-e3e4-b849b8c6e9ac"
   },
   "outputs": [
    {
     "name": "stdout",
     "output_type": "stream",
     "text": [
      "inputs: tensor([[    1,     1,     1,  ...,     4,    17,    85],\n",
      "        [    1,     1,     1,  ...,  2935,   538,     4],\n",
      "        [    1,     1,     1,  ...,  1298,  2626,    58],\n",
      "        ...,\n",
      "        [    1,     1,     1,  ...,   102,   158,     4],\n",
      "        [    1,     1,     1,  ...,  8067, 42002,     4],\n",
      "        [    1,     1,     1,  ...,   657,   315,     4]], device='cuda:0') torch.Size([64, 2165])\n",
      "targets: tensor([16, 10, 11, 18,  2, 15, 15,  9, 17, 11,  5, 15, 18, 12,  9,  4, 10, 10,\n",
      "        12, 13,  4,  4, 12, 16,  0, 12, 15,  0,  2, 15,  7,  9,  2,  3,  5,  1,\n",
      "         5, 12, 15, 13,  4,  1,  2, 15,  3, 13, 17,  1, 19, 11, 19,  0, 15, 14,\n",
      "         6,  3, 19, 17, 12,  9, 18, 11,  8,  1], device='cuda:0') shape: torch.Size([64])\n"
     ]
    }
   ],
   "source": [
    "for batch in train_iter:\n",
    "  print(\"inputs:\", batch.data, batch.data.shape)\n",
    "  print(\"targets:\",batch.label, \"shape:\", batch.label.shape)\n",
    "  break"
   ]
  },
  {
   "cell_type": "code",
   "execution_count": 34,
   "metadata": {
    "colab": {
     "base_uri": "https://localhost:8080/"
    },
    "id": "08-lquI1-0Tm",
    "outputId": "551da648-e569-4680-b73b-cff740f77f7d"
   },
   "outputs": [
    {
     "name": "stdout",
     "output_type": "stream",
     "text": [
      "inputs: tensor([[    0,  8354,     0,  ...,  3189,   380,   469],\n",
      "        [   88,   133,   252,  ..., 54202,    18,     4],\n",
      "        [   17,    11,   402,  ...,    33,  8811,     4],\n",
      "        ...,\n",
      "        [    1,     1,     1,  ...,     1,     1,     1],\n",
      "        [    1,     1,     1,  ...,     1,     1,     1],\n",
      "        [    1,     1,     1,  ...,     1,     1,     1]], device='cuda:0') torch.Size([256, 21])\n",
      "targets: tensor([12, 15,  3, 13,  0,  1, 11,  3,  4,  6,  4, 13, 10,  7,  1,  4, 18, 14,\n",
      "        11, 17,  0, 17, 18, 12,  8,  0,  7,  4,  0, 14,  4,  4,  6,  7,  1,  1,\n",
      "        11,  4, 19, 14,  0,  9,  9,  5,  7, 11,  3,  1, 19,  1, 15, 17, 11,  5,\n",
      "         1,  9, 13, 18,  5,  1,  8, 12, 18, 15, 14,  1,  8,  3, 12,  1, 16,  9,\n",
      "         5,  0,  0,  5,  3, 11,  8, 11,  1, 11, 13, 13,  3,  3,  1, 10, 13, 13,\n",
      "         5, 12,  5,  0,  5,  4, 11, 12, 10,  6, 19, 14,  9,  5, 15,  9, 11, 10,\n",
      "        17,  7,  5,  9,  1,  1, 13, 10, 12, 16, 11,  6, 15,  4,  3, 12,  9,  6,\n",
      "         9, 11, 16,  5, 10,  2, 14, 14, 14,  4, 11,  6,  1,  4, 10, 10, 14, 10,\n",
      "         8,  1,  2, 11,  1, 11, 16, 16, 12, 18, 11, 12,  0, 10,  9,  6, 11,  7,\n",
      "         1,  9, 16,  5,  1,  0,  1, 13,  0, 17,  6,  2, 12,  9, 17,  0, 10, 19,\n",
      "        13,  0,  7,  8,  5, 16,  0, 19,  5,  2,  1, 18,  9, 11,  5,  0, 15,  7,\n",
      "         1, 16, 13,  3, 13, 19,  1,  2, 19,  5,  9,  3,  1, 11,  4,  9, 15,  2,\n",
      "         1, 12, 14, 13, 15,  5, 14, 14,  5,  1, 16, 18, 11, 10,  8, 13,  2,  2,\n",
      "        16,  9, 15, 10,  0,  5,  8,  9,  5, 10, 14, 13,  9, 16, 11,  7, 17,  3,\n",
      "         2,  5, 14,  8], device='cuda:0') shape: torch.Size([256])\n"
     ]
    }
   ],
   "source": [
    "for batch in valid_iter:\n",
    "  print(\"inputs:\", batch.data, batch.data.shape)\n",
    "  print(\"targets:\",batch.label, \"shape:\", batch.label.shape)\n",
    "  break"
   ]
  },
  {
   "cell_type": "code",
   "execution_count": 35,
   "metadata": {
    "colab": {
     "base_uri": "https://localhost:8080/"
    },
    "id": "RkrCk3hZ-0Tm",
    "outputId": "35d06ca0-7d5d-4dcf-e47d-df1d2147f003"
   },
   "outputs": [
    {
     "name": "stdout",
     "output_type": "stream",
     "text": [
      "inputs: tensor([[    2, 33060, 26244,    87],\n",
      "        [ 1108, 11011, 92137,    26],\n",
      "        [32138, 15944,     2,     0],\n",
      "        ...,\n",
      "        [    1,     1,     1,     1],\n",
      "        [    1,     1,     1,     1],\n",
      "        [    1,     1,     1,     1]], device='cuda:0') torch.Size([256, 4])\n",
      "targets: tensor([ 5, 15, 14,  9,  6, 16,  6,  2,  6,  6,  5,  1, 15, 15, 11, 11,  5,  2,\n",
      "         6,  5,  5, 12, 19,  7, 10,  1,  6, 19,  4, 12, 17,  4, 17,  6,  1,  3,\n",
      "        11,  3, 16,  6,  6,  1, 19, 17, 13, 16, 10, 19, 14,  9, 15,  1,  5,  1,\n",
      "         8, 14, 10, 13, 14, 13, 14,  7,  2,  2, 15,  4,  9,  3, 14,  7, 10,  8,\n",
      "         1, 16, 10,  6, 19,  4,  7, 16, 12,  2,  7, 16, 10,  2,  9,  9, 11,  4,\n",
      "        13, 10,  3,  5, 13, 14,  5, 15, 18, 11, 18,  1,  4,  1, 11, 16,  3, 14,\n",
      "        12,  5,  8,  1, 13,  5, 10,  3, 17, 12,  4, 10,  1, 11,  0,  1,  5,  2,\n",
      "        13, 14,  4,  9,  8,  0, 10, 11, 11, 11, 14,  7,  8,  8, 15, 13, 10,  4,\n",
      "        14, 17, 12, 11, 18, 10,  0,  9, 13,  4, 14, 18, 19,  5, 10,  5,  5, 19,\n",
      "        10, 11, 19,  8,  8,  4,  3, 17, 11, 15,  0, 13,  7,  5,  6,  5, 11,  9,\n",
      "        15, 10, 14, 15,  7,  5,  2,  5,  2,  2,  1, 12, 15, 14,  0,  5,  5,  4,\n",
      "         7, 18, 12,  8,  4,  1,  8, 15, 18,  4, 19, 13, 18, 17, 12,  6,  2,  2,\n",
      "         5, 16, 14,  7,  4,  2, 10, 14, 15,  1,  1,  2, 13,  3,  4, 13, 17,  5,\n",
      "         5,  2,  8,  8,  4, 17, 13,  5,  2, 12,  4,  9,  9,  1,  1,  5, 11,  8,\n",
      "        10,  5,  7,  8], device='cuda:0') shape: torch.Size([256])\n"
     ]
    }
   ],
   "source": [
    "for batch in test_iter:\n",
    "  print(\"inputs:\", batch.data, batch.data.shape)\n",
    "  print(\"targets:\",batch.label, \"shape:\", batch.label.shape)\n",
    "  break"
   ]
  },
  {
   "cell_type": "code",
   "execution_count": 36,
   "metadata": {
    "id": "gGopPmsE-0Tm"
   },
   "outputs": [],
   "source": [
    "# Define the model\n",
    "class RNN(nn.Module):\n",
    "  def __init__(self, n_vocab, embed_dim, n_hidden, n_rnnlayers, n_outputs):\n",
    "    super(RNN, self).__init__()\n",
    "    self.V = n_vocab\n",
    "    self.D = embed_dim\n",
    "    self.M = n_hidden\n",
    "    self.K = n_outputs\n",
    "    self.L = n_rnnlayers\n",
    "\n",
    "    self.embed = nn.Embedding(self.V, self.D)\n",
    "    self.rnn = nn.LSTM(\n",
    "        input_size=self.D,\n",
    "        hidden_size=self.M,\n",
    "        num_layers=self.L,\n",
    "        batch_first=True)\n",
    "    self.fc = nn.Linear(self.M, self.K)\n",
    "  \n",
    "  def forward(self, X):\n",
    "    # initial hidden states\n",
    "    h0 = torch.zeros(self.L, X.size(0), self.M).to(device)\n",
    "    c0 = torch.zeros(self.L, X.size(0), self.M).to(device)\n",
    "\n",
    "    # embedding layer\n",
    "    # turns word indexes into word vectors\n",
    "    out = self.embed(X)\n",
    "\n",
    "    # get RNN unit output\n",
    "    out, _ = self.rnn(out, (h0, c0))\n",
    "\n",
    "    # max pool\n",
    "    out, _ = torch.max(out, 1)\n",
    "\n",
    "    # we only want h(T) at the final time step\n",
    "    out = self.fc(out)\n",
    "    return out"
   ]
  },
  {
   "cell_type": "code",
   "execution_count": 37,
   "metadata": {
    "colab": {
     "base_uri": "https://localhost:8080/"
    },
    "id": "8OK9cvZH-0Tm",
    "outputId": "846b0b95-5c15-4e16-9b52-d9da9f3bce7e"
   },
   "outputs": [
    {
     "data": {
      "text/plain": [
       "RNN(\n",
       "  (embed): Embedding(104458, 300)\n",
       "  (rnn): LSTM(300, 100, batch_first=True)\n",
       "  (fc): Linear(in_features=100, out_features=20, bias=True)\n",
       ")"
      ]
     },
     "execution_count": 37,
     "metadata": {
      "tags": []
     },
     "output_type": "execute_result"
    }
   ],
   "source": [
    "model = RNN(len(vocab_text), 300, 100, 1, 20)\n",
    "model.to(device)"
   ]
  },
  {
   "cell_type": "code",
   "execution_count": 38,
   "metadata": {
    "colab": {
     "base_uri": "https://localhost:8080/"
    },
    "id": "ktalEjS6-0Tm",
    "outputId": "48af03a0-e517-407b-d0a0-930132112d40"
   },
   "outputs": [
    {
     "name": "stdout",
     "output_type": "stream",
     "text": [
      "RNN(\n",
      "  (embed): Embedding(104458, 300)\n",
      "  (rnn): LSTM(300, 100, batch_first=True)\n",
      "  (fc): Linear(in_features=100, out_features=20, bias=True)\n",
      ")\n"
     ]
    }
   ],
   "source": [
    "# Model Summary\n",
    "print(model)"
   ]
  },
  {
   "cell_type": "code",
   "execution_count": 39,
   "metadata": {
    "colab": {
     "base_uri": "https://localhost:8080/"
    },
    "id": "EuCw08T6-0Tm",
    "outputId": "34de4c53-ff77-4cac-aead-19ee49e96672"
   },
   "outputs": [
    {
     "name": "stdout",
     "output_type": "stream",
     "text": [
      "embed.weight torch.Size([104458, 300])\n",
      "rnn.weight_ih_l0 torch.Size([400, 300])\n",
      "rnn.weight_hh_l0 torch.Size([400, 100])\n",
      "rnn.bias_ih_l0 torch.Size([400])\n",
      "rnn.bias_hh_l0 torch.Size([400])\n",
      "fc.weight torch.Size([20, 100])\n",
      "fc.bias torch.Size([20])\n"
     ]
    }
   ],
   "source": [
    "# Model parameters\n",
    "for name, param in model.named_parameters():\n",
    "  print(name, param.shape)"
   ]
  },
  {
   "cell_type": "markdown",
   "metadata": {
    "id": "pl-71rj3-0Tm"
   },
   "source": [
    "# Training"
   ]
  },
  {
   "cell_type": "code",
   "execution_count": 40,
   "metadata": {
    "id": "Y42IQ9Ct-0Tm"
   },
   "outputs": [],
   "source": [
    "# torch.backends.cudnn.enabled = False\n",
    "# CUDA_LAUNCH_BLOCKING=1"
   ]
  },
  {
   "cell_type": "code",
   "execution_count": 41,
   "metadata": {
    "colab": {
     "base_uri": "https://localhost:8080/"
    },
    "id": "BsMhr-mH-0Tm",
    "outputId": "b7594a33-ddd9-4d79-cd5e-fcc612454200"
   },
   "outputs": [
    {
     "name": "stdout",
     "output_type": "stream",
     "text": [
      "Epoch 1/50, Train Loss: 3.0153    Valid Loss: 3.0039, Duration: 0:00:34.449018\n",
      "Epoch 2/50, Train Loss: 2.9960    Valid Loss: 2.9934, Duration: 0:00:34.957257\n",
      "Epoch 4/50, Train Loss: 2.9886    Valid Loss: 2.9883, Duration: 0:00:35.213285\n",
      "Epoch 5/50, Train Loss: 2.9870    Valid Loss: 2.9873, Duration: 0:00:34.858048\n",
      "Epoch 6/50, Train Loss: 2.9855    Valid Loss: 2.9864, Duration: 0:00:35.622981\n",
      "Epoch 7/50, Train Loss: 2.9841    Valid Loss: 2.9851, Duration: 0:00:36.483213\n",
      "Epoch 8/50, Train Loss: 2.9826    Valid Loss: 2.9842, Duration: 0:00:34.611062\n",
      "Epoch 9/50, Train Loss: 2.9812    Valid Loss: 2.9829, Duration: 0:00:34.803885\n",
      "Epoch 10/50, Train Loss: 2.9800    Valid Loss: 2.9822, Duration: 0:00:35.340785\n",
      "Epoch 11/50, Train Loss: 2.9787    Valid Loss: 2.9810, Duration: 0:00:33.565423\n",
      "Epoch 12/50, Train Loss: 2.9772    Valid Loss: 2.9806, Duration: 0:00:36.234378\n",
      "Epoch 13/50, Train Loss: 2.9760    Valid Loss: 2.9795, Duration: 0:00:35.693849\n",
      "Epoch 14/50, Train Loss: 2.9747    Valid Loss: 2.9784, Duration: 0:00:36.611391\n",
      "Epoch 15/50, Train Loss: 2.9735    Valid Loss: 2.9777, Duration: 0:00:35.209941\n",
      "Epoch 16/50, Train Loss: 2.9722    Valid Loss: 2.9772, Duration: 0:00:36.918610\n",
      "Epoch 17/50, Train Loss: 2.9711    Valid Loss: 2.9762, Duration: 0:00:36.379692\n",
      "Epoch 18/50, Train Loss: 2.9698    Valid Loss: 2.9751, Duration: 0:00:36.328614\n",
      "Epoch 19/50, Train Loss: 2.9686    Valid Loss: 2.9741, Duration: 0:00:35.562370\n",
      "Epoch 20/50, Train Loss: 2.9673    Valid Loss: 2.9731, Duration: 0:00:35.199609\n",
      "Epoch 21/50, Train Loss: 2.9661    Valid Loss: 2.9726, Duration: 0:00:36.406576\n",
      "Epoch 22/50, Train Loss: 2.9649    Valid Loss: 2.9714, Duration: 0:00:37.593366\n",
      "Epoch 23/50, Train Loss: 2.9637    Valid Loss: 2.9712, Duration: 0:00:34.957070\n",
      "Epoch 24/50, Train Loss: 2.9625    Valid Loss: 2.9701, Duration: 0:00:35.133446\n",
      "Epoch 25/50, Train Loss: 2.9612    Valid Loss: 2.9690, Duration: 0:00:35.308542\n",
      "Epoch 26/50, Train Loss: 2.9599    Valid Loss: 2.9678, Duration: 0:00:35.046499\n",
      "Epoch 27/50, Train Loss: 2.9588    Valid Loss: 2.9670, Duration: 0:00:35.717672\n",
      "Epoch 28/50, Train Loss: 2.9573    Valid Loss: 2.9665, Duration: 0:00:36.189459\n",
      "Epoch 29/50, Train Loss: 2.9562    Valid Loss: 2.9654, Duration: 0:00:35.699761\n",
      "Epoch 30/50, Train Loss: 2.9549    Valid Loss: 2.9643, Duration: 0:00:33.983811\n",
      "Epoch 31/50, Train Loss: 2.9537    Valid Loss: 2.9635, Duration: 0:00:34.173890\n",
      "Epoch 32/50, Train Loss: 2.9524    Valid Loss: 2.9623, Duration: 0:00:37.192927\n",
      "Epoch 33/50, Train Loss: 2.9511    Valid Loss: 2.9614, Duration: 0:00:35.264548\n",
      "Epoch 34/50, Train Loss: 2.9499    Valid Loss: 2.9606, Duration: 0:00:35.027951\n",
      "Epoch 35/50, Train Loss: 2.9487    Valid Loss: 2.9597, Duration: 0:00:38.186352\n",
      "Epoch 36/50, Train Loss: 2.9472    Valid Loss: 2.9589, Duration: 0:00:35.662726\n",
      "Epoch 37/50, Train Loss: 2.9458    Valid Loss: 2.9582, Duration: 0:00:35.135152\n",
      "Epoch 38/50, Train Loss: 2.9446    Valid Loss: 2.9572, Duration: 0:00:34.010691\n",
      "Epoch 39/50, Train Loss: 2.9431    Valid Loss: 2.9562, Duration: 0:00:34.609829\n",
      "Epoch 40/50, Train Loss: 2.9419    Valid Loss: 2.9552, Duration: 0:00:35.978255\n",
      "Epoch 41/50, Train Loss: 2.9402    Valid Loss: 2.9538, Duration: 0:00:35.038285\n",
      "Epoch 42/50, Train Loss: 2.9389    Valid Loss: 2.9525, Duration: 0:00:35.991826\n",
      "Epoch 43/50, Train Loss: 2.9375    Valid Loss: 2.9517, Duration: 0:00:36.227604\n",
      "Epoch 44/50, Train Loss: 2.9361    Valid Loss: 2.9507, Duration: 0:00:36.172698\n",
      "Epoch 45/50, Train Loss: 2.9345    Valid Loss: 2.9492, Duration: 0:00:36.428517\n",
      "Epoch 46/50, Train Loss: 2.9331    Valid Loss: 2.9481, Duration: 0:00:36.269801\n",
      "Epoch 47/50, Train Loss: 2.9315    Valid Loss: 2.9472, Duration: 0:00:36.152502\n",
      "Epoch 48/50, Train Loss: 2.9301    Valid Loss: 2.9458, Duration: 0:00:35.310076\n",
      "Epoch 49/50, Train Loss: 2.9285    Valid Loss: 2.9452, Duration: 0:00:36.200442\n",
      "Epoch 50/50, Train Loss: 2.9269    Valid Loss: 2.9438, Duration: 0:00:34.865424\n"
     ]
    }
   ],
   "source": [
    "learning_rate = 0.005\n",
    "epochs=50\n",
    "# STEP 5: INSTANTIATE LOSS CLASS\n",
    "criterion = nn.CrossEntropyLoss()\n",
    "\n",
    "# STEP 6: INSTANTIATE OPTIMIZER CLASS\n",
    "\n",
    "optimizer = torch.optim.SGD(model.parameters(), lr=learning_rate)\n",
    "\n",
    "# STEP 7: TRAIN THE MODEL\n",
    "\n",
    "train_losses= np.zeros(epochs)\n",
    "valid_losses= np.zeros(epochs)\n",
    "\n",
    "\n",
    "for epoch in range(epochs):\n",
    "  \n",
    "  t0= datetime.now()\n",
    "  train_loss=[]\n",
    "  \n",
    "  model.train()\n",
    "  for batch in train_iter:\n",
    "   \n",
    "\n",
    "    # forward pass\n",
    "    output= model(batch.data)\n",
    "    loss=criterion(output,batch.label)\n",
    "\n",
    "    # set gradients to zero \n",
    "    optimizer.zero_grad()\n",
    "\n",
    "    # backward pass\n",
    "    loss.backward()\n",
    "    optimizer.step()\n",
    "    train_loss.append(loss.item())\n",
    "  \n",
    "  train_loss=np.mean(train_loss)\n",
    "      \n",
    "  valid_loss=[]\n",
    "  model.eval()\n",
    "  with torch.no_grad():\n",
    "    for batch in valid_iter:\n",
    " \n",
    "      # forward pass\n",
    "      output= model(batch.data)\n",
    "      loss=criterion(output,batch.label)\n",
    "      valid_loss.append(loss.item())\n",
    "\n",
    "    valid_loss=np.mean(valid_loss)\n",
    "  \n",
    "  # save Losses\n",
    "  train_losses[epoch]= train_loss\n",
    "  valid_losses[epoch]= valid_loss\n",
    "  dt= datetime.now()-t0\n",
    "  print(f'Epoch {epoch+1}/{epochs}, Train Loss: {train_loss:.4f}    Valid Loss: {valid_loss:.4f}, Duration: {dt}')"
   ]
  },
  {
   "cell_type": "code",
   "execution_count": 44,
   "metadata": {
    "id": "lkHY2g6wCRS3"
   },
   "outputs": [],
   "source": [
    "torch.save(model.state_dict(), 'hw5_q2_part1.pth')"
   ]
  },
  {
   "cell_type": "code",
   "execution_count": 45,
   "metadata": {
    "id": "Yg9xCva6BTR1"
   },
   "outputs": [],
   "source": [
    "# Accuracy- write a function to get accuracy\n",
    "# use this function to get accuracy and print accuracy\n",
    "def get_accuracy(data_iter, model):\n",
    "  model.eval()\n",
    "  with torch.no_grad():\n",
    "    correct =0 \n",
    "    total =0\n",
    "    \n",
    "    for batch in data_iter:\n",
    "\n",
    "      output=model(batch.data)\n",
    "      _,indices = torch.max(output,dim=1)\n",
    "      correct+= (batch.label==indices).sum().item()\n",
    "      total += batch.label.shape[0]\n",
    "    \n",
    "    acc= correct/total\n",
    "\n",
    "    return acc"
   ]
  },
  {
   "cell_type": "code",
   "execution_count": 46,
   "metadata": {
    "id": "I2sjjDEwE5in"
   },
   "outputs": [],
   "source": [
    "torch.cuda.empty_cache() "
   ]
  },
  {
   "cell_type": "code",
   "execution_count": 47,
   "metadata": {
    "colab": {
     "base_uri": "https://localhost:8080/"
    },
    "id": "lX3yvOP-BUO6",
    "outputId": "b507df42-f34b-4b98-d7e9-5056385bca7b"
   },
   "outputs": [
    {
     "name": "stdout",
     "output_type": "stream",
     "text": [
      "Train acc: 0.1614,\t Valid acc: 0.1258,\t Test acc: 0.1098\n"
     ]
    }
   ],
   "source": [
    "train_acc = get_accuracy(train_iter, model)\n",
    "valid_acc = get_accuracy(valid_iter, model)\n",
    "test_acc = get_accuracy(test_iter ,model)\n",
    "print(f'Train acc: {train_acc:.4f},\\t Valid acc: {valid_acc:.4f},\\t Test acc: {test_acc:.4f}')"
   ]
  }
 ],
 "metadata": {
  "accelerator": "GPU",
  "colab": {
   "collapsed_sections": [],
   "name": "HW5_question2_part1.ipynb",
   "provenance": []
  },
  "kernelspec": {
   "display_name": "Python 3",
   "language": "python",
   "name": "python3"
  },
  "language_info": {
   "codemirror_mode": {
    "name": "ipython",
    "version": 3
   },
   "file_extension": ".py",
   "mimetype": "text/x-python",
   "name": "python",
   "nbconvert_exporter": "python",
   "pygments_lexer": "ipython3",
   "version": "3.8.3"
  }
 },
 "nbformat": 4,
 "nbformat_minor": 1
}
